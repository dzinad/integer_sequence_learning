{
 "cells": [
  {
   "cell_type": "code",
   "execution_count": 108,
   "metadata": {},
   "outputs": [],
   "source": [
    "import numpy as np\n",
    "import pandas as pd\n",
    "import matplotlib.pyplot as plt\n",
    "import warnings\n",
    "warnings.filterwarnings('ignore')"
   ]
  },
  {
   "cell_type": "code",
   "execution_count": 109,
   "metadata": {},
   "outputs": [],
   "source": [
    "data = pd.read_csv('train.csv')"
   ]
  },
  {
   "cell_type": "code",
   "execution_count": 110,
   "metadata": {},
   "outputs": [
    {
     "name": "stdout",
     "output_type": "stream",
     "text": [
      "Total sequences count: 113845\n"
     ]
    }
   ],
   "source": [
    "strs = data['Sequence']\n",
    "sequences = []\n",
    "for line in strs:\n",
    "    sequences.append([int(i) for i in line.split(',')])\n",
    "\n",
    "total = len(sequences)\n",
    "print('Total sequences count: {0}'.format(total))"
   ]
  },
  {
   "cell_type": "markdown",
   "metadata": {},
   "source": [
    "# Исследование датасета"
   ]
  },
  {
   "cell_type": "code",
   "execution_count": 29,
   "metadata": {},
   "outputs": [],
   "source": [
    "def has_property_percent(f):\n",
    "    n = 0\n",
    "    for sequence in sequences:\n",
    "        if (f(sequence)):\n",
    "            n += 1\n",
    "    return (n * 100. / total, n)\n",
    "\n",
    "def print_percentage(f):\n",
    "    percent, num = has_property_percent(f)\n",
    "    print('{0}% ({1})'.format(percent, num))\n",
    "    \n",
    "def print_sequences(f):\n",
    "    for sequence in sequences:\n",
    "        if (f(sequence)):\n",
    "            print(sequence, '\\n')"
   ]
  },
  {
   "cell_type": "code",
   "execution_count": 30,
   "metadata": {},
   "outputs": [],
   "source": [
    "def create_dict_percent(condition):\n",
    "    my_dict = {}\n",
    "    for i in range(0, 100):\n",
    "        my_dict[i] = 0\n",
    "    \n",
    "    for sequence in sequences:\n",
    "        sequence = np.array(sequence)\n",
    "        mask = condition(sequence)\n",
    "        percent_of_appr = len(sequence[mask]) * 100. / len(sequence)\n",
    "        key = int(percent_of_appr)\n",
    "        my_dict[key] += 1\n",
    "    return my_dict\n",
    "\n",
    "def plot_dict(d):\n",
    "    x = np.arange(100)\n",
    "    plt.bar(x, list(d.values()), width = [1] * len(x))\n",
    "    labels = []\n",
    "    for i in range(0, len(x)):\n",
    "        if i % 10 == 0:\n",
    "            labels.append(str(i) + '%')\n",
    "        else:\n",
    "            labels.append('')\n",
    "    plt.xticks(x, labels)\n",
    "    plt.ylabel('number of sequences')\n",
    "    plt.show()   \n",
    "    \n",
    "def explore_by_dict(condition):\n",
    "    plot_dict(create_dict_percent(condition))"
   ]
  },
  {
   "cell_type": "code",
   "execution_count": 31,
   "metadata": {},
   "outputs": [
    {
     "name": "stdout",
     "output_type": "stream",
     "text": [
      "0.01932452018094778% (22)\n"
     ]
    }
   ],
   "source": [
    "# 1. static\n",
    "def is_static(sequence):\n",
    "    return len(np.unique(sequence)) == 1\n",
    "\n",
    "print_percentage(is_static)"
   ]
  },
  {
   "cell_type": "code",
   "execution_count": 32,
   "metadata": {},
   "outputs": [
    {
     "name": "stdout",
     "output_type": "stream",
     "text": [
      "52.321138389916115% (59565)\n"
     ]
    }
   ],
   "source": [
    "# 2. возрастающая (строго)\n",
    "def is_strictly_increasing(sequence):\n",
    "    return np.all(np.diff(sequence) > 0)\n",
    "\n",
    "print_percentage(is_strictly_increasing)"
   ]
  },
  {
   "cell_type": "code",
   "execution_count": 33,
   "metadata": {},
   "outputs": [
    {
     "name": "stdout",
     "output_type": "stream",
     "text": [
      "63.42044007202776% (72201)\n"
     ]
    }
   ],
   "source": [
    "# 3. возрастающая (нестрого)\n",
    "def is_non_strictly_increasing(sequence):\n",
    "    return np.all(np.diff(sequence) >= 0)\n",
    "\n",
    "print_percentage(is_non_strictly_increasing)"
   ]
  },
  {
   "cell_type": "code",
   "execution_count": 34,
   "metadata": {},
   "outputs": [
    {
     "name": "stdout",
     "output_type": "stream",
     "text": [
      "0.20466423646185603% (233)\n"
     ]
    }
   ],
   "source": [
    "# 4. убывающая (строго)\n",
    "def is_strictly_decreasing(sequence):\n",
    "    return np.all(np.diff(sequence) < 0)\n",
    "\n",
    "print_percentage(is_strictly_decreasing)"
   ]
  },
  {
   "cell_type": "code",
   "execution_count": 35,
   "metadata": {},
   "outputs": [
    {
     "name": "stdout",
     "output_type": "stream",
     "text": [
      "0.3838552417760991% (437)\n"
     ]
    }
   ],
   "source": [
    "# 5. убывающая (нестрого)\n",
    "def is_non_strictly_decreasing(sequence):\n",
    "    return np.all(np.diff(sequence) <= 0)\n",
    "\n",
    "print_percentage(is_non_strictly_decreasing)"
   ]
  },
  {
   "cell_type": "code",
   "execution_count": 36,
   "metadata": {},
   "outputs": [
    {
     "name": "stdout",
     "output_type": "stream",
     "text": [
      "52.52053230269226% (59792)\n"
     ]
    }
   ],
   "source": [
    "# 6. монотонная (строго)\n",
    "def is_strictly_monotonic(sequence):\n",
    "    diff = np.diff(sequence)\n",
    "    return np.all(diff > 0) or np.all(diff < 0)\n",
    "\n",
    "print_percentage(is_strictly_monotonic)"
   ]
  },
  {
   "cell_type": "code",
   "execution_count": 37,
   "metadata": {},
   "outputs": [
    {
     "name": "stdout",
     "output_type": "stream",
     "text": [
      "63.78497079362291% (72616)\n"
     ]
    }
   ],
   "source": [
    "# 7. монотонная (нестрого)\n",
    "def is_non_strictly_monotonic(sequence):\n",
    "    diff = np.diff(sequence)\n",
    "    return np.all(diff >= 0) or np.all(diff <= 0)\n",
    "\n",
    "print_percentage(is_non_strictly_monotonic)"
   ]
  },
  {
   "cell_type": "code",
   "execution_count": 38,
   "metadata": {},
   "outputs": [
    {
     "name": "stdout",
     "output_type": "stream",
     "text": [
      "20.659668847995082% (23520)\n"
     ]
    }
   ],
   "source": [
    "# 8. колеблющаяся (процент пар элементов, на которых последовательность возрастает, и пар, на которых убывает, не меньше порогового)\n",
    "def is_oscillating(sequence, threshold = 0.333):\n",
    "    n = len(sequence)\n",
    "    diff = np.diff(sequence)\n",
    "    return (len(diff[diff > 0]) * 1. / n) >= threshold and (len(diff[diff < 0]) * 1. / n) >= threshold\n",
    "\n",
    "print_percentage(is_oscillating)"
   ]
  },
  {
   "cell_type": "code",
   "execution_count": 39,
   "metadata": {},
   "outputs": [
    {
     "data": {
      "image/png": "[encoded data removed]",
      "text/plain": [
       "<Figure size 432x288 with 1 Axes>"
      ]
     },
     "metadata": {},
     "output_type": "display_data"
    }
   ],
   "source": [
    "# 9. классификация по количеству уникальных элементов\n",
    "dict_unique_num = {}\n",
    "for sequence in sequences:\n",
    "    unique_num = len(np.unique(sequence))\n",
    "    prev_num = dict_unique_num.get(unique_num)\n",
    "    if (prev_num is None):\n",
    "        dict_unique_num[unique_num] = 1\n",
    "    else :\n",
    "        dict_unique_num[unique_num] += 1\n",
    "for key in sorted(dict_unique_num):\n",
    "    dict_unique_num[key] = dict_unique_num[key] * 100. / total\n",
    "    \n",
    "plt.bar(range(len(dict_unique_num)), list(dict_unique_num.values()), align = 'center', width = 4)\n",
    "plt.xlabel('number of unique elements in sequence')\n",
    "plt.ylabel('number of sequences, %')\n",
    "plt.show()"
   ]
  },
  {
   "cell_type": "code",
   "execution_count": 40,
   "metadata": {},
   "outputs": [
    {
     "name": "stdout",
     "output_type": "stream",
     "text": [
      "18.172954455619482% (20689)\n"
     ]
    }
   ],
   "source": [
    "# 10. Мало повторов элементов?\n",
    "def number_of_unique_elements_fits_condition(sequence, condition):\n",
    "    return condition(len(np.unique(sequence)))\n",
    "\n",
    "def lots_of_repetitions(sequence, threshold = 0.5):\n",
    "    condition = lambda x : x * 1. / len(sequence) <= threshold\n",
    "    return number_of_unique_elements_fits_condition(sequence, condition)\n",
    "\n",
    "print_percentage(lots_of_repetitions)"
   ]
  },
  {
   "cell_type": "code",
   "execution_count": 41,
   "metadata": {},
   "outputs": [
    {
     "name": "stdout",
     "output_type": "stream",
     "text": [
      "59.68553735341912% (67949)\n"
     ]
    }
   ],
   "source": [
    "# 11. Нет повторов элементов? \n",
    "def no_repetitions(sequence):\n",
    "    condition = lambda x : x== len(sequence)\n",
    "    return number_of_unique_elements_fits_condition(sequence, condition)\n",
    "\n",
    "print_percentage(no_repetitions)"
   ]
  },
  {
   "cell_type": "code",
   "execution_count": 42,
   "metadata": {},
   "outputs": [
    {
     "name": "stdout",
     "output_type": "stream",
     "text": [
      "0.31534103386182966% (359)\n"
     ]
    }
   ],
   "source": [
    "# 12. арифметическая прогрессия\n",
    "def is_arithmetic_progression(sequence):\n",
    "    return len(np.unique(np.diff(sequence))) == 1\n",
    "\n",
    "print_percentage(is_arithmetic_progression)"
   ]
  },
  {
   "cell_type": "code",
   "execution_count": 43,
   "metadata": {},
   "outputs": [
    {
     "name": "stdout",
     "output_type": "stream",
     "text": [
      "0.1405419649523475% (160)\n"
     ]
    }
   ],
   "source": [
    "# 13. геометрическая прогрессия\n",
    "def is_geometric_progression(sequence):\n",
    "    if (0 in sequence or len(sequence) < 2):\n",
    "        return False\n",
    "    q = sequence[1] * 1. / sequence[0]\n",
    "    for i in range(2, len(sequence)):\n",
    "        if sequence[i] * 1. / sequence[i - 1] != q:\n",
    "            return False\n",
    "    return True\n",
    "\n",
    "print_percentage(is_geometric_progression)"
   ]
  },
  {
   "cell_type": "code",
   "execution_count": 44,
   "metadata": {},
   "outputs": [
    {
     "data": {
      "image/png": "[encoded data removed]",
      "text/plain": [
       "<Figure size 432x288 with 1 Axes>"
      ]
     },
     "metadata": {},
     "output_type": "display_data"
    }
   ],
   "source": [
    "# 14. классификация по количеству элементов\n",
    "dict_num = {}\n",
    "for sequence in sequences:\n",
    "    num = len(sequence)\n",
    "    prev_num = dict_num.get(num)\n",
    "    if (prev_num is None):\n",
    "        dict_num[num] = 1\n",
    "    else :\n",
    "        dict_num[num] += 1\n",
    "for key in sorted(dict_num):\n",
    "    dict_num[key] = dict_num[key] * 100. / total\n",
    "    \n",
    "plt.bar(range(len(dict_num)), list(dict_num.values()), align = 'center', width = 4)\n",
    "plt.xlabel('length of sequence')\n",
    "plt.ylabel('number of sequences, %')\n",
    "plt.show()"
   ]
  },
  {
   "cell_type": "code",
   "execution_count": 45,
   "metadata": {},
   "outputs": [
    {
     "name": "stdout",
     "output_type": "stream",
     "text": [
      "Mode < 0:  2.2267117572137556 %\n",
      "Mode > 0:  97.55456980982915 %\n",
      "Mode = 0:  0.21871843295709079 %\n"
     ]
    },
    {
     "data": {
      "image/png": "[encoded data removed]",
      "text/plain": [
       "<Figure size 432x288 with 1 Axes>"
      ]
     },
     "metadata": {},
     "output_type": "display_data"
    }
   ],
   "source": [
    "# 15. классификация по среднему значению\n",
    "avs = []\n",
    "for sequence in sequences:\n",
    "    avs.append(np.mean(sequence))\n",
    "avs = np.array(avs)   \n",
    "\n",
    "print('Mode < 0: ', len(avs[avs < 0]) * 100. / total, '%')\n",
    "print('Mode > 0: ', len(avs[avs > 0]) * 100. / total, '%')\n",
    "print('Mode = 0: ', len(avs[avs == 0]) * 100. / total, '%')\n",
    "\n",
    "av_in_range = []\n",
    "av_in_range.append(len(avs[avs < -1000000000]))\n",
    "mask = (avs >= -1000000000) & (avs < -1000)\n",
    "av_in_range.append(len(avs[mask]))\n",
    "mask = (avs >= -1000) & (avs <= 1000)\n",
    "av_in_range.append(len(avs[mask]))\n",
    "mask = (avs > 1000) & (avs <= 1000000000)\n",
    "av_in_range.append(len(avs[mask]))\n",
    "av_in_range.append(len(avs[avs > 1000000000]))\n",
    "\n",
    "x = np.arange(5)\n",
    "plt.bar(x, height = list(av_in_range), width = 0.3)\n",
    "plt.xticks(x, ['[-inf; -10^9)', '[-10^9; -1000)', '[-1000; 1000]', '(1000; 10^9]', '(10^9; +inf]'])\n",
    "plt.ylabel('number of sequences with mode in range')\n",
    "plt.show()"
   ]
  },
  {
   "cell_type": "code",
   "execution_count": 46,
   "metadata": {},
   "outputs": [
    {
     "data": {
      "image/png": "[encoded data removed]",
      "text/plain": [
       "<Figure size 432x288 with 1 Axes>"
      ]
     },
     "metadata": {},
     "output_type": "display_data"
    }
   ],
   "source": [
    "# 16. классификация по среднеквадратичному отклонению\n",
    "stds = []\n",
    "\n",
    "for sequence in sequences:\n",
    "    stds.append(np.std(sequence))\n",
    "stds = np.array(stds)\n",
    "\n",
    "stds_in_range = []\n",
    "stds_in_range.append(len(stds[stds < 5]))\n",
    "mask = (stds >= 5) & (stds < 15)\n",
    "stds_in_range.append(len(stds[mask]))\n",
    "mask = (stds >= 15) & (stds < 50)\n",
    "stds_in_range.append(len(stds[mask]))\n",
    "mask = (stds >= 50) & (stds < 200)\n",
    "stds_in_range.append(len(stds[mask]))\n",
    "mask = (stds >= 200) & (stds < 1000)\n",
    "stds_in_range.append(len(stds[mask]))\n",
    "stds_in_range.append(len(stds[stds >= 1000]))\n",
    "\n",
    "x = np.arange(6)\n",
    "plt.bar(x, height = list(stds_in_range), width = 0.3)\n",
    "plt.xticks(x, ['[0; 5)', '[5; 15)', '[15; 50)', '[50; 200)', '[200; 1000)', '[1000; +inf)'])\n",
    "plt.ylabel('number of sequences with std in range')\n",
    "plt.show()"
   ]
  },
  {
   "cell_type": "code",
   "execution_count": 47,
   "metadata": {},
   "outputs": [
    {
     "name": "stdout",
     "output_type": "stream",
     "text": [
      "8.855900566559797% (10082)\n"
     ]
    }
   ],
   "source": [
    "# 17. Есть ли у элементов НОД > 1?\n",
    "from math import gcd\n",
    "def is_gcd_greater_than_1(sequence):\n",
    "    if (len(sequence) < 2):\n",
    "        return False\n",
    "    cur_gcd = gcd(sequence[0], sequence[1])\n",
    "    for i in range(2, len(sequence)):\n",
    "        cur_gcd = gcd(cur_gcd, sequence[i])\n",
    "        if cur_gcd == 1:\n",
    "            return False\n",
    "    return cur_gcd > 1\n",
    "\n",
    "print_percentage(is_gcd_greater_than_1)"
   ]
  },
  {
   "cell_type": "code",
   "execution_count": 48,
   "metadata": {},
   "outputs": [
    {
     "name": "stdout",
     "output_type": "stream",
     "text": [
      "72.20079933242566% (82197)\n"
     ]
    }
   ],
   "source": [
    "# 18. Все элементы > 0\n",
    "def are_all_positive(sequence):\n",
    "    sequence = np.array(sequence)\n",
    "    return np.all(sequence > 0)\n",
    "\n",
    "print_percentage(are_all_positive)"
   ]
  },
  {
   "cell_type": "code",
   "execution_count": 49,
   "metadata": {},
   "outputs": [
    {
     "name": "stdout",
     "output_type": "stream",
     "text": [
      "0.021081294742852124% (24)\n"
     ]
    }
   ],
   "source": [
    "# 19. Все элементы < 0\n",
    "def are_all_negative(sequence):\n",
    "    sequence = np.array(sequence)\n",
    "    return np.all(sequence < 0)\n",
    "\n",
    "print_percentage(are_all_negative)"
   ]
  },
  {
   "cell_type": "code",
   "execution_count": 50,
   "metadata": {},
   "outputs": [
    {
     "name": "stdout",
     "output_type": "stream",
     "text": [
      "94.36514559269182% (107430)\n"
     ]
    }
   ],
   "source": [
    "# 20. Все элементы >= 0\n",
    "def are_all_non_negative(sequence):\n",
    "    sequence = np.array(sequence)\n",
    "    return np.all(sequence >= 0)\n",
    "\n",
    "print_percentage(are_all_non_negative)"
   ]
  },
  {
   "cell_type": "code",
   "execution_count": 51,
   "metadata": {},
   "outputs": [
    {
     "name": "stdout",
     "output_type": "stream",
     "text": [
      "0.050068075014273794% (57)\n"
     ]
    }
   ],
   "source": [
    "# 21. Все элементы <= 0\n",
    "def are_all_non_positive(sequence):\n",
    "    sequence = np.array(sequence)\n",
    "    return np.all(sequence <= 0)\n",
    "\n",
    "print_percentage(are_all_non_positive)"
   ]
  },
  {
   "cell_type": "code",
   "execution_count": 52,
   "metadata": {},
   "outputs": [
    {
     "data": {
      "image/png": "[encoded data removed]",
      "text/plain": [
       "<Figure size 432x288 with 1 Axes>"
      ]
     },
     "metadata": {},
     "output_type": "display_data"
    }
   ],
   "source": [
    "# 22. Процент нулей\n",
    "explore_by_dict(lambda seq: seq == 0)"
   ]
  },
  {
   "cell_type": "code",
   "execution_count": 53,
   "metadata": {},
   "outputs": [
    {
     "data": {
      "image/png": "[encoded data removed]",
      "text/plain": [
       "<Figure size 432x288 with 1 Axes>"
      ]
     },
     "metadata": {},
     "output_type": "display_data"
    }
   ],
   "source": [
    "# 23. Процент единиц\n",
    "explore_by_dict(lambda seq: seq == 1)"
   ]
  },
  {
   "cell_type": "code",
   "execution_count": 54,
   "metadata": {},
   "outputs": [
    {
     "data": {
      "image/png": "[encoded data removed]",
      "text/plain": [
       "<Figure size 432x288 with 1 Axes>"
      ]
     },
     "metadata": {},
     "output_type": "display_data"
    }
   ],
   "source": [
    "# 24. Процент минус единиц\n",
    "explore_by_dict(lambda seq: seq == -1)"
   ]
  },
  {
   "cell_type": "code",
   "execution_count": 55,
   "metadata": {},
   "outputs": [
    {
     "name": "stdout",
     "output_type": "stream",
     "text": [
      "8.950766392902631% (10190)\n"
     ]
    }
   ],
   "source": [
    "# 25. Содержит все элементы между min и max\n",
    "def contains_all_elements(sequence):\n",
    "    return len(np.unique(sequence)) == max(sequence) - min(sequence) + 1\n",
    "\n",
    "print_percentage(contains_all_elements)"
   ]
  },
  {
   "cell_type": "code",
   "execution_count": 56,
   "metadata": {},
   "outputs": [
    {
     "name": "stdout",
     "output_type": "stream",
     "text": [
      "7.562914488998199% (8610)\n"
     ]
    }
   ],
   "source": [
    "# 26. Содержит только однозначные числа\n",
    "def contains_only_digits(sequence):\n",
    "    unique_elements = np.unique(sequence)\n",
    "    if len(unique_elements) > 10:\n",
    "        return False\n",
    "    for x in unique_elements:\n",
    "        if x < 0 or x > 9:\n",
    "            return False\n",
    "    return True\n",
    "\n",
    "print_percentage(contains_only_digits)"
   ]
  },
  {
   "cell_type": "code",
   "execution_count": 40,
   "metadata": {},
   "outputs": [
    {
     "name": "stdout",
     "output_type": "stream",
     "text": [
      "25.39154113048443% (28907)\n",
      "0.26263779700469936% of sequences could not be analyzed\n"
     ]
    }
   ],
   "source": [
    "# 27. Элементы последовательности нормально распределены\n",
    "from scipy.stats import normaltest\n",
    "\n",
    "alpha = 0.001\n",
    "errors = 0\n",
    "\n",
    "def is_normal(sequence):\n",
    "    if len(sequence) < 8:\n",
    "        return False\n",
    "    try: \n",
    "        stat, p = normaltest(sequence)\n",
    "        return p > alpha\n",
    "    except:\n",
    "        global errors\n",
    "        errors += 1\n",
    "        return False\n",
    "    \n",
    "print_percentage(is_normal)\n",
    "print('{0}% of sequences could not be analyzed'.format(errors * 100. / total))"
   ]
  },
  {
   "cell_type": "markdown",
   "metadata": {},
   "source": [
    "# Алгоритмы, работающие с конкретным типом последовательности "
   ]
  },
  {
   "cell_type": "markdown",
   "metadata": {},
   "source": [
    "1. Все нули"
   ]
  },
  {
   "cell_type": "code",
   "execution_count": 9,
   "metadata": {},
   "outputs": [],
   "source": [
    "test_data = pd.read_csv('test.csv')\n",
    "ids = np.array(data['Id'])"
   ]
  },
  {
   "cell_type": "code",
   "execution_count": null,
   "metadata": {},
   "outputs": [],
   "source": [
    "strs = test_data['Sequence']\n",
    "test_sequences = []\n",
    "for line in strs:\n",
    "    test_sequences.append([int(i) for i in line.split(',')])"
   ]
  },
  {
   "cell_type": "code",
   "execution_count": 43,
   "metadata": {},
   "outputs": [],
   "source": [
    "with open('submission1.csv', 'w') as f:\n",
    "    f.write('Id,Last\\n')\n",
    "    for x in ids:\n",
    "        f.write('%d,%d\\n' % (x, 0))"
   ]
  },
  {
   "cell_type": "markdown",
   "metadata": {},
   "source": [
    "2. Арифметические и геометрические прогрессии"
   ]
  },
  {
   "cell_type": "code",
   "execution_count": 11,
   "metadata": {},
   "outputs": [],
   "source": [
    "def handle_arithmetic_progression(sequence):\n",
    "    if len(sequence) <= 1:\n",
    "        return None\n",
    "    if is_arithmetic_progression(sequence):\n",
    "        last = len(sequence) - 1\n",
    "        d = sequence[last] - sequence[last - 1]\n",
    "        return sequence[last] + d    \n",
    "    else:\n",
    "        return None\n",
    "\n",
    "def handle_geometric_progression(sequence):\n",
    "    if len(sequence) <= 1:\n",
    "        return None\n",
    "    if is_geometric_progression(sequence):\n",
    "        last = len(sequence) - 1\n",
    "        r = round(sequence[last] * sequence[last] // sequence[last - 1])\n",
    "        return r\n",
    "    else:\n",
    "        return None"
   ]
  },
  {
   "cell_type": "code",
   "execution_count": 46,
   "metadata": {},
   "outputs": [],
   "source": [
    "predicted = [0] * len(ids)\n",
    "for i, sequence in enumerate(test_sequences):\n",
    "    pr = handle_arithmetic_progression(sequence)\n",
    "    if pr is not None:\n",
    "        predicted[i] = pr\n",
    "    else:\n",
    "        pr = handle_geometric_progression(sequence)\n",
    "        if pr is not None:\n",
    "            predicted[i] = pr"
   ]
  },
  {
   "cell_type": "code",
   "execution_count": 47,
   "metadata": {},
   "outputs": [],
   "source": [
    "with open('submission2.csv', 'w') as f:\n",
    "    f.write('Id,Last\\n')\n",
    "    for i, x in enumerate(predicted):\n",
    "        f.write('%d,%d\\n' % (ids[i], x))"
   ]
  },
  {
   "cell_type": "markdown",
   "metadata": {},
   "source": [
    "3. Рекуррентные соотношения второго - четвертого порядков"
   ]
  },
  {
   "cell_type": "code",
   "execution_count": 12,
   "metadata": {},
   "outputs": [],
   "source": [
    "from numpy import linalg as la\n",
    "\n",
    "def handle_linear_recurrence(sequence, order):\n",
    "    if len(sequence) <= 2 * order:\n",
    "        return None\n",
    "    a = []\n",
    "    for i in range(0, order):\n",
    "        a.append(sequence[i:order + i])\n",
    "    b = sequence[order:2*order]\n",
    "    try:\n",
    "        c = la.solve(a, b)\n",
    "    except:\n",
    "        return None\n",
    "    for i in range(order, len(sequence) - order):\n",
    "        if np.dot(c, sequence[i:order + i]) != sequence[order + i]:\n",
    "            return None\n",
    "    return np.dot(c, sequence[-order:])"
   ]
  },
  {
   "cell_type": "code",
   "execution_count": 49,
   "metadata": {},
   "outputs": [],
   "source": [
    "predicted = [0] * len(ids)\n",
    "for i, sequence in enumerate(test_sequences):\n",
    "    pr = handle_arithmetic_progression(sequence)\n",
    "    if pr is not None:\n",
    "        predicted[i] = pr\n",
    "    else:\n",
    "        pr = handle_geometric_progression(sequence)\n",
    "        if pr is not None:\n",
    "            predicted[i] = pr\n",
    "        else:\n",
    "            pr = handle_linear_recurrence(sequence, 2)\n",
    "            if pr is not None:\n",
    "                predicted[i] = pr\n",
    "            else:\n",
    "                pr = handle_linear_recurrence(sequence, 3)\n",
    "                if pr is not None:\n",
    "                    predicted[i] = pr\n",
    "                else:\n",
    "                    pr = handle_linear_recurrence(sequence, 4)\n",
    "                    if pr is not None:\n",
    "                        predicted[i] = pr"
   ]
  },
  {
   "cell_type": "code",
   "execution_count": 50,
   "metadata": {},
   "outputs": [],
   "source": [
    "with open('submission3.csv', 'w') as f:\n",
    "    f.write('Id,Last\\n')\n",
    "    for i, x in enumerate(predicted):\n",
    "        f.write('%d,%d\\n' % (ids[i], x))"
   ]
  },
  {
   "cell_type": "markdown",
   "metadata": {},
   "source": [
    "4. Рекуррентные соотношения всех возможных порядков"
   ]
  },
  {
   "cell_type": "code",
   "execution_count": 51,
   "metadata": {},
   "outputs": [],
   "source": [
    "predicted = [0] * len(ids)\n",
    "for i, sequence in enumerate(test_sequences):\n",
    "    pr = handle_arithmetic_progression(sequence)\n",
    "    if pr is not None:\n",
    "        predicted[i] = pr\n",
    "    else:\n",
    "        pr = handle_geometric_progression(sequence)\n",
    "        if pr is not None:\n",
    "            predicted[i] = pr\n",
    "        else:\n",
    "            for q in range(2, len(sequence) // 2):\n",
    "                pr = handle_linear_recurrence(sequence, q)\n",
    "                if pr is not None:\n",
    "                    predicted[i] = pr\n",
    "                    break"
   ]
  },
  {
   "cell_type": "code",
   "execution_count": 52,
   "metadata": {},
   "outputs": [],
   "source": [
    "with open('submission4.csv', 'w') as f:\n",
    "    f.write('Id,Last\\n')\n",
    "    for i, x in enumerate(predicted):\n",
    "        f.write('%d,%d\\n' % (ids[i], x))"
   ]
  },
  {
   "cell_type": "markdown",
   "metadata": {},
   "source": [
    "5. Интерполяция по Ньютону"
   ]
  },
  {
   "cell_type": "code",
   "execution_count": 13,
   "metadata": {},
   "outputs": [],
   "source": [
    "def newton_interpolation(sequence, order):\n",
    "    if (len(sequence) <= order + 1):\n",
    "        return None\n",
    "    h = 1\n",
    "    \n",
    "    #count coeffs\n",
    "    div_diff_old = sequence[:order + 1].copy()\n",
    "    div_diff_new = []\n",
    "    c = [sequence[0]]\n",
    "    for i in range(0, order):\n",
    "        div_diff_new = []\n",
    "        for j in range(0, order - i):\n",
    "            div_diff_new.append(div_diff_old[j + 1] - div_diff_old[j])\n",
    "        div_diff_old = div_diff_new.copy()\n",
    "        c.append(div_diff_new[0] / np.math.factorial(i + 1))\n",
    "    if (c[len(c) - 1] == 0):\n",
    "        return None\n",
    "        \n",
    "    #check other points and predict next if everything is ok\n",
    "    for i in range(order, len(sequence) + 1):\n",
    "        next_point = 0\n",
    "        q = (i + 1 - 1) / h\n",
    "        for j in range(0, len(c)):\n",
    "            mn = 1\n",
    "            for k in range(0, j):\n",
    "                mn *= q - k\n",
    "            next_point += c[j] * mn\n",
    "        if i == len(sequence):\n",
    "            return next_point\n",
    "        if next_point != sequence[i]:\n",
    "            return None"
   ]
  },
  {
   "cell_type": "code",
   "execution_count": null,
   "metadata": {},
   "outputs": [],
   "source": [
    "predicted = [0] * len(ids)\n",
    "for i, sequence in enumerate(test_sequences):\n",
    "    pr = handle_arithmetic_progression(sequence)\n",
    "    if pr is not None:\n",
    "        predicted[i] = pr\n",
    "    else:\n",
    "        pr = handle_geometric_progression(sequence)\n",
    "        if pr is not None:\n",
    "            predicted[i] = pr\n",
    "        else:\n",
    "            found_model = False\n",
    "            for q in range(2, len(sequence) // 2):\n",
    "                pr = handle_linear_recurrence(sequence, q)\n",
    "                if pr is not None:\n",
    "                    predicted[i] = pr\n",
    "                    found_model = True\n",
    "                    break\n",
    "            if found_model == True:\n",
    "                continue\n",
    "            found_model = False\n",
    "            for order in range(1, 10):\n",
    "                pr = newton_interpolation(sequence, order)\n",
    "                if pr is not None:\n",
    "                    predicted[i] = pr\n",
    "                    found_model = True\n",
    "                    break"
   ]
  },
  {
   "cell_type": "code",
   "execution_count": null,
   "metadata": {},
   "outputs": [],
   "source": [
    "with open('submission5.csv', 'w') as f:\n",
    "    f.write('Id,Last\\n')\n",
    "    for i, x in enumerate(predicted):\n",
    "        f.write('%d,%d\\n' % (ids[i], x))"
   ]
  },
  {
   "cell_type": "markdown",
   "metadata": {},
   "source": [
    "6. Десятичное представление числа вида 1/m"
   ]
  },
  {
   "cell_type": "code",
   "execution_count": 14,
   "metadata": {},
   "outputs": [],
   "source": [
    "def divide_accurately(numerator, denominator, accuracy):\n",
    "    numerator *= 10 ** (accuracy + 1)\n",
    "    fract = numerator // denominator\n",
    "    digits_after_point = []\n",
    "    while fract > 0:\n",
    "        digits_after_point.append(fract % 10)\n",
    "        fract = fract // 10\n",
    "    for i in range(len(digits_after_point), accuracy + 1):\n",
    "        digits_after_point.append(0)\n",
    "    digits_after_point = np.fliplr([np.array(digits_after_point)])[0]\n",
    "    return digits_after_point\n",
    "        \n",
    "\n",
    "def get_possible_int(sequence):\n",
    "    denominator = 0\n",
    "    mn = 1\n",
    "    eps = 0.000001\n",
    "    for x in sequence:\n",
    "        mn *= 0.1\n",
    "        denominator += mn * x\n",
    "    if np.abs((1 / denominator) - round(1 / denominator)) < eps:\n",
    "        return round(1 / denominator)\n",
    "    return None\n",
    "\n",
    "def handle_decimal_expansion(sequence):\n",
    "    if (len(sequence) <= 2):\n",
    "        return None\n",
    "    if (contains_only_digits(sequence) == False):\n",
    "        return None\n",
    "    possible_int = get_possible_int(sequence)\n",
    "    if possible_int is None:\n",
    "        return None\n",
    "    possible_float = divide_accurately(1, possible_int, len(sequence) + 2)\n",
    "    for i, x in enumerate(sequence):\n",
    "        if x != possible_float[i]:\n",
    "            return None\n",
    "    return possible_float[len(sequence)]"
   ]
  },
  {
   "cell_type": "code",
   "execution_count": null,
   "metadata": {},
   "outputs": [],
   "source": [
    "predicted = [0] * len(ids)\n",
    "for i, sequence in enumerate(test_sequences):\n",
    "    pr = handle_arithmetic_progression(sequence)\n",
    "    if pr is not None:\n",
    "        predicted[i] = pr\n",
    "    else:\n",
    "        pr = handle_geometric_progression(sequence)\n",
    "        if pr is not None:\n",
    "            predicted[i] = pr\n",
    "        else:\n",
    "            found_model = False\n",
    "            for q in range(2, len(sequence) // 2):\n",
    "                pr = handle_linear_recurrence(sequence, q)\n",
    "                if pr is not None:\n",
    "                    predicted[i] = pr\n",
    "                    found_model = True\n",
    "                    break\n",
    "            if found_model == True:\n",
    "                continue\n",
    "            found_model = False\n",
    "            for order in range(1, 10):\n",
    "                pr = newton_interpolation(sequence, order)\n",
    "                if pr is not None:\n",
    "                    predicted[i] = pr\n",
    "                    found_model = True\n",
    "                    break\n",
    "            if found_model == True:\n",
    "                continue\n",
    "            found_model = False\n",
    "            pr = handle_decimal_expansion(sequence)\n",
    "            if pr is not None:\n",
    "                predicted[i] = pr"
   ]
  },
  {
   "cell_type": "code",
   "execution_count": null,
   "metadata": {},
   "outputs": [],
   "source": [
    "with open('submission6.csv', 'w') as f:\n",
    "    f.write('Id,Last\\n')\n",
    "    for i, x in enumerate(predicted):\n",
    "        f.write('%d,%d\\n' % (ids[i], x))"
   ]
  },
  {
   "cell_type": "markdown",
   "metadata": {},
   "source": [
    "7. Частичные суммы"
   ]
  },
  {
   "cell_type": "code",
   "execution_count": 15,
   "metadata": {},
   "outputs": [],
   "source": [
    "def handle_partial_sums(sequence):\n",
    "    if len(sequence) == 0:\n",
    "        return None\n",
    "    initial_sequence = np.hstack((np.array(sequence[0]), np.diff(sequence)))\n",
    "    next_element = apply_determinate_algorithms(initial_sequence)\n",
    "    if next_element is None:\n",
    "        return None\n",
    "    return sequence[-1] + next_element"
   ]
  },
  {
   "cell_type": "code",
   "execution_count": 16,
   "metadata": {},
   "outputs": [],
   "source": [
    "def apply_determinate_algorithms(sequence):\n",
    "    pr = handle_arithmetic_progression(sequence)\n",
    "    if pr is not None:\n",
    "        return pr\n",
    "    else:\n",
    "        pr = handle_geometric_progression(sequence)\n",
    "        if pr is not None:\n",
    "            return pr\n",
    "        else:\n",
    "            found_model = False\n",
    "            for q in range(2, len(sequence) // 2):\n",
    "                pr = handle_linear_recurrence(sequence, q)\n",
    "                if pr is not None:\n",
    "                    return pr\n",
    "            for order in range(1, 10):\n",
    "                pr = newton_interpolation(sequence, order)\n",
    "                if pr is not None:\n",
    "                    return pr\n",
    "            pr = handle_decimal_expansion(sequence)\n",
    "            if pr is not None:\n",
    "                return pr\n",
    "    return None"
   ]
  },
  {
   "cell_type": "code",
   "execution_count": null,
   "metadata": {},
   "outputs": [],
   "source": [
    "predicted = [None] * len(ids)\n",
    "for i, sequence in enumerate(test_sequences):\n",
    "    predicted[i] = apply_determinate_algorithms(sequence)\n",
    "    if predicted[i] is None:\n",
    "        predicted[i] = handle_partial_sums(sequence)"
   ]
  },
  {
   "cell_type": "code",
   "execution_count": null,
   "metadata": {},
   "outputs": [],
   "source": [
    "with open('submission7.csv', 'w') as f:\n",
    "    f.write('Id,Last\\n')\n",
    "    for i, x in enumerate(predicted):\n",
    "        f.write('%d,%d\\n' % (ids[i], x))"
   ]
  },
  {
   "cell_type": "markdown",
   "metadata": {},
   "source": [
    "# Марковы цепи"
   ]
  },
  {
   "cell_type": "code",
   "execution_count": 15,
   "metadata": {},
   "outputs": [],
   "source": [
    "def markov(depth):\n",
    "    for cur_depth in range(0, depth + 1):\n",
    "        distributions = {}\n",
    "        most_possibles = {}\n",
    "        for sequence in np.hstack((sequences, test_sequences)):\n",
    "            for i in range(0, len(sequence) - cur_depth):\n",
    "                cur_tuple_prefix = tuple(sequence[i:(i + cur_depth)])\n",
    "                next_item = sequence[i + cur_depth]\n",
    "                if cur_tuple_prefix in distributions:\n",
    "                    distribution = distributions[cur_tuple_prefix]\n",
    "                    if next_item in distribution:\n",
    "                        distribution[next_item] += 1\n",
    "                    else:\n",
    "                        distribution[next_item] = 1                        \n",
    "                else:\n",
    "                    distributions[cur_tuple_prefix] = {next_item: 1}\n",
    "        for (prefix, distribution) in distributions.items():\n",
    "            most_possibles[prefix] = max(distribution.items(), key=lambda entry : entry[1])[0]\n",
    "        np.save('most_possibles{0}'.format(cur_depth), most_possibles)"
   ]
  },
  {
   "cell_type": "code",
   "execution_count": 18,
   "metadata": {},
   "outputs": [],
   "source": [
    "def handle_markov(sequence, depth, most_possibles):\n",
    "    length = len(sequence)\n",
    "    if length >= depth:\n",
    "        prefix = tuple(sequence[(length - depth):])\n",
    "        if prefix in most_possibles:\n",
    "            return most_possibles[prefix]\n",
    "    return None"
   ]
  },
  {
   "cell_type": "code",
   "execution_count": 57,
   "metadata": {},
   "outputs": [],
   "source": [
    "depth = 30\n",
    "markov(depth)"
   ]
  },
  {
   "cell_type": "code",
   "execution_count": 58,
   "metadata": {},
   "outputs": [],
   "source": [
    "predicted = [None] * len(ids)\n",
    "for i, sequence in enumerate(test_sequences):\n",
    "    predicted[i] = apply_determinate_algorithms(sequence)\n",
    "    if predicted[i] is None:\n",
    "        predicted[i] = handle_partial_sums(sequence)\n",
    "for cur_depth in range(depth, -1, -1):\n",
    "    most_possibles = np.load('most_possibles{0}.npy'.format(cur_depth)).item()\n",
    "    for i, sequence in enumerate(test_sequences):\n",
    "        if predicted[i] is None:\n",
    "            predicted[i] = handle_markov(sequence, cur_depth, most_possibles)\n",
    "for i, x in enumerate(predicted):\n",
    "    if x is None:\n",
    "        predicted[i] = 0"
   ]
  },
  {
   "cell_type": "code",
   "execution_count": 81,
   "metadata": {},
   "outputs": [],
   "source": [
    "with open('submission8.csv', 'w') as f:\n",
    "    f.write('Id,Last\\n')\n",
    "    for i, x in enumerate(predicted):\n",
    "        f.write('%d,%d\\n' % (ids[i], x))"
   ]
  },
  {
   "cell_type": "markdown",
   "metadata": {},
   "source": [
    "# Нейронные сети"
   ]
  },
  {
   "cell_type": "code",
   "execution_count": 202,
   "metadata": {},
   "outputs": [],
   "source": [
    "import keras"
   ]
  },
  {
   "cell_type": "code",
   "execution_count": 203,
   "metadata": {},
   "outputs": [],
   "source": [
    "from keras.models import Sequential\n",
    "from keras.layers import Dense, Activation, Dropout"
   ]
  },
  {
   "cell_type": "code",
   "execution_count": 287,
   "metadata": {},
   "outputs": [],
   "source": [
    "test_data = pd.read_csv('test.csv')\n",
    "ids = np.array(test_data['Id'])\n",
    "strs = test_data['Sequence']\n",
    "test_sequences = []\n",
    "for line in strs:\n",
    "    test_sequences.append([int(i) for i in line.split(',')])"
   ]
  },
  {
   "cell_type": "code",
   "execution_count": 205,
   "metadata": {},
   "outputs": [],
   "source": [
    "dim = 10"
   ]
  },
  {
   "cell_type": "code",
   "execution_count": 273,
   "metadata": {},
   "outputs": [],
   "source": [
    "model = Sequential()\n",
    "model.add(Dense(5, activation='relu', input_dim=dim))\n",
    "model.add(Dropout(0.5))\n",
    "model.add(Dense(1, activation='sigmoid'))"
   ]
  },
  {
   "cell_type": "code",
   "execution_count": 314,
   "metadata": {},
   "outputs": [],
   "source": [
    "def baseline_model():\n",
    "    model = Sequential()\n",
    "#     model.add(Dense(5, activation='relu', input_dim=dim))\n",
    "#     model.add(Dropout(0.5))\n",
    "    model.add(Dense(1))\n",
    "    model.compile(optimizer='sgd',\n",
    "              loss='mean_squared_logarithmic_error',\n",
    "              metrics=['accuracy'],\n",
    "             )\n",
    "    return model"
   ]
  },
  {
   "cell_type": "code",
   "execution_count": 274,
   "metadata": {},
   "outputs": [],
   "source": [
    "model.compile(optimizer='sgd',\n",
    "              loss='mean_squared_logarithmic_error',\n",
    "              metrics=['accuracy'],\n",
    "             )"
   ]
  },
  {
   "cell_type": "code",
   "execution_count": 117,
   "metadata": {},
   "outputs": [],
   "source": [
    "x_train = []\n",
    "y_train = []\n",
    "for sequence in sequences:\n",
    "    for i in range(0, len(sequence) - dim - 1):\n",
    "        x_train.append(sequence[i:i+10])\n",
    "        y_train.append(sequence[i+10])"
   ]
  },
  {
   "cell_type": "code",
   "execution_count": 118,
   "metadata": {},
   "outputs": [],
   "source": [
    "x_train = np.array(x_train)\n",
    "y_train = np.array(y_train)\n",
    "# from sklearn.preprocessing import MinMaxScaler\n",
    "# sc = MinMaxScaler()\n",
    "# x_train = sc.fit_transform(x_train)\n",
    "# y_train = sc.fit_transform(y_train.reshape(-1, 1))"
   ]
  },
  {
   "cell_type": "code",
   "execution_count": 280,
   "metadata": {},
   "outputs": [],
   "source": [
    "indices = np.random.choice(np.arange(len(x_train_small)), size = len(x_train_small) // 10)\n",
    "x_train_very_small = x_train_small[indices]\n",
    "y_train_very_small = y_train_small[indices]"
   ]
  },
  {
   "cell_type": "code",
   "execution_count": 281,
   "metadata": {},
   "outputs": [
    {
     "name": "stdout",
     "output_type": "stream",
     "text": [
      "Epoch 1/5\n",
      "334688/334688 [==============================] - 40s 120us/step - loss: 35.1309 - acc: 0.0779\n",
      "Epoch 2/5\n",
      "334688/334688 [==============================] - 37s 109us/step - loss: 35.0623 - acc: 0.0780\n",
      "Epoch 3/5\n",
      "334688/334688 [==============================] - 37s 110us/step - loss: 35.0328 - acc: 0.0773\n",
      "Epoch 4/5\n",
      "334688/334688 [==============================] - 37s 110us/step - loss: 35.0243 - acc: 0.0772\n",
      "Epoch 5/5\n",
      "334688/334688 [==============================] - 38s 115us/step - loss: 35.0238 - acc: 0.0772\n"
     ]
    },
    {
     "data": {
      "text/plain": [
       "<keras.callbacks.History at 0xb6825d4e0>"
      ]
     },
     "execution_count": 281,
     "metadata": {},
     "output_type": "execute_result"
    }
   ],
   "source": [
    "# model.fit(x_train, y_train, epochs=1, batch_size=2, verbose=1)\n",
    "model.fit(x_train_very_small, y_train_very_small, epochs=5, batch_size=32, verbose=1)"
   ]
  },
  {
   "cell_type": "code",
   "execution_count": 74,
   "metadata": {},
   "outputs": [
    {
     "name": "stdout",
     "output_type": "stream",
     "text": [
      "Tensor(\"loss_30/dense_18_loss/Sum:0\", shape=(), dtype=float32)\n"
     ]
    }
   ],
   "source": [
    "import keras.backend as K\n",
    "\n",
    "def custom_loss(y_true, y_pred):\n",
    "    diff = y_true - y_pred\n",
    "    r = K.sum(K.sin(diff) / diff)\n",
    "    print(r)\n",
    "    return r\n",
    "\n",
    "model.compile(\n",
    "    optimizer='sgd',\n",
    "    loss=custom_loss,\n",
    ")"
   ]
  },
  {
   "cell_type": "code",
   "execution_count": 285,
   "metadata": {},
   "outputs": [],
   "source": [
    "y_pred = [0] * len(test_sequences)\n",
    "for (i, sequence) in enumerate(test_sequences):\n",
    "    if len(sequence) > 10:\n",
    "        y_pred[i] = model.predict(np.array([sequence[-10:]]))"
   ]
  },
  {
   "cell_type": "code",
   "execution_count": 103,
   "metadata": {},
   "outputs": [],
   "source": [
    "import math"
   ]
  },
  {
   "cell_type": "code",
   "execution_count": 310,
   "metadata": {},
   "outputs": [
    {
     "name": "stdout",
     "output_type": "stream",
     "text": [
      "nans:  287\n"
     ]
    }
   ],
   "source": [
    "nans = 0\n",
    "with open('submission26.csv', 'w') as f:\n",
    "    f.write('Id,Last\\n')\n",
    "    for i, x in enumerate(y_pred):\n",
    "        if math.isnan(x) or math.isinf(x):\n",
    "            x = 0\n",
    "            nans += 1\n",
    "        f.write('%d,%d\\n' % (ids[i], x))\n",
    "print('nans: ', nans)"
   ]
  },
  {
   "cell_type": "code",
   "execution_count": null,
   "metadata": {},
   "outputs": [],
   "source": []
  },
  {
   "cell_type": "code",
   "execution_count": null,
   "metadata": {},
   "outputs": [],
   "source": []
  },
  {
   "cell_type": "code",
   "execution_count": null,
   "metadata": {},
   "outputs": [],
   "source": []
  },
  {
   "cell_type": "code",
   "execution_count": null,
   "metadata": {},
   "outputs": [],
   "source": []
  },
  {
   "cell_type": "code",
   "execution_count": 136,
   "metadata": {},
   "outputs": [],
   "source": [
    "from keras.wrappers.scikit_learn import KerasRegressor\n",
    "from sklearn.model_selection import cross_val_score\n",
    "from sklearn.model_selection import KFold"
   ]
  },
  {
   "cell_type": "code",
   "execution_count": 218,
   "metadata": {},
   "outputs": [],
   "source": [
    "def custom_loss(y_true, y_pred):\n",
    "    diff = y_true - y_pred\n",
    "#     return K.sum(K.zeros_like(diff))\n",
    "    return K.sum(1 - K.sin(diff) / diff)"
   ]
  },
  {
   "cell_type": "code",
   "execution_count": 292,
   "metadata": {},
   "outputs": [],
   "source": [
    "# define base model\n",
    "def baseline_model():\n",
    "    # create model\n",
    "    model = Sequential()\n",
    "    model.add(Dense(10, input_dim=10, kernel_initializer='normal', activation='relu'))\n",
    "    model.add(Dense(1, kernel_initializer='normal'))\n",
    "    # Compile model\n",
    "    model.compile(loss='mean_squared_logarithmic_error', optimizer='adam')\n",
    "    return model"
   ]
  },
  {
   "cell_type": "code",
   "execution_count": 315,
   "metadata": {},
   "outputs": [],
   "source": [
    "estimator = KerasRegressor(build_fn=baseline_model, epochs=5, batch_size=32, verbose=1)"
   ]
  },
  {
   "cell_type": "code",
   "execution_count": 316,
   "metadata": {},
   "outputs": [
    {
     "name": "stdout",
     "output_type": "stream",
     "text": [
      "Epoch 1/5\n",
      "334688/334688 [==============================] - 32s 97us/step - loss: 6.7830 - acc: 0.0186\n",
      "Epoch 2/5\n",
      "334688/334688 [==============================] - 35s 105us/step - loss: 19.7678 - acc: 0.0069\n",
      "Epoch 3/5\n",
      "334688/334688 [==============================] - 33s 100us/step - loss: 26.2861 - acc: 3.3165e-04\n",
      "Epoch 4/5\n",
      "119808/334688 [=========>....................] - ETA: 23s - loss: 23.5461 - acc: 1.7528e-04"
     ]
    },
    {
     "ename": "KeyboardInterrupt",
     "evalue": "",
     "output_type": "error",
     "traceback": [
      "\u001b[0;31m---------------------------------------------------------------------------\u001b[0m",
      "\u001b[0;31mKeyboardInterrupt\u001b[0m                         Traceback (most recent call last)",
      "\u001b[0;32m<ipython-input-316-8534f9a8f97b>\u001b[0m in \u001b[0;36m<module>\u001b[0;34m()\u001b[0m\n\u001b[0;32m----> 1\u001b[0;31m \u001b[0mestimator\u001b[0m\u001b[0;34m.\u001b[0m\u001b[0mfit\u001b[0m\u001b[0;34m(\u001b[0m\u001b[0mx_train_very_small\u001b[0m\u001b[0;34m,\u001b[0m \u001b[0my_train_very_small\u001b[0m\u001b[0;34m)\u001b[0m\u001b[0;34m\u001b[0m\u001b[0m\n\u001b[0m",
      "\u001b[0;32m~/anaconda3/lib/python3.6/site-packages/keras/wrappers/scikit_learn.py\u001b[0m in \u001b[0;36mfit\u001b[0;34m(self, x, y, **kwargs)\u001b[0m\n\u001b[1;32m    150\u001b[0m         \u001b[0mfit_args\u001b[0m\u001b[0;34m.\u001b[0m\u001b[0mupdate\u001b[0m\u001b[0;34m(\u001b[0m\u001b[0mkwargs\u001b[0m\u001b[0;34m)\u001b[0m\u001b[0;34m\u001b[0m\u001b[0m\n\u001b[1;32m    151\u001b[0m \u001b[0;34m\u001b[0m\u001b[0m\n\u001b[0;32m--> 152\u001b[0;31m         \u001b[0mhistory\u001b[0m \u001b[0;34m=\u001b[0m \u001b[0mself\u001b[0m\u001b[0;34m.\u001b[0m\u001b[0mmodel\u001b[0m\u001b[0;34m.\u001b[0m\u001b[0mfit\u001b[0m\u001b[0;34m(\u001b[0m\u001b[0mx\u001b[0m\u001b[0;34m,\u001b[0m \u001b[0my\u001b[0m\u001b[0;34m,\u001b[0m \u001b[0;34m**\u001b[0m\u001b[0mfit_args\u001b[0m\u001b[0;34m)\u001b[0m\u001b[0;34m\u001b[0m\u001b[0m\n\u001b[0m\u001b[1;32m    153\u001b[0m \u001b[0;34m\u001b[0m\u001b[0m\n\u001b[1;32m    154\u001b[0m         \u001b[0;32mreturn\u001b[0m \u001b[0mhistory\u001b[0m\u001b[0;34m\u001b[0m\u001b[0m\n",
      "\u001b[0;32m~/anaconda3/lib/python3.6/site-packages/keras/engine/training.py\u001b[0m in \u001b[0;36mfit\u001b[0;34m(self, x, y, batch_size, epochs, verbose, callbacks, validation_split, validation_data, shuffle, class_weight, sample_weight, initial_epoch, steps_per_epoch, validation_steps, **kwargs)\u001b[0m\n\u001b[1;32m   1037\u001b[0m                                         \u001b[0minitial_epoch\u001b[0m\u001b[0;34m=\u001b[0m\u001b[0minitial_epoch\u001b[0m\u001b[0;34m,\u001b[0m\u001b[0;34m\u001b[0m\u001b[0m\n\u001b[1;32m   1038\u001b[0m                                         \u001b[0msteps_per_epoch\u001b[0m\u001b[0;34m=\u001b[0m\u001b[0msteps_per_epoch\u001b[0m\u001b[0;34m,\u001b[0m\u001b[0;34m\u001b[0m\u001b[0m\n\u001b[0;32m-> 1039\u001b[0;31m                                         validation_steps=validation_steps)\n\u001b[0m\u001b[1;32m   1040\u001b[0m \u001b[0;34m\u001b[0m\u001b[0m\n\u001b[1;32m   1041\u001b[0m     def evaluate(self, x=None, y=None,\n",
      "\u001b[0;32m~/anaconda3/lib/python3.6/site-packages/keras/engine/training_arrays.py\u001b[0m in \u001b[0;36mfit_loop\u001b[0;34m(model, f, ins, out_labels, batch_size, epochs, verbose, callbacks, val_f, val_ins, shuffle, callback_metrics, initial_epoch, steps_per_epoch, validation_steps)\u001b[0m\n\u001b[1;32m    197\u001b[0m                     \u001b[0mins_batch\u001b[0m\u001b[0;34m[\u001b[0m\u001b[0mi\u001b[0m\u001b[0;34m]\u001b[0m \u001b[0;34m=\u001b[0m \u001b[0mins_batch\u001b[0m\u001b[0;34m[\u001b[0m\u001b[0mi\u001b[0m\u001b[0;34m]\u001b[0m\u001b[0;34m.\u001b[0m\u001b[0mtoarray\u001b[0m\u001b[0;34m(\u001b[0m\u001b[0;34m)\u001b[0m\u001b[0;34m\u001b[0m\u001b[0m\n\u001b[1;32m    198\u001b[0m \u001b[0;34m\u001b[0m\u001b[0m\n\u001b[0;32m--> 199\u001b[0;31m                 \u001b[0mouts\u001b[0m \u001b[0;34m=\u001b[0m \u001b[0mf\u001b[0m\u001b[0;34m(\u001b[0m\u001b[0mins_batch\u001b[0m\u001b[0;34m)\u001b[0m\u001b[0;34m\u001b[0m\u001b[0m\n\u001b[0m\u001b[1;32m    200\u001b[0m                 \u001b[0mouts\u001b[0m \u001b[0;34m=\u001b[0m \u001b[0mto_list\u001b[0m\u001b[0;34m(\u001b[0m\u001b[0mouts\u001b[0m\u001b[0;34m)\u001b[0m\u001b[0;34m\u001b[0m\u001b[0m\n\u001b[1;32m    201\u001b[0m                 \u001b[0;32mfor\u001b[0m \u001b[0ml\u001b[0m\u001b[0;34m,\u001b[0m \u001b[0mo\u001b[0m \u001b[0;32min\u001b[0m \u001b[0mzip\u001b[0m\u001b[0;34m(\u001b[0m\u001b[0mout_labels\u001b[0m\u001b[0;34m,\u001b[0m \u001b[0mouts\u001b[0m\u001b[0;34m)\u001b[0m\u001b[0;34m:\u001b[0m\u001b[0;34m\u001b[0m\u001b[0m\n",
      "\u001b[0;32m~/anaconda3/lib/python3.6/site-packages/keras/backend/tensorflow_backend.py\u001b[0m in \u001b[0;36m__call__\u001b[0;34m(self, inputs)\u001b[0m\n\u001b[1;32m   2713\u001b[0m                 \u001b[0;32mreturn\u001b[0m \u001b[0mself\u001b[0m\u001b[0;34m.\u001b[0m\u001b[0m_legacy_call\u001b[0m\u001b[0;34m(\u001b[0m\u001b[0minputs\u001b[0m\u001b[0;34m)\u001b[0m\u001b[0;34m\u001b[0m\u001b[0m\n\u001b[1;32m   2714\u001b[0m \u001b[0;34m\u001b[0m\u001b[0m\n\u001b[0;32m-> 2715\u001b[0;31m             \u001b[0;32mreturn\u001b[0m \u001b[0mself\u001b[0m\u001b[0;34m.\u001b[0m\u001b[0m_call\u001b[0m\u001b[0;34m(\u001b[0m\u001b[0minputs\u001b[0m\u001b[0;34m)\u001b[0m\u001b[0;34m\u001b[0m\u001b[0m\n\u001b[0m\u001b[1;32m   2716\u001b[0m         \u001b[0;32melse\u001b[0m\u001b[0;34m:\u001b[0m\u001b[0;34m\u001b[0m\u001b[0m\n\u001b[1;32m   2717\u001b[0m             \u001b[0;32mif\u001b[0m \u001b[0mpy_any\u001b[0m\u001b[0;34m(\u001b[0m\u001b[0mis_tensor\u001b[0m\u001b[0;34m(\u001b[0m\u001b[0mx\u001b[0m\u001b[0;34m)\u001b[0m \u001b[0;32mfor\u001b[0m \u001b[0mx\u001b[0m \u001b[0;32min\u001b[0m \u001b[0minputs\u001b[0m\u001b[0;34m)\u001b[0m\u001b[0;34m:\u001b[0m\u001b[0;34m\u001b[0m\u001b[0m\n",
      "\u001b[0;32m~/anaconda3/lib/python3.6/site-packages/keras/backend/tensorflow_backend.py\u001b[0m in \u001b[0;36m_call\u001b[0;34m(self, inputs)\u001b[0m\n\u001b[1;32m   2673\u001b[0m             \u001b[0mfetched\u001b[0m \u001b[0;34m=\u001b[0m \u001b[0mself\u001b[0m\u001b[0;34m.\u001b[0m\u001b[0m_callable_fn\u001b[0m\u001b[0;34m(\u001b[0m\u001b[0;34m*\u001b[0m\u001b[0marray_vals\u001b[0m\u001b[0;34m,\u001b[0m \u001b[0mrun_metadata\u001b[0m\u001b[0;34m=\u001b[0m\u001b[0mself\u001b[0m\u001b[0;34m.\u001b[0m\u001b[0mrun_metadata\u001b[0m\u001b[0;34m)\u001b[0m\u001b[0;34m\u001b[0m\u001b[0m\n\u001b[1;32m   2674\u001b[0m         \u001b[0;32melse\u001b[0m\u001b[0;34m:\u001b[0m\u001b[0;34m\u001b[0m\u001b[0m\n\u001b[0;32m-> 2675\u001b[0;31m             \u001b[0mfetched\u001b[0m \u001b[0;34m=\u001b[0m \u001b[0mself\u001b[0m\u001b[0;34m.\u001b[0m\u001b[0m_callable_fn\u001b[0m\u001b[0;34m(\u001b[0m\u001b[0;34m*\u001b[0m\u001b[0marray_vals\u001b[0m\u001b[0;34m)\u001b[0m\u001b[0;34m\u001b[0m\u001b[0m\n\u001b[0m\u001b[1;32m   2676\u001b[0m         \u001b[0;32mreturn\u001b[0m \u001b[0mfetched\u001b[0m\u001b[0;34m[\u001b[0m\u001b[0;34m:\u001b[0m\u001b[0mlen\u001b[0m\u001b[0;34m(\u001b[0m\u001b[0mself\u001b[0m\u001b[0;34m.\u001b[0m\u001b[0moutputs\u001b[0m\u001b[0;34m)\u001b[0m\u001b[0;34m]\u001b[0m\u001b[0;34m\u001b[0m\u001b[0m\n\u001b[1;32m   2677\u001b[0m \u001b[0;34m\u001b[0m\u001b[0m\n",
      "\u001b[0;32m~/anaconda3/lib/python3.6/site-packages/tensorflow/python/client/session.py\u001b[0m in \u001b[0;36m__call__\u001b[0;34m(self, *args, **kwargs)\u001b[0m\n\u001b[1;32m   1397\u001b[0m           ret = tf_session.TF_SessionRunCallable(\n\u001b[1;32m   1398\u001b[0m               \u001b[0mself\u001b[0m\u001b[0;34m.\u001b[0m\u001b[0m_session\u001b[0m\u001b[0;34m.\u001b[0m\u001b[0m_session\u001b[0m\u001b[0;34m,\u001b[0m \u001b[0mself\u001b[0m\u001b[0;34m.\u001b[0m\u001b[0m_handle\u001b[0m\u001b[0;34m,\u001b[0m \u001b[0margs\u001b[0m\u001b[0;34m,\u001b[0m \u001b[0mstatus\u001b[0m\u001b[0;34m,\u001b[0m\u001b[0;34m\u001b[0m\u001b[0m\n\u001b[0;32m-> 1399\u001b[0;31m               run_metadata_ptr)\n\u001b[0m\u001b[1;32m   1400\u001b[0m         \u001b[0;32mif\u001b[0m \u001b[0mrun_metadata\u001b[0m\u001b[0;34m:\u001b[0m\u001b[0;34m\u001b[0m\u001b[0m\n\u001b[1;32m   1401\u001b[0m           \u001b[0mproto_data\u001b[0m \u001b[0;34m=\u001b[0m \u001b[0mtf_session\u001b[0m\u001b[0;34m.\u001b[0m\u001b[0mTF_GetBuffer\u001b[0m\u001b[0;34m(\u001b[0m\u001b[0mrun_metadata_ptr\u001b[0m\u001b[0;34m)\u001b[0m\u001b[0;34m\u001b[0m\u001b[0m\n",
      "\u001b[0;31mKeyboardInterrupt\u001b[0m: "
     ]
    }
   ],
   "source": [
    "estimator.fit(x_train_very_small, y_train_very_small)"
   ]
  },
  {
   "cell_type": "code",
   "execution_count": 309,
   "metadata": {},
   "outputs": [],
   "source": [
    "estimator.set_params(verbose=0)\n",
    "y_pred = [0] * len(test_sequences)\n",
    "for (i, sequence) in enumerate(test_sequences):\n",
    "    if len(sequence) > 10:\n",
    "        y_pred[i] = estimator.predict(np.array([sequence[-10:]]))"
   ]
  },
  {
   "cell_type": "code",
   "execution_count": 272,
   "metadata": {},
   "outputs": [
    {
     "name": "stdout",
     "output_type": "stream",
     "text": [
      "(3346887, 10)\n",
      "(3346887,)\n"
     ]
    }
   ],
   "source": [
    "mask = np.all(a=x_train < 1000000000, axis=1)\n",
    "x_train_small = x_train[mask]\n",
    "y_train_small = y_train[mask]\n",
    "print(x_train_small.shape)\n",
    "print(y_train_small.shape)"
   ]
  },
  {
   "cell_type": "code",
   "execution_count": null,
   "metadata": {},
   "outputs": [],
   "source": []
  },
  {
   "cell_type": "code",
   "execution_count": null,
   "metadata": {},
   "outputs": [],
   "source": []
  },
  {
   "cell_type": "code",
   "execution_count": 62,
   "metadata": {},
   "outputs": [],
   "source": []
  },
  {
   "cell_type": "code",
   "execution_count": 6,
   "metadata": {},
   "outputs": [],
   "source": [
    "import xgboost as xgb\n",
    "import keras\n",
    "import pandas as pd\n",
    "import numpy as np\n",
    "from keras.models import Sequential\n",
    "from keras.layers import SimpleRNN, Dense, Flatten, LSTM\n",
    "from time import time\n",
    "from sklearn.preprocessing import MinMaxScaler\n",
    "import math\n",
    "from sklearn.ensemble import RandomForestRegressor, GradientBoostingRegressor\n",
    "from sklearn.linear_model import LinearRegression, LogisticRegression\n",
    "import catboost\n",
    "import warnings\n",
    "warnings.filterwarnings('ignore')"
   ]
  },
  {
   "cell_type": "code",
   "execution_count": 2,
   "metadata": {},
   "outputs": [],
   "source": [
    "data = pd.read_csv('train.csv')\n",
    "strs = data['Sequence']\n",
    "sequences = []\n",
    "for line in strs:\n",
    "    sequences.append([int(i) for i in line.split(',')])\n",
    "test_data = pd.read_csv('test.csv')\n",
    "ids = np.array(test_data['Id'])\n",
    "strs = test_data['Sequence']\n",
    "test_sequences = []\n",
    "for line in strs:\n",
    "    test_sequences.append([int(i) for i in line.split(',')])\n",
    "sequences = np.array(sequences)\n",
    "test_sequences = np.array(test_sequences)\n",
    "data_size = len(test_sequences) #todo change for each process\n",
    "y_pred = [0] * data_size"
   ]
  },
  {
   "cell_type": "code",
   "execution_count": 22,
   "metadata": {},
   "outputs": [],
   "source": [
    "global_most_possibles = {}\n",
    "def markov(depth):\n",
    "    for cur_depth in range(0, depth + 1):\n",
    "        distributions = {}\n",
    "        most_possibles = {}\n",
    "        for sequence in np.hstack((sequences, test_sequences)):\n",
    "            for i in range(0, len(sequence) - cur_depth):\n",
    "                cur_tuple_prefix = tuple(sequence[i:(i + cur_depth)])\n",
    "                next_item = sequence[i + cur_depth]\n",
    "                if cur_tuple_prefix in distributions:\n",
    "                    distribution = distributions[cur_tuple_prefix]\n",
    "                    if next_item in distribution:\n",
    "                        distribution[next_item] += 1\n",
    "                    else:\n",
    "                        distribution[next_item] = 1                        \n",
    "                else:\n",
    "                    distributions[cur_tuple_prefix] = {next_item: 1}\n",
    "        for (prefix, distribution) in distributions.items():\n",
    "            most_possibles[prefix] = max(distribution.items(), key=lambda entry : entry[1])[0]\n",
    "        global_most_possibles[cur_depth] = most_possibles\n",
    "        \n",
    "def handle_markov(sequence, depth):\n",
    "    most_possibles = global_most_possibles[depth]\n",
    "    length = len(sequence)\n",
    "    if length >= depth:\n",
    "        prefix = tuple(sequence[(length - depth):])\n",
    "        if prefix in most_possibles:\n",
    "            return most_possibles[prefix]\n",
    "    return None\n",
    "\n",
    "depth = 2\n",
    "markov(depth)"
   ]
  },
  {
   "cell_type": "code",
   "execution_count": 17,
   "metadata": {},
   "outputs": [
    {
     "data": {
      "text/plain": [
       "array([1, 2, 3, 4])"
      ]
     },
     "execution_count": 17,
     "metadata": {},
     "output_type": "execute_result"
    }
   ],
   "source": [
    "np.concatenate((np.array([1, 2, 3]), np.array([4])))"
   ]
  },
  {
   "cell_type": "code",
   "execution_count": 19,
   "metadata": {},
   "outputs": [
    {
     "name": "stdout",
     "output_type": "stream",
     "text": [
      "Sequence 0\n",
      "Sequence 1000\n",
      "Sequence 2000\n",
      "Sequence 3000\n",
      "Sequence 4000\n",
      "Sequence 5000\n",
      "Sequence 6000\n",
      "Sequence 7000\n",
      "Sequence 8000\n",
      "Sequence 9000\n",
      "Sequence 10000\n",
      "Sequence 11000\n",
      "Sequence 12000\n",
      "Sequence 13000\n",
      "Sequence 14000\n",
      "Sequence 15000\n",
      "Sequence 16000\n",
      "Sequence 17000\n",
      "Sequence 18000\n",
      "Sequence 19000\n",
      "Sequence 20000\n",
      "Sequence 21000\n",
      "Sequence 22000\n",
      "Sequence 23000\n",
      "Sequence 24000\n",
      "Sequence 25000\n",
      "Sequence 26000\n",
      "Sequence 27000\n",
      "Sequence 28000\n",
      "Sequence 29000\n",
      "Sequence 30000\n",
      "Sequence 31000\n",
      "Sequence 32000\n",
      "Sequence 33000\n",
      "Sequence 34000\n",
      "Sequence 35000\n",
      "Sequence 36000\n",
      "Sequence 37000\n",
      "Sequence 38000\n",
      "Sequence 39000\n",
      "Sequence 40000\n",
      "Sequence 41000\n",
      "Sequence 42000\n",
      "Sequence 43000\n",
      "Sequence 44000\n",
      "Sequence 45000\n",
      "Sequence 46000\n",
      "Sequence 47000\n",
      "Sequence 48000\n",
      "Sequence 49000\n",
      "Sequence 50000\n",
      "Sequence 51000\n",
      "Sequence 52000\n",
      "Sequence 53000\n",
      "Sequence 54000\n",
      "Sequence 55000\n",
      "Sequence 56000\n",
      "Sequence 57000\n",
      "Sequence 58000\n",
      "Sequence 59000\n",
      "Sequence 60000\n",
      "Sequence 61000\n",
      "Sequence 62000\n",
      "Sequence 63000\n",
      "Sequence 64000\n",
      "Sequence 65000\n",
      "Sequence 66000\n",
      "Sequence 67000\n",
      "Sequence 68000\n",
      "Sequence 69000\n",
      "Sequence 70000\n",
      "Sequence 71000\n",
      "Sequence 72000\n",
      "Sequence 73000\n",
      "Sequence 74000\n",
      "Sequence 75000\n",
      "Sequence 76000\n",
      "Sequence 77000\n",
      "Sequence 78000\n",
      "Sequence 79000\n",
      "Sequence 80000\n",
      "Sequence 81000\n",
      "Sequence 82000\n",
      "Sequence 83000\n",
      "Sequence 84000\n",
      "Sequence 85000\n",
      "Sequence 86000\n",
      "Sequence 87000\n",
      "Sequence 88000\n",
      "Sequence 89000\n",
      "Sequence 90000\n",
      "Sequence 91000\n",
      "Sequence 92000\n",
      "Sequence 93000\n",
      "Sequence 94000\n",
      "Sequence 95000\n",
      "Sequence 96000\n",
      "Sequence 97000\n",
      "Sequence 98000\n",
      "Sequence 99000\n",
      "Sequence 100000\n",
      "Sequence 101000\n",
      "Sequence 102000\n",
      "Sequence 103000\n",
      "Sequence 104000\n",
      "Sequence 105000\n",
      "Sequence 106000\n",
      "Sequence 107000\n",
      "Sequence 108000\n",
      "Sequence 109000\n",
      "Sequence 110000\n",
      "Sequence 111000\n",
      "Sequence 112000\n",
      "Sequence 113000\n",
      "nans:  0\n"
     ]
    }
   ],
   "source": [
    "for (j, sequence) in enumerate(test_sequences):\n",
    "    expected = sequence[len(sequence) - 1]\n",
    "    if j % 1000 == 0:\n",
    "        print('Sequence {0}'.format(j))\n",
    "    try:\n",
    "        if len(sequence) < 5:\n",
    "            continue\n",
    "        n_train = len(sequence) // 2\n",
    "        if len(sequence) >= 25:\n",
    "            n_train = 17\n",
    "        x_train = []\n",
    "        y_train = []\n",
    "        scaler = MinMaxScaler(feature_range=(0, 1))\n",
    "        sequence = scaler.fit_transform(np.array(sequence).reshape(-1, 1)).reshape(-1)\n",
    "        for i in range(len(sequence) - n_train - 1):\n",
    "            x_train.append(np.concatenate((np.array([i + n_train + 1]), sequence[i:i+n_train])))\n",
    "            y_train.append(sequence[i+n_train])\n",
    "            \n",
    "        x_train = np.array(x_train)#.reshape(-1, 1, n_train)\n",
    "        y_train = np.array(y_train)\n",
    "\n",
    "        regressor = LinearRegression()\n",
    "        regressor.fit(x_train, y_train)\n",
    "\n",
    "#         regressor = GradientBoostingRegressor(n_estimators=25)\n",
    "#         regressor.fit(x_train, y_train)\n",
    "\n",
    "#         model = Sequential()\n",
    "#         model.add(SimpleRNN(n_train, activation='relu', kernel_initializer='normal', return_sequences=True))\n",
    "#         model.add(Flatten())\n",
    "#         model.add(Dense(1))\n",
    "#         model.compile(optimizer='sgd', loss='mean_squared_logarithmic_error', metrics=['accuracy'])\n",
    "\n",
    "\n",
    "#         model.add(LSTM(4, input_shape=(1, n_train)))\n",
    "#         model.add(Dense(1))\n",
    "#         model.compile(loss='mean_squared_error', optimizer='adam')\n",
    "#         model.fit(x_train, y_train, epochs=100, batch_size=1, verbose=0)\n",
    "        y_pred[j] = round(scaler.inverse_transform(regressor.predict(np.concatenate((np.array([len(sequence) + 1]), np.array(sequence[-n_train:]))).reshape(1, -1))[0])[0][0])\n",
    "#         if y_pred[j] == expected:\n",
    "#             print('Correct!')\n",
    "#         else:\n",
    "#             print('Wrong. Expected {0}, actual {1}'.format(expected, y_pred[j]))\n",
    "    except Exception as e:\n",
    "        print('Exception:', e)\n",
    "\n",
    "nans = 0 \n",
    "with open('submission38.csv', 'w') as f:\n",
    "    f.write('Id,Last\\n')\n",
    "    for i, x in enumerate(y_pred):\n",
    "        if math.isnan(x) or math.isinf(x):\n",
    "            x = 0\n",
    "            nans += 1\n",
    "        f.write('%d,%d\\n' % (ids[i], x))\n",
    "print('nans: ', nans)"
   ]
  },
  {
   "cell_type": "code",
   "execution_count": 42,
   "metadata": {},
   "outputs": [
    {
     "name": "stderr",
     "output_type": "stream",
     "text": [
      "/Users/ddzina/anaconda3/lib/python3.6/site-packages/sklearn/utils/validation.py:475: DataConversionWarning: Data with input dtype int64 was converted to float64 by MinMaxScaler.\n",
      "  warnings.warn(msg, DataConversionWarning)\n",
      "/Users/ddzina/anaconda3/lib/python3.6/site-packages/sklearn/utils/validation.py:475: DataConversionWarning: Data with input dtype object was converted to float64 by MinMaxScaler.\n",
      "  warnings.warn(msg, DataConversionWarning)\n"
     ]
    },
    {
     "name": "stdout",
     "output_type": "stream",
     "text": [
      "(29684, 10)\n",
      "[19:18:37] src/tree/updater_prune.cc:74: tree pruning end, 1 roots, 126 extra nodes, 0 pruned nodes, max_depth=6\n",
      "[19:18:37] src/tree/updater_prune.cc:74: tree pruning end, 1 roots, 126 extra nodes, 0 pruned nodes, max_depth=6\n",
      "[19:18:37] src/tree/updater_prune.cc:74: tree pruning end, 1 roots, 126 extra nodes, 0 pruned nodes, max_depth=6\n",
      "[19:18:37] src/tree/updater_prune.cc:74: tree pruning end, 1 roots, 126 extra nodes, 0 pruned nodes, max_depth=6\n",
      "[19:18:37] src/tree/updater_prune.cc:74: tree pruning end, 1 roots, 126 extra nodes, 0 pruned nodes, max_depth=6\n",
      "[19:18:37] src/tree/updater_prune.cc:74: tree pruning end, 1 roots, 126 extra nodes, 0 pruned nodes, max_depth=6\n",
      "[19:18:37] src/tree/updater_prune.cc:74: tree pruning end, 1 roots, 126 extra nodes, 0 pruned nodes, max_depth=6\n",
      "[19:18:37] src/tree/updater_prune.cc:74: tree pruning end, 1 roots, 126 extra nodes, 0 pruned nodes, max_depth=6\n",
      "[19:18:38] src/tree/updater_prune.cc:74: tree pruning end, 1 roots, 116 extra nodes, 0 pruned nodes, max_depth=6\n",
      "[19:18:38] src/tree/updater_prune.cc:74: tree pruning end, 1 roots, 122 extra nodes, 0 pruned nodes, max_depth=6\n",
      "right 57\n",
      "shorts: 127\n"
     ]
    }
   ],
   "source": [
    "right = 0\n",
    "wrong = 0\n",
    "exceptions = 0\n",
    "test_indices = np.random.choice(np.arange(len(sequences)), size=1000)\n",
    "sample_sequences = sequences[test_indices]\n",
    "x_train = []\n",
    "y_train = []\n",
    "x_test = []\n",
    "y_expected = []\n",
    "shorts = 0\n",
    "\n",
    "scalers = [MinMaxScaler(feature_range=(0, 1))] * 1000\n",
    "for (j, sequence) in enumerate(sample_sequences): #todo change for each process\n",
    "    try:\n",
    "        expected = sequence[len(sequence) - 1]\n",
    "        sequence = scalers[j].fit_transform(np.array(sequence).reshape(-1, 1)).reshape(-1)\n",
    "        if len(sequence) < 13:\n",
    "            shorts += 1\n",
    "            #print('too short')\n",
    "            continue\n",
    "        expected = sequence[len(sequence) - 1]\n",
    "        n_train = 10\n",
    "        for i in range(len(sequence) - n_train - 2):\n",
    "            x_train.append(np.array(sequence[i:i+n_train]))\n",
    "            y_train.append(sequence[i+n_train])\n",
    "        x_test.append(sequence[-n_train-1:-1])\n",
    "        y_expected.append(expected)\n",
    "    except Exception as e:\n",
    "        print('Exception:', e)\n",
    "\n",
    "x_train = np.array(x_train)#.reshape(-1, 1, n_train)\n",
    "y_train = np.array(y_train)\n",
    "print(x_train.shape)\n",
    "\n",
    "\n",
    "param = {}\n",
    "bst = xgb.train(param, xgb.DMatrix(data=x_train, label=y_train), 10)\n",
    "y_pred = bst.predict(xgb.DMatrix(data=np.array(x_test).reshape(-1, n_train)))\n",
    "for (j, y) in enumerate(y_pred):\n",
    "#     print('y', y)\n",
    "    y_pred[j] = round(scalers[j].inverse_transform(np.array([[y]]))[0, 0])\n",
    "rights = np.sum(y_pred == y_expected)\n",
    "print('right', rights)\n",
    "print('shorts: {0}'.format(shorts))\n",
    "\n",
    "#print('right: {0}, wrong: {1}'.format(right, wrong))"
   ]
  },
  {
   "cell_type": "code",
   "execution_count": 51,
   "metadata": {},
   "outputs": [
    {
     "name": "stdout",
     "output_type": "stream",
     "text": [
      "contains inf\n",
      "contains inf\n",
      "contains inf\n",
      "contains inf\n",
      "contains inf\n",
      "contains inf\n",
      "contains inf\n",
      "contains inf\n",
      "contains inf\n",
      "contains inf\n",
      "contains inf\n",
      "contains inf\n",
      "contains inf\n",
      "contains inf\n",
      "contains inf\n",
      "contains inf\n",
      "contains inf\n",
      "contains inf\n",
      "contains inf\n",
      "contains inf\n",
      "contains inf\n",
      "contains inf\n",
      "contains inf\n",
      "(29849, 10)\n",
      "0:\tlearn: 362927581875378090465969569792.0000000\ttotal: 19ms\tremaining: 930ms\n",
      "1:\tlearn: 362907771604283006777219350528.0000000\ttotal: 35.8ms\tremaining: 859ms\n",
      "2:\tlearn: 362883139203813910561880539136.0000000\ttotal: 52.1ms\tremaining: 816ms\n",
      "3:\tlearn: 362869900260874627568562601984.0000000\ttotal: 78.5ms\tremaining: 903ms\n",
      "4:\tlearn: 362632206637533690822909755392.0000000\ttotal: 95.2ms\tremaining: 857ms\n",
      "5:\tlearn: 362606762377732822106130874368.0000000\ttotal: 113ms\tremaining: 827ms\n",
      "6:\tlearn: 362603657656525884284391653376.0000000\ttotal: 130ms\tremaining: 798ms\n",
      "7:\tlearn: 362581011775340093451555307520.0000000\ttotal: 146ms\tremaining: 765ms\n",
      "8:\tlearn: 361234642447770268360228470784.0000000\ttotal: 164ms\tremaining: 748ms\n",
      "9:\tlearn: 361233557670780077248348160000.0000000\ttotal: 182ms\tremaining: 728ms\n",
      "10:\tlearn: 361224432572755024594344083456.0000000\ttotal: 198ms\tremaining: 700ms\n",
      "11:\tlearn: 361210575232014967583237210112.0000000\ttotal: 214ms\tremaining: 678ms\n",
      "12:\tlearn: 361194882701365530847336202240.0000000\ttotal: 242ms\tremaining: 690ms\n",
      "13:\tlearn: 360004319918317931314404130816.0000000\ttotal: 280ms\tremaining: 720ms\n",
      "14:\tlearn: 360000380826410664265210920960.0000000\ttotal: 305ms\tremaining: 712ms\n",
      "15:\tlearn: 359998229900636558530501935104.0000000\ttotal: 329ms\tremaining: 700ms\n",
      "16:\tlearn: 359985049460692250965175173120.0000000\ttotal: 353ms\tremaining: 684ms\n",
      "17:\tlearn: 357836232623145971750346424320.0000000\ttotal: 388ms\tremaining: 690ms\n",
      "18:\tlearn: 357835403468946091345209982976.0000000\ttotal: 426ms\tremaining: 695ms\n",
      "19:\tlearn: 357594875616066243471853223936.0000000\ttotal: 458ms\tremaining: 687ms\n",
      "20:\tlearn: 357593889571205478683204648960.0000000\ttotal: 500ms\tremaining: 690ms\n",
      "21:\tlearn: 357540771599044205344047759360.0000000\ttotal: 523ms\tremaining: 665ms\n",
      "22:\tlearn: 356224325285912499180449824768.0000000\ttotal: 550ms\tremaining: 646ms\n",
      "23:\tlearn: 356223602999975748324324016128.0000000\ttotal: 581ms\tremaining: 629ms\n",
      "24:\tlearn: 354093229846999801043055804416.0000000\ttotal: 606ms\tremaining: 606ms\n",
      "25:\tlearn: 354092450123724525654878715904.0000000\ttotal: 630ms\tremaining: 582ms\n",
      "26:\tlearn: 351975109824195800975460532224.0000000\ttotal: 647ms\tremaining: 551ms\n",
      "27:\tlearn: 350868119547050856998819069952.0000000\ttotal: 674ms\tremaining: 529ms\n",
      "28:\tlearn: 350862805196976177026867134464.0000000\ttotal: 700ms\tremaining: 507ms\n",
      "29:\tlearn: 350861917905885760670872371200.0000000\ttotal: 722ms\tremaining: 481ms\n",
      "30:\tlearn: 350749014657236286801132388352.0000000\ttotal: 740ms\tremaining: 453ms\n",
      "31:\tlearn: 349461244763959894544780099584.0000000\ttotal: 756ms\tremaining: 425ms\n",
      "32:\tlearn: 349459422965159059222196912128.0000000\ttotal: 772ms\tremaining: 398ms\n",
      "33:\tlearn: 349441693346048712941309526016.0000000\ttotal: 789ms\tremaining: 371ms\n",
      "34:\tlearn: 349438538861513237005835698176.0000000\ttotal: 806ms\tremaining: 345ms\n",
      "35:\tlearn: 349094264471353837273110020096.0000000\ttotal: 822ms\tremaining: 320ms\n",
      "36:\tlearn: 349091793110816287735859380224.0000000\ttotal: 844ms\tremaining: 297ms\n",
      "37:\tlearn: 347003425739572837371187560448.0000000\ttotal: 881ms\tremaining: 278ms\n",
      "38:\tlearn: 347002117890500950226106318848.0000000\ttotal: 935ms\tremaining: 264ms\n",
      "39:\tlearn: 344977526273624369909372813312.0000000\ttotal: 978ms\tremaining: 244ms\n",
      "40:\tlearn: 342989092794520271627457921024.0000000\ttotal: 1.03s\tremaining: 227ms\n",
      "41:\tlearn: 342980492077838519060314193920.0000000\ttotal: 1.07s\tremaining: 205ms\n",
      "42:\tlearn: 341029721182031219476138033152.0000000\ttotal: 1.13s\tremaining: 183ms\n",
      "43:\tlearn: 341026457580196321627750793216.0000000\ttotal: 1.16s\tremaining: 158ms\n",
      "44:\tlearn: 341023130364894315924982595584.0000000\ttotal: 1.2s\tremaining: 134ms\n",
      "45:\tlearn: 341019231633342530270003200000.0000000\ttotal: 1.24s\tremaining: 108ms\n",
      "46:\tlearn: 338464246920531195080017444864.0000000\ttotal: 1.28s\tremaining: 81.7ms\n",
      "47:\tlearn: 338463016158674535610148978688.0000000\ttotal: 1.32s\tremaining: 55.2ms\n",
      "48:\tlearn: 338459057475652125980840951808.0000000\ttotal: 1.36s\tremaining: 27.8ms\n",
      "49:\tlearn: 338449301699059976836709613568.0000000\ttotal: 1.39s\tremaining: 0us\n",
      "right 0\n",
      "shorts: 108\n"
     ]
    }
   ],
   "source": [
    "right = 0\n",
    "wrong = 0\n",
    "exceptions = 0\n",
    "test_indices = np.random.choice(np.arange(len(sequences)), size=1000)\n",
    "sample_sequences = sequences[test_indices]\n",
    "x_train = []\n",
    "y_train = []\n",
    "x_test = []\n",
    "y_expected = []\n",
    "shorts = 0\n",
    "\n",
    "for (j, sequence) in enumerate(sample_sequences): #todo change for each process\n",
    "    try:\n",
    "        if np.any(np.isinf(np.array(sequence, dtype=np.float32))):\n",
    "            print(\"contains inf\")\n",
    "            continue\n",
    "        expected = sequence[len(sequence) - 1]\n",
    "        if len(sequence) < 13:\n",
    "            shorts += 1\n",
    "            #print('too short')\n",
    "            continue\n",
    "        expected = sequence[len(sequence) - 1]\n",
    "        n_train = 10\n",
    "        for i in range(len(sequence) - n_train - 2):\n",
    "            x_train.append(np.array(sequence[i:i+n_train]))\n",
    "            y_train.append(sequence[i+n_train])\n",
    "        x_test.append(sequence[-n_train-1:-1])\n",
    "        y_expected.append(expected)\n",
    "    except Exception as e:\n",
    "        print('Exception:', e)\n",
    "\n",
    "x_train = np.array(x_train)#.reshape(-1, 1, n_train)\n",
    "y_train = np.array(y_train)\n",
    "print(x_train.shape)\n",
    "\n",
    "regressor = catboost.CatBoostRegressor(n_estimators=50, verbose=1)\n",
    "regressor.fit(x_train, y_train)\n",
    "y_pred = regressor.predict(x_test)\n",
    "rights = np.sum(y_pred == y_expected)\n",
    "print('right', rights)\n",
    "print('shorts: {0}'.format(shorts))\n",
    "\n",
    "#print('right: {0}, wrong: {1}'.format(right, wrong))"
   ]
  },
  {
   "cell_type": "code",
   "execution_count": 52,
   "metadata": {},
   "outputs": [
    {
     "data": {
      "text/plain": [
       "array([ 8.06481297e+27,  7.20166120e+27,  7.20166120e+27,  5.25873797e+26,\n",
       "       -5.38942475e+24,  7.11514876e+26,  1.58025628e+26, -7.31449859e+25,\n",
       "       -9.44566534e+25, -1.75510209e+26,  9.01373179e+27,  2.74890658e+26,\n",
       "       -9.68488991e+25, -4.77172988e+25, -2.35198768e+27,  1.89098429e+27,\n",
       "        2.61748350e+26,  3.34628644e+26, -1.21394927e+25,  5.42058332e+26,\n",
       "        1.10132684e+26, -5.44007716e+25, -6.71801413e+24,  9.87392482e+26,\n",
       "       -7.76367250e+25,  7.20166120e+27,  1.88742601e+27,  4.71116286e+27,\n",
       "       -4.77353743e+25,  3.62732226e+26, -7.31715893e+26,  7.20166120e+27,\n",
       "        1.51216385e+27,  5.35191345e+26,  7.20166120e+27,  1.52863196e+27,\n",
       "        9.48611624e+27,  7.20166120e+27,  9.21198472e+27, -7.90138312e+25,\n",
       "        7.19598301e+27, -1.10346589e+26,  2.11814188e+26, -3.01136908e+26,\n",
       "        2.35697983e+29, -3.52703384e+26,  1.73899492e+30,  8.77206623e+25,\n",
       "       -1.65623927e+26,  7.20166120e+27,  8.77206623e+25, -2.05573930e+26,\n",
       "        8.13665079e+27, -4.80680122e+25,  3.83578165e+27,  4.68357306e+27,\n",
       "       -3.39511857e+27, -7.43685285e+26, -6.71801413e+24,  8.14232898e+27,\n",
       "        7.20166120e+27,  9.45305880e+26,  7.96445873e+26, -6.40081573e+25,\n",
       "       -4.91753867e+25,  5.60007810e+26,  8.22476348e+27,  9.76096510e+27,\n",
       "       -4.81067679e+25,  8.14232898e+27,  3.71663226e+26,  6.34253119e+27,\n",
       "        2.69735406e+26, -5.72336275e+25,  2.49551555e+26, -4.80433354e+25,\n",
       "        1.54266119e+27,  7.20166120e+27,  3.53738744e+25,  5.71035310e+27,\n",
       "        3.68808786e+27, -5.57473282e+25, -3.75882505e+26, -5.60753451e+26,\n",
       "        8.19478783e+27,  7.20166120e+27,  7.20166120e+27,  1.78340677e+28,\n",
       "       -9.89773796e+25,  1.16143595e+26, -5.09389988e+25,  3.85537638e+27,\n",
       "        7.20166120e+27,  5.71035310e+27,  4.18951386e+27, -6.71801413e+24,\n",
       "        2.43528533e+26,  3.66579974e+27,  8.57900232e+26,  7.20166120e+27,\n",
       "        8.22476348e+27, -8.33657267e+25, -4.80416110e+25,  1.02902641e+26,\n",
       "        9.45305880e+26,  7.61226213e+27, -5.40850751e+25,  7.20166120e+27,\n",
       "       -1.25540565e+26,  8.14232898e+27,  7.20166120e+27,  1.75890701e+26,\n",
       "        1.74859305e+26, -5.42151998e+25, -7.31715893e+26, -1.03733136e+27,\n",
       "        7.20166120e+27,  8.71221999e+26,  6.34253119e+27,  1.75818419e+28,\n",
       "       -1.16137699e+27,  1.39356309e+26,  7.20166120e+27, -1.59105156e+27,\n",
       "        7.20166120e+27,  4.56835620e+27,  5.89019737e+25,  1.61538036e+27,\n",
       "       -4.77353743e+25, -4.58352108e+26,  1.36893641e+27, -6.37166177e+25,\n",
       "        2.61029222e+26,  1.77817356e+28, -5.20064762e+26,  7.20166120e+27,\n",
       "       -3.74184735e+26,  2.59121786e+26, -4.80662878e+25,  7.61226213e+27,\n",
       "        3.28453934e+26, -9.26079488e+26, -8.07949245e+27, -3.66993820e+26,\n",
       "        7.20166120e+27, -5.11197093e+25,  6.34728326e+26, -6.69669211e+25,\n",
       "        4.96773713e+26, -4.83249983e+25,  7.19598301e+27, -6.71801413e+24,\n",
       "       -5.92034437e+25,  4.01933675e+27,  5.94170242e+26,  2.83193894e+25,\n",
       "       -4.77353743e+25,  2.22395594e+27, -7.39119510e+26,  2.00682494e+27,\n",
       "       -9.00630888e+26,  1.45206339e+27, -9.85277506e+27,  1.43351798e+27,\n",
       "        1.23929356e+25, -5.39431530e+25,  7.20166120e+27,  7.00275941e+25,\n",
       "       -4.83130842e+25,  7.20166120e+27,  4.09368065e+26, -1.89940793e+27,\n",
       "        7.61226213e+27,  7.20166120e+27,  1.88437268e+26,  4.05441806e+26,\n",
       "        2.51981460e+26,  6.45880055e+27, -7.51833782e+25, -7.69210126e+25,\n",
       "       -1.59127016e+27,  1.34527334e+28, -8.86950488e+25,  6.34728326e+26,\n",
       "        1.68771746e+28,  7.19598301e+27, -1.61752957e+26,  2.15764600e+26,\n",
       "       -4.19639991e+26,  1.17408028e+26,  5.98685703e+26, -1.73525444e+24,\n",
       "       -4.59338238e+25,  2.36885469e+26,  7.20166120e+27,  7.20166120e+27,\n",
       "        7.88699749e+27,  7.20166120e+27,  5.71035310e+27, -1.76836424e+26,\n",
       "       -4.80123489e+25,  6.70357825e+27,  6.10424397e+26, -1.08682803e+27,\n",
       "        2.04836066e+28,  7.20166120e+27,  2.69735406e+26,  2.07333466e+26,\n",
       "       -5.05844836e+25,  4.30456636e+27, -1.66697952e+26,  7.19598301e+27,\n",
       "        1.52863196e+27, -8.10679119e+25,  5.98996911e+28,  2.20101646e+27,\n",
       "       -8.16571716e+26,  7.19598301e+27,  7.20166120e+27,  1.92605044e+28,\n",
       "        7.20166120e+27, -5.87435033e+25, -2.73089508e+26, -4.80217563e+25,\n",
       "        2.00682494e+27,  7.20166120e+27, -3.85234836e+26, -1.58332421e+26,\n",
       "        7.20166120e+27,  7.20166120e+27, -9.84726343e+25, -3.30993091e+26,\n",
       "        7.20166120e+27, -2.02381522e+25, -6.71801413e+24,  7.20166120e+27,\n",
       "        3.56165013e+27,  6.34253119e+27,  7.20166120e+27,  9.87874768e+25,\n",
       "        3.21874387e+26, -9.68540003e+26,  1.99240439e+28, -1.58332421e+26,\n",
       "       -5.28420387e+25, -4.80240629e+26, -1.66992083e+26,  5.71035310e+27,\n",
       "        1.77817356e+28,  9.21809459e+26,  8.55292990e+27,  4.71644548e+26,\n",
       "        4.51249790e+24, -5.14242330e+26, -6.26578000e+26,  4.24121688e+27,\n",
       "       -3.79348937e+25, -8.86950488e+25, -1.99927152e+27, -5.20064762e+26,\n",
       "        7.20166120e+27,  7.18418780e+27,  1.24281330e+26,  6.34253119e+27,\n",
       "       -4.58981850e+25,  7.20166120e+27, -2.05974759e+26,  7.20166120e+27,\n",
       "        8.19478783e+27,  2.05522078e+28, -6.30602689e+25, -6.71801413e+24,\n",
       "        2.02883780e+27,  7.96445873e+26,  8.98313111e+26, -4.64523316e+25,\n",
       "        6.34253119e+27,  4.67350638e+27,  1.50350314e+27,  9.67621548e+25,\n",
       "        1.33299029e+26, -4.91753867e+25,  8.55292990e+27, -4.80942079e+25,\n",
       "        6.16338423e+27,  7.20166120e+27, -3.60062461e+26,  7.20166120e+27,\n",
       "       -2.63909080e+27, -8.50654662e+25,  8.12485558e+27, -7.00945647e+25,\n",
       "       -8.09218497e+25,  1.81851704e+28,  2.40569229e+26, -2.27541408e+26,\n",
       "        8.55292990e+27,  8.12485558e+27,  7.19598301e+27,  7.20166120e+27,\n",
       "        7.20166120e+27,  8.53748600e+26,  7.19598301e+27,  1.88742601e+27,\n",
       "        1.99364834e+27, -4.77353743e+25, -1.96562572e+26, -6.71801413e+24,\n",
       "       -4.80123489e+25,  8.14232898e+27, -5.81910812e+25, -4.77155745e+25,\n",
       "       -9.68488991e+25, -2.65424303e+26, -2.11460167e+27,  5.42058332e+26,\n",
       "        8.12485558e+27,  2.01972742e+24, -1.88884880e+26, -2.02381522e+25,\n",
       "       -4.80140733e+25,  1.90032438e+26, -2.15694864e+25,  7.20166120e+27,\n",
       "       -4.10303612e+27, -1.01461700e+26,  1.87950097e+28,  7.20166120e+27,\n",
       "        7.20166120e+27,  1.55804327e+27,  1.42861682e+27,  7.20166120e+27,\n",
       "        6.02977517e+26,  5.81289778e+26,  2.23520374e+28,  8.75373631e+26,\n",
       "        7.20166120e+27, -1.52702183e+26, -1.55554923e+27,  2.99551033e+27,\n",
       "        2.75597608e+26,  7.20166120e+27,  8.96874147e+25,  7.20166120e+27,\n",
       "        7.20166120e+27,  7.20166120e+27,  1.37762532e+26,  7.20166120e+27,\n",
       "       -3.03037601e+27,  2.40569229e+26, -3.95607275e+26,  4.26225155e+27,\n",
       "        5.36877769e+25,  3.08941097e+27, -2.57478923e+25, -1.03189153e+28,\n",
       "        1.98183627e+27,  9.48611624e+27, -1.61752957e+26,  1.18761451e+26,\n",
       "        1.88248385e+26,  2.56231724e+26,  7.20166120e+27,  7.20166120e+27,\n",
       "        7.20166120e+27, -4.80321487e+25, -4.79893965e+25, -6.71801413e+24,\n",
       "        5.06655655e+27, -6.24314598e+25,  5.83374986e+24,  2.55163329e+26,\n",
       "       -5.16580812e+25, -7.96231101e+25,  7.20166120e+27, -1.58332421e+26,\n",
       "        4.26841463e+26, -1.25540565e+26,  2.45816345e+26,  7.20166120e+27,\n",
       "        9.29944588e+27,  2.83221338e+26,  4.88095808e+26, -1.35998750e+27,\n",
       "       -4.82919795e+26, -5.04354779e+25,  1.98699543e+27,  7.20166120e+27,\n",
       "       -7.42222847e+26, -4.80321487e+25,  7.20166120e+27,  1.44336541e+27,\n",
       "        7.20166120e+27,  1.20644034e+26, -4.82592549e+25,  1.72092275e+27,\n",
       "       -4.81182388e+25, -1.25302680e+25,  5.71035310e+27, -2.88063958e+26,\n",
       "        8.51286916e+25,  7.20166120e+27,  3.34628644e+26,  1.08890660e+26,\n",
       "       -1.20123354e+27,  7.20166120e+27, -8.13435264e+25, -6.71801413e+24,\n",
       "        1.77426533e+28,  1.88742601e+27,  5.77450145e+25, -5.16136520e+25,\n",
       "       -2.13116878e+26,  1.08890660e+26, -2.62740043e+28,  2.83193894e+25,\n",
       "        8.12485558e+27, -8.84461715e+26, -2.02381522e+25, -1.45568037e+26,\n",
       "        1.39628623e+28,  8.55292990e+27,  2.42908492e+26,  2.16367082e+26,\n",
       "        3.56905672e+26,  3.62732226e+26,  8.14232898e+27,  7.96445873e+26,\n",
       "        3.34628644e+26,  7.08812207e+26, -1.26473636e+27, -4.80416110e+25,\n",
       "       -5.71836592e+25,  5.71035310e+27,  4.31788006e+26,  3.56375833e+27,\n",
       "        1.61732128e+27, -2.23600584e+26, -6.14309402e+25,  2.41751347e+26,\n",
       "        3.53738744e+25,  2.45424308e+26,  7.20166120e+27, -1.25302680e+25,\n",
       "       -5.06442430e+26, -4.80123489e+25, -6.87937704e+25, -7.10666376e+25,\n",
       "        8.01840718e+26, -2.36774669e+27, -4.66131776e+25,  9.45305880e+26,\n",
       "        5.71035310e+27,  7.20166120e+27,  5.77450145e+25, -4.91753867e+25,\n",
       "        2.46702937e+26, -3.74184735e+26,  7.20166120e+27, -1.97001665e+26,\n",
       "       -9.89987684e+26, -1.89399512e+26,  4.49806629e+26, -7.11515219e+25,\n",
       "       -4.59195957e+25,  7.20166120e+27,  2.40569229e+26,  2.61029222e+26,\n",
       "        5.12713700e+26,  7.20166120e+27, -1.25540565e+26, -4.35350528e+26,\n",
       "        7.61226213e+27, -3.83618945e+27,  9.02531436e+27, -2.02918928e+26,\n",
       "        7.20166120e+27,  7.20166120e+27,  9.29442083e+29, -5.66576165e+25,\n",
       "        7.20166120e+27, -6.71801413e+24,  2.52793957e+27, -1.48038250e+27,\n",
       "        7.20166120e+27,  8.14232898e+27,  2.26528909e+27, -8.36467583e+26,\n",
       "        7.22095976e+26, -5.49638105e+26,  7.20166120e+27,  7.20166120e+27,\n",
       "        2.06212303e+27, -3.83618945e+27,  7.20166120e+27, -5.61578126e+26,\n",
       "        3.75823588e+25,  1.18761451e+26,  8.98313111e+26,  5.36877769e+25,\n",
       "        1.88742601e+27,  8.63700740e+26,  2.06085202e+27,  7.20166120e+27,\n",
       "        7.61226213e+27,  7.20166120e+27,  6.70724013e+25,  5.77450145e+25,\n",
       "       -5.21343483e+25,  7.20166120e+27, -5.08438948e+25,  2.63608867e+26,\n",
       "        1.50350314e+27, -3.78822145e+25,  2.95418833e+26,  7.20166120e+27,\n",
       "        6.30230626e+27,  7.08812207e+26, -5.05031628e+26,  1.02836223e+27,\n",
       "       -5.42312085e+25,  1.52863196e+27, -6.30842998e+25,  9.21809459e+26,\n",
       "        4.16410666e+26,  9.87874768e+25, -4.80680122e+25,  4.26841463e+26,\n",
       "       -5.87731897e+27, -2.57478923e+25,  1.95092176e+26, -5.53640309e+26,\n",
       "        1.99597453e+26, -1.85750938e+26,  7.20166120e+27,  7.20166120e+27,\n",
       "       -1.67057872e+27,  7.20166120e+27,  1.79119877e+26,  7.20166120e+27,\n",
       "        2.56231724e+26, -5.30315793e+25, -2.05229578e+26,  6.34253119e+27,\n",
       "        7.20166120e+27, -5.28166495e+26,  1.58874928e+27,  7.20166120e+27,\n",
       "        8.22476348e+27,  1.95428314e+26, -1.39307421e+26,  9.19287875e+27,\n",
       "        7.20166120e+27,  7.18418780e+27, -4.80416110e+25,  7.20166120e+27,\n",
       "        7.20166120e+27, -2.35198768e+27,  2.36885469e+26, -1.16622874e+27,\n",
       "        6.16338423e+27,  7.20166120e+27, -2.96253041e+27,  1.54217376e+25,\n",
       "        7.20166120e+27,  7.20166120e+27,  8.98313111e+26,  2.05402669e+26,\n",
       "        1.79925741e+28,  5.62082577e+26,  7.20166120e+27,  7.61226213e+27,\n",
       "        9.27832482e+26, -4.63514777e+25,  2.42049301e+27, -6.12000379e+25,\n",
       "       -5.65769947e+25, -6.25531145e+26,  2.43751013e+27, -4.80416110e+25,\n",
       "       -2.18999784e+26, -1.20808377e+27,  5.71035310e+27, -1.03855774e+27,\n",
       "        8.12485558e+27,  1.27386254e+26,  2.05578615e+26,  2.23088784e+28,\n",
       "        6.37260084e+26, -6.71801413e+24, -3.58627709e+25,  1.08890660e+26,\n",
       "        2.19412071e+26,  7.20166120e+27,  7.20166120e+27,  2.40569229e+26,\n",
       "       -4.66572607e+26,  1.95092176e+26,  1.21623436e+27, -7.15605087e+26,\n",
       "        4.30511410e+25, -1.16518628e+26, -5.82306510e+25,  2.03607796e+26,\n",
       "        1.18808127e+25, -2.38859942e+26, -1.13020535e+26,  7.20166120e+27,\n",
       "       -1.59250945e+27, -5.60929240e+25,  4.19172248e+26,  7.20166120e+27,\n",
       "       -5.17459361e+25, -6.71801413e+24,  1.20644034e+26,  7.20166120e+27,\n",
       "        1.61681020e+26,  2.16367082e+26,  7.20166120e+27, -4.55387233e+26,\n",
       "        7.20166120e+27, -4.80433354e+25,  6.13098535e+26, -1.68918608e+26,\n",
       "        7.19598301e+27,  2.22465755e+29,  1.01088883e+27,  2.52537046e+26,\n",
       "       -1.23121197e+26,  5.71035310e+27,  2.36159858e+26,  9.91429656e+27,\n",
       "       -8.54165455e+25,  3.62732226e+26,  7.20166120e+27,  6.40792455e+26,\n",
       "       -6.79322685e+25,  7.20166120e+27,  7.20166120e+27, -1.39307421e+26,\n",
       "        8.75373631e+26, -5.81603589e+26, -1.63101430e+26,  6.87941051e+25,\n",
       "       -1.13020535e+26, -5.49372341e+25, -4.95607371e+25,  7.20166120e+27,\n",
       "       -8.29814552e+25,  7.20166120e+27,  2.00716547e+27, -4.80433354e+25,\n",
       "       -3.88964211e+26,  2.25347531e+27, -5.08455042e+25, -5.44509191e+25,\n",
       "        7.20166120e+27,  4.60761173e+28, -4.80123489e+25,  2.04322889e+27,\n",
       "       -5.00933217e+26,  1.85210121e+28,  9.45305880e+26,  6.34253119e+27,\n",
       "        4.55260963e+26,  2.40569229e+26, -5.31295216e+25,  1.01583290e+27,\n",
       "        6.34253119e+27, -5.77267668e+27,  4.26841463e+26,  1.60410613e+26,\n",
       "       -5.93390332e+25, -6.14422479e+25,  8.98313111e+26, -4.91393267e+26,\n",
       "        6.34253119e+27, -2.62740043e+28, -4.56370494e+25,  1.50350314e+27,\n",
       "        7.20166120e+27,  1.60396166e+28,  4.56835620e+27, -4.80123489e+25,\n",
       "        7.20166120e+27,  4.30816610e+27, -2.73197932e+27,  7.20166120e+27,\n",
       "        2.01072375e+27, -5.23866236e+25,  2.02776483e+27, -5.17512332e+25,\n",
       "       -4.77353743e+25,  1.46303521e+26, -3.19790331e+26, -1.74106567e+27,\n",
       "       -5.26521339e+25, -2.42060324e+26,  2.26677082e+26, -8.86950488e+25,\n",
       "        3.22095360e+27, -5.62432891e+26,  1.88708548e+27,  1.09119109e+28,\n",
       "        2.67445829e+26, -5.17459361e+25,  1.20644034e+26, -1.13020535e+26,\n",
       "       -4.56370494e+25,  6.34728326e+26,  5.58260285e+27,  8.08464658e+27,\n",
       "       -5.07717010e+25,  7.20166120e+27,  9.48683358e+27,  8.14232898e+27,\n",
       "        5.98685703e+26,  4.44077158e+26,  7.20166120e+27,  8.01289749e+26,\n",
       "       -2.73089508e+26, -1.06953905e+27,  2.02615348e+27,  2.04322889e+27,\n",
       "       -4.67331520e+25,  7.20166120e+27, -3.42489049e+26,  1.47297749e+28,\n",
       "       -6.13579333e+25,  7.20166120e+27,  4.58301496e+27,  5.48053345e+26,\n",
       "        5.61939051e+26,  3.62732226e+26,  1.98183627e+27, -4.99474608e+25,\n",
       "       -7.31715893e+26, -5.78548211e+25, -9.84726343e+25, -7.59059819e+26,\n",
       "       -1.50287495e+26,  1.82227095e+28,  4.79300315e+26,  7.20166120e+27,\n",
       "        7.20166120e+27, -1.25458528e+26,  1.04862945e+27,  7.19598301e+27,\n",
       "        6.34253119e+27, -6.10951883e+25,  8.14232898e+27,  8.14232898e+27,\n",
       "        1.85501474e+27,  4.74462227e+26, -5.57105526e+25, -4.80321487e+25,\n",
       "        7.20166120e+27,  1.50350314e+27, -5.59864547e+25, -3.13747177e+27,\n",
       "        1.95092176e+26,  7.20166120e+27, -3.42489049e+26, -1.81559747e+26,\n",
       "       -2.13850253e+27,  7.61226213e+27, -2.09916326e+26,  2.41643125e+26,\n",
       "        7.20166120e+27,  6.36169373e+26,  7.19598301e+27, -3.64829202e+27,\n",
       "       -8.81512224e+26, -5.05646838e+25, -4.80321487e+25,  7.20166120e+27,\n",
       "        5.71035310e+27, -4.80433354e+25,  2.26055134e+26,  9.02531436e+27,\n",
       "       -7.16090018e+26,  8.99086209e+27,  3.99801572e+26, -1.04589361e+27,\n",
       "       -1.58189804e+26,  1.88708548e+27,  9.02531436e+27, -6.80089569e+26,\n",
       "        8.16762547e+26,  5.88950006e+27,  2.12609080e+25, -4.19418222e+25,\n",
       "       -8.10679119e+25,  7.20166120e+27,  7.20166120e+27,  1.54266119e+27,\n",
       "       -1.50287495e+26,  2.40569229e+26, -4.91753867e+25,  1.77817356e+28,\n",
       "       -5.21048323e+26,  1.42101614e+28, -5.33715315e+25,  4.72341529e+26,\n",
       "        7.20166120e+27,  3.34628644e+26,  7.20166120e+27, -2.41271322e+27,\n",
       "       -2.84636458e+27,  2.68627602e+27,  2.02615348e+27, -4.58325366e+26,\n",
       "        7.20166120e+27,  7.38022536e+26,  2.39529506e+27, -5.27177903e+26,\n",
       "       -1.39307421e+26,  1.89607485e+27, -1.74970881e+25, -2.09732435e+27,\n",
       "       -7.42222847e+26,  2.36159858e+26,  2.40285482e+26, -6.20904319e+25,\n",
       "        2.24112127e+27,  6.00709504e+26,  7.08066743e+26, -4.80433354e+25,\n",
       "       -3.74564233e+27,  5.43550424e+27,  7.20166120e+27,  7.20166120e+27,\n",
       "       -4.10303612e+27, -4.81182388e+25, -7.84275672e+25,  4.56835620e+27,\n",
       "       -4.80123489e+25, -2.62740043e+28, -9.68488991e+25, -1.71906112e+26,\n",
       "        1.98183627e+27,  9.21809459e+26,  2.33817547e+26,  1.43582224e+27,\n",
       "        7.20166120e+27, -4.56370494e+25,  5.99882613e+27,  5.56850059e+26,\n",
       "       -1.86652870e+26,  1.63200467e+26, -6.61665737e+26, -1.25302680e+25,\n",
       "        7.20166120e+27, -7.86739033e+25,  8.22476348e+27,  7.20166120e+27,\n",
       "        7.20166120e+27,  7.20166120e+27, -9.14396894e+27,  2.02615348e+27,\n",
       "       -2.15047475e+26, -7.79955432e+26,  7.18418780e+27,  7.20166120e+27,\n",
       "        1.36196566e+27,  1.31223951e+27, -6.53089774e+26,  3.52107649e+29,\n",
       "        7.96445873e+26])"
      ]
     },
     "execution_count": 52,
     "metadata": {},
     "output_type": "execute_result"
    }
   ],
   "source": [
    "y_pred"
   ]
  },
  {
   "cell_type": "code",
   "execution_count": 17,
   "metadata": {},
   "outputs": [
    {
     "name": "stdout",
     "output_type": "stream",
     "text": [
      "Expected 248, actual 251\n",
      "Expected 80043762, actual 79332120\n",
      "Expected 3677313, actual -47155\n",
      "Expected 86093442, actual 86520256\n",
      "Expected 59427552583207598523644161, actual -40404359308928320798720\n",
      "Expected 12348030976, actual 5410809856\n",
      "Expected 35184369991680, actual -102678888448\n",
      "Expected 3253, actual 3097\n",
      "Expected 58806, actual -2077\n",
      "Expected 6048, actual -103553\n",
      "Expected 377, actual 378\n",
      "Expected 36583, actual -1777\n",
      "too short\n",
      "Expected 2905990310033882693113989027594240, actual -9147432339938054504448\n",
      "Expected 144, actual -2\n",
      "Right! (0)\n",
      "Expected 4, actual 0\n",
      "Right! (0)\n",
      "Expected 1472008290120323375502, actual 644398186001005019136\n",
      "Expected 3000, actual -83\n",
      "Expected 32151936434405, actual 0\n",
      "Expected 17794687292056874401, actual 17717222506726686720\n",
      "Expected 562379596107, actual -35758240\n",
      "Expected 142, actual 144\n",
      "Expected 49050, actual 52746\n",
      "Expected 512, actual -321581\n",
      "Expected 961380175077106319535, actual 387486052764260237312\n",
      "Expected 362880, actual -14305393\n",
      "Expected 2579, actual -1042\n",
      "Expected 465976686530941599, actual -408383609896960\n",
      "Expected 0, actual 1\n",
      "Expected 484631574, actual 819336192\n",
      "Expected 99200000000000000000, actual -934634224193896448\n",
      "Expected 13081114692, actual 25100230656\n",
      "Expected 6055426942, actual -11496962\n",
      "Expected 27, actual 26\n",
      "Expected 72, actual 29\n",
      "Expected 100, actual -2\n",
      "Expected 48626519377, actual -1747996032\n",
      "Expected 12870742, actual 13672072\n",
      "Expected 2, actual 3\n",
      "Right! (4)\n",
      "Expected 57596301070572648147987649881578568811888391304423063406302778568, actual -28278504477763562983294025078931456\n",
      "Expected 0, actual -30916333568\n",
      "Expected 128874564, actual -2126392\n",
      "Expected 958737, actual 577280\n",
      "Expected 327711548662770753, actual 334553797462327296\n",
      "Expected 1, actual 0\n",
      "Expected 4123, actual -79\n",
      "Right! (2)\n",
      "Expected 571, actual 752\n",
      "Expected 3885584044838123386104, actual -1812655969063141376\n",
      "Expected -102644658064599590, actual -302040991399936\n",
      "Expected 790, actual 0\n",
      "Expected 204668289, actual 211712208\n",
      "Exception: cannot convert float NaN to integer\n",
      "Expected 1, actual -59\n",
      "Expected 511, actual -28\n",
      "Expected 1049653570430645994556, actual 561671705183324733440\n",
      "Expected 6, actual 2\n",
      "Expected 6453969104, actual -4512695296\n",
      "Expected 818, actual 898\n",
      "Expected 103, actual 60\n",
      "Expected 107145471557284795514880041, actual 8496302468762781614080\n",
      "Expected 6423032, actual 7845096\n",
      "Expected 14296, actual -136\n",
      "Expected 196740, actual 139087\n",
      "Expected 210, actual -3\n",
      "Expected 146, actual 147\n",
      "Expected 529269910501209999900, actual 286117589792149471232\n",
      "Expected 65948796453391527, actual 63332264896888832\n",
      "Expected 154, actual -9\n",
      "Expected 113841, actual -38305776\n",
      "Expected 19206046214728593228858, actual 47264206232542041341952\n",
      "Expected 9626431, actual 18335978\n",
      "Exception: cannot convert float infinity to integer\n",
      "Expected 822882449, actual 1300188416\n",
      "Expected 42187, actual 50352\n",
      "Expected 13665466330288975220888581437110387323801268880, actual -7383802342655189020232186353751687168\n",
      "Expected 643, actual 636\n",
      "Expected 7121115628832971863, actual 6746010711266164736\n",
      "Expected 4, actual 3\n",
      "Expected 1830830, actual 2643317\n",
      "Expected 189710894331601371183344, actual -104200268363587387392\n",
      "Expected 272, actual -25\n",
      "Expected 13684977, actual 12532113\n",
      "Expected 24215844242325537, actual -369799167213568\n",
      "Expected 90909090909090909091, actual -1070761322855006208\n",
      "Expected 104, actual -7\n",
      "Expected 3486784341, actual -34631344\n",
      "Expected 208423682, actual -139147\n",
      "Expected 6, actual 3\n",
      "Expected 3909, actual 4189\n",
      "Expected 793067310934426018, actual 764277816731631616\n",
      "Expected 6, actual 4\n",
      "Expected 33, actual 32\n",
      "Expected 50887, actual -406725\n",
      "Expected 1471, actual -134\n",
      "Expected 513176076, actual 513203776\n",
      "Expected 103, actual -4\n",
      "right: 4, wrong: 93\n"
     ]
    }
   ],
   "source": [
    "right = 0\n",
    "wrong = 0\n",
    "exceptions = 0\n",
    "test_indices = np.random.choice(np.arange(len(sequences)), size=100)\n",
    "sample_sequences = sequences[test_indices]\n",
    "for (j, sequence) in enumerate(sample_sequences): #todo change for each process\n",
    "    try:\n",
    "        if len(sequence) < 6:\n",
    "            print('too short')\n",
    "            continue\n",
    "        n_train = 5\n",
    "        x_train = []\n",
    "        y_train = []\n",
    "        for i in range(len(sequence) - n_train - 2):\n",
    "            x_train.append(sequence[i:i+n_train])\n",
    "            y_train.append(sequence[i+n_train])\n",
    "        x_train = np.array(x_train).reshape(-1, 1, n_train)\n",
    "        y_train = np.array(y_train)\n",
    "\n",
    "        model = Sequential()\n",
    "        model.add(SimpleRNN(n_train, activation='relu', kernel_initializer='normal', return_sequences=True))\n",
    "        model.add(Flatten())\n",
    "        model.add(Dense(1))\n",
    "        model.compile(optimizer='sgd', loss='mean_squared_logarithmic_error', metrics=['accuracy'])\n",
    "\n",
    "\n",
    "#         model.add(LSTM(4, input_shape=(1, n_train), activation='relu', kernel_initializer='normal'))\n",
    "#         model.add(Dense(1))\n",
    "#         model.compile(loss='mean_squared_logarithmic_error', optimizer='adam', metrics=['accuracy'])\n",
    "        model.fit(x_train, y_train, epochs=100, batch_size=1, verbose=0)\n",
    "        y_pred = int(model.predict(np.array(sequence[-n_train-1:-1]).reshape(-1, 1, n_train)))\n",
    "        if y_pred == sequence[len(sequence) - 1]:\n",
    "            print('Right! ({0})'.format(y_pred))\n",
    "            right += 1\n",
    "        else:\n",
    "            print('Expected {0}, actual {1}'.format(sequence[len(sequence) - 1], y_pred))\n",
    "            wrong += 1\n",
    "    except Exception as e:\n",
    "        print('Exception:', e)\n",
    "print('right: {0}, wrong: {1}'.format(right, wrong))"
   ]
  },
  {
   "cell_type": "code",
   "execution_count": 23,
   "metadata": {},
   "outputs": [
    {
     "name": "stdout",
     "output_type": "stream",
     "text": [
      "nans:  0\n",
      "exceptions:  0\n"
     ]
    }
   ],
   "source": [
    "exceptions = 0\n",
    "for (j, sequence) in enumerate(test_sequences[]): #todo change for each process\n",
    "    try:\n",
    "        if len(sequence) < 3:\n",
    "            y_pred[j] = handle_markov(sequence, len(sequence), )\n",
    "            continue\n",
    "        n_train = math.ceil(len(sequence) / 2)\n",
    "        if len(sequence) >= 20:\n",
    "            n_train = 10\n",
    "        x_train = []\n",
    "        y_train = []\n",
    "        for i in range(len(sequence) - n_train - 1):\n",
    "            x_train.append(sequence[i:i+n_train])\n",
    "            y_train.append(sequence[i+n_train])\n",
    "        x_train = np.array(x_train).reshape(-1, 1, n_train)\n",
    "        y_train = np.array(y_train)\n",
    "        model = Sequential()\n",
    "        model.add(SimpleRNN(n_train, activation='relu', kernel_initializer='normal', return_sequences=True))\n",
    "        model.add(Flatten())\n",
    "        model.add(Dense(1))\n",
    "        model.compile(optimizer='sgd', loss='mean_squared_logarithmic_error', metrics=['accuracy'])\n",
    "        model.fit(x_train, y_train, epochs=200, verbose=0)\n",
    "        y_pred[j] = int(model.predict(np.array(sequence[-n_train:]).reshape(-1, 1, n_train)))\n",
    "    except Exception as e:\n",
    "        exceptions += 1\n",
    "\n",
    "nans = 0\n",
    "with open('submission_part1.csv', 'w') as f: #todo change filename for each process\n",
    "    f.write('Id,Last\\n')\n",
    "    for i, x in enumerate(y_pred):\n",
    "        if math.isnan(x) or math.isinf(x):\n",
    "            x = 0\n",
    "            nans += 1\n",
    "        f.write('%d,%d\\n' % (ids[i], x))\n",
    "print('nans: ', nans)\n",
    "print('exceptions: ', exceptions)"
   ]
  },
  {
   "cell_type": "code",
   "execution_count": 19,
   "metadata": {},
   "outputs": [],
   "source": []
  },
  {
   "cell_type": "code",
   "execution_count": null,
   "metadata": {},
   "outputs": [],
   "source": []
  },
  {
   "cell_type": "code",
   "execution_count": null,
   "metadata": {},
   "outputs": [],
   "source": []
  },
  {
   "cell_type": "markdown",
   "metadata": {},
   "source": [
    "Text Approach"
   ]
  },
  {
   "cell_type": "code",
   "execution_count": 1,
   "metadata": {},
   "outputs": [
    {
     "name": "stderr",
     "output_type": "stream",
     "text": [
      "/Users/ddzina/anaconda3/lib/python3.6/site-packages/h5py/__init__.py:36: FutureWarning: Conversion of the second argument of issubdtype from `float` to `np.floating` is deprecated. In future, it will be treated as `np.float64 == np.dtype(float).type`.\n",
      "  from ._conv import register_converters as _register_converters\n",
      "Using TensorFlow backend.\n"
     ]
    }
   ],
   "source": [
    "import keras\n",
    "import pandas as pd\n",
    "import numpy as np\n",
    "from keras.models import Sequential\n",
    "from keras.layers import SimpleRNN, Dense, Flatten, LSTM, Dropout\n",
    "from keras.utils import np_utils\n",
    "from sklearn.preprocessing import MinMaxScaler\n",
    "import math\n",
    "import time\n",
    "import warnings\n",
    "warnings.filterwarnings('ignore')"
   ]
  },
  {
   "cell_type": "code",
   "execution_count": null,
   "metadata": {},
   "outputs": [],
   "source": [
    "train_data = pd.read_csv('train.csv')\n",
    "train_sequences = train_data['Sequence']\n",
    "test_data = pd.read_csv('test.csv')\n",
    "test_sequences = test_data['Sequence']\n",
    "chars = [',', '-', '0', '1', '2', '3', '4', '5', '6', '7', '8', '9']\n",
    "char_to_int = dict((c, i) for i, c in enumerate(chars))\n",
    "int_to_char = dict((i, c) for i, c in enumerate(chars))\n",
    "y_pred = [0] * len(test_sequences)\n",
    "exceptions = 0\n",
    "n_train = 100\n",
    "x_train = []\n",
    "y_train = []\n",
    "\n",
    "for (j, sequence) in enumerate(test_sequences):\n",
    "    if j % 10000 == 0:\n",
    "        print('sequence', j)\n",
    "    sequence += ','\n",
    "    if len(sequence) < 101:\n",
    "        continue\n",
    "    for i in range(len(sequence) - n_train - 1):\n",
    "        x_train.append([char_to_int[char] for char in sequence[i:i + n_train]])\n",
    "        y_train.append(char_to_int[sequence[i + n_train]])\n",
    "        \n",
    "x_train = np.reshape(x_train, (-1, n_train, 1))\n",
    "y_train = np_utils.to_categorical(y_train)\n",
    "model = Sequential()\n",
    "model.add(LSTM(256, input_shape=(x_train.shape[1], x_train.shape[2])))\n",
    "model.add(Dropout(0.2))\n",
    "model.add(Dense(y_train.shape[1], activation='softmax'))\n",
    "model.compile(loss='categorical_crossentropy', optimizer='adam')\n",
    "model.fit(x_train, y_train, epochs=20, batch_size=128, verbose=1)"
   ]
  },
  {
   "cell_type": "code",
   "execution_count": null,
   "metadata": {},
   "outputs": [],
   "source": [
    "for (j, sequence) in enumerate(test_sequences):\n",
    "    word = ''\n",
    "    seq_to_predict = [char_to_int[char] for char in sequence[-n_train:]]\n",
    "    while True:\n",
    "        try:\n",
    "            x_test = np.reshape(seq_to_predict, (1, n_train, 1))\n",
    "            prediction = model.predict(x_test, verbose=0)\n",
    "            pred_int = np.argmax(prediction)\n",
    "            pred_char = int_to_char[pred_int]\n",
    "            if pred_char == ',':\n",
    "                break\n",
    "            word += pred_char\n",
    "            seq_to_predict.append(pred_int)\n",
    "            seq_to_predict = seq_to_predict[-n_train:]\n",
    "        except Exception as e:\n",
    "            print(e)\n",
    "    y_pred[j] = word"
   ]
  },
  {
   "cell_type": "code",
   "execution_count": null,
   "metadata": {},
   "outputs": [
    {
     "name": "stdout",
     "output_type": "stream",
     "text": [
      "Processing sequence 0... \n",
      "Processing sequence 1... \n",
      "formed len train data\n",
      "Epoch 1/20\n"
     ]
    }
   ],
   "source": [
    "test_data = pd.read_csv('test.csv')\n",
    "test_sequences = test_data['Sequence']\n",
    "chars = [',', '-', '0', '1', '2', '3', '4', '5', '6', '7', '8', '9']\n",
    "char_to_int = dict((c, i) for i, c in enumerate(chars))\n",
    "int_to_char = dict((i, c) for i, c in enumerate(chars))\n",
    "y_pred = [0] * len(test_sequences)\n",
    "exceptions = 0\n",
    "n_train = 100\n",
    "\n",
    "total_start = time.time()\n",
    "for (j, sequence) in enumerate(test_sequences[:20]):\n",
    "    start = time.time()\n",
    "    if j % 1 == 0:\n",
    "        print('Processing sequence {0}... '.format(j))\n",
    "    if len(sequence) < 101:\n",
    "        continue\n",
    "    numbers = sequence.split(',')\n",
    "    if len(numbers) < 4:\n",
    "        continue\n",
    "    len_n_train = 10\n",
    "    if len(numbers) < 11:\n",
    "        len_n_train = len(numbers) // 2\n",
    "    len_sequence = [len(item) for item in numbers]\n",
    "    len_x_train = []\n",
    "    len_y_train = []\n",
    "    for i in range(len(numbers) - len_n_train - 1):\n",
    "        len_x_train.append(numbers[i:i + len_n_train])\n",
    "        len_y_train.append(numbers[i + len_n_train])\n",
    "    print('formed len train data')\n",
    "    len_x_train = np.reshape(len_x_train, (-1, len_n_train, 1))\n",
    "    len_y_train = np_utils.to_categorical(len_y_train)\n",
    "    len_model = Sequential()\n",
    "    len_model.add(LSTM(4, input_shape=(len_x_train.shape[1], len_x_train.shape[2])))\n",
    "    len_model.add(Dropout(0.2))\n",
    "    len_model.add(Dense(len_y_train.shape[1], activation='softmax'))\n",
    "    len_model.compile(loss='categorical_crossentropy', optimizer='adam')\n",
    "    len_model.fit(len_x_train, len_y_train, epochs=20, verbose=1)    \n",
    "    print('len model fitted')\n",
    "    len_prob = len_model.predict(np.reshape(numbers[-len_n_train:], (1, len_n_train, 1)), verbose=1)\n",
    "    predicted_len = np.argmax(len_prob)\n",
    "    print('predicted_len:', predicted_len)\n",
    "\n",
    "    sequence += ','\n",
    "    x_train = []\n",
    "    y_train = []\n",
    "    for i in range(len(sequence) - n_train - 1):\n",
    "        x_train.append([char_to_int[char] for char in sequence[i:i + n_train]])\n",
    "        y_train.append(char_to_int[sequence[i + n_train]])\n",
    "\n",
    "    print('formed train data')\n",
    "    x_train = np.reshape(x_train, (-1, n_train, 1))\n",
    "    y_train = np_utils.to_categorical(y_train)\n",
    "    model = Sequential()\n",
    "    model.add(LSTM(256, input_shape=(x_train.shape[1], x_train.shape[2])))\n",
    "    model.add(Dropout(0.2))\n",
    "    model.add(Dense(y_train.shape[1], activation='softmax'))\n",
    "    model.compile(loss='categorical_crossentropy', optimizer='adam')\n",
    "    model.fit(x_train, y_train, epochs=20, verbose=1)\n",
    "    print('model fitted')\n",
    "\n",
    "    word = ''\n",
    "    seq_to_predict = [char_to_int[char] for char in sequence[-n_train:]]\n",
    "    for i in range(predicted_len):\n",
    "        try:\n",
    "            x_test = np.reshape(seq_to_predict, (1, n_train, 1))\n",
    "            prediction = model.predict(x_test, verbose=1)\n",
    "            pred_int = np.argmax(prediction)\n",
    "            pred_char = int_to_char[pred_int]\n",
    "            if pred_char == ',':\n",
    "                break\n",
    "            word += pred_char\n",
    "            seq_to_predict.append(pred_int)\n",
    "            seq_to_predict = seq_to_predict[-n_train:]\n",
    "        except Exception as e:\n",
    "            print(e)\n",
    "    y_pred[j] = word\n",
    "    end = time.time()\n",
    "    if j % 1 == 0:\n",
    "        print('Predicted: {0}. Time: {1}'.format(word, end - start))\n",
    "\n",
    "total_end = time.time()\n",
    "print('Total time: {0}'.format(total_end - total_start))"
   ]
  },
  {
   "cell_type": "code",
   "execution_count": 9,
   "metadata": {},
   "outputs": [
    {
     "data": {
      "text/plain": [
       "[2, 3, 4]"
      ]
     },
     "execution_count": 9,
     "metadata": {},
     "output_type": "execute_result"
    }
   ],
   "source": [
    "a = '12,123,7777,'\n",
    "b = [len(item) for item in a.split(',')][:-1]\n",
    "b"
   ]
  },
  {
   "cell_type": "code",
   "execution_count": null,
   "metadata": {},
   "outputs": [],
   "source": []
  }
 ],
 "metadata": {
  "kernelspec": {
   "display_name": "Python 3",
   "language": "python",
   "name": "python3"
  },
  "language_info": {
   "codemirror_mode": {
    "name": "ipython",
    "version": 3
   },
   "file_extension": ".py",
   "mimetype": "text/x-python",
   "name": "python",
   "nbconvert_exporter": "python",
   "pygments_lexer": "ipython3",
   "version": "3.6.5"
  }
 },
 "nbformat": 4,
 "nbformat_minor": 2
}
