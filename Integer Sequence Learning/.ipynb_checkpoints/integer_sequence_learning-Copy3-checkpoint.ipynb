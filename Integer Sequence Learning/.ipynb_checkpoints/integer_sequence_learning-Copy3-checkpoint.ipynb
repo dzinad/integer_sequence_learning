{
 "cells": [
  {
   "cell_type": "code",
   "execution_count": 108,
   "metadata": {},
   "outputs": [],
   "source": [
    "import numpy as np\n",
    "import pandas as pd\n",
    "import matplotlib.pyplot as plt\n",
    "import warnings\n",
    "warnings.filterwarnings('ignore')"
   ]
  },
  {
   "cell_type": "code",
   "execution_count": 109,
   "metadata": {},
   "outputs": [],
   "source": [
    "data = pd.read_csv('train.csv')"
   ]
  },
  {
   "cell_type": "code",
   "execution_count": 110,
   "metadata": {},
   "outputs": [
    {
     "name": "stdout",
     "output_type": "stream",
     "text": [
      "Total sequences count: 113845\n"
     ]
    }
   ],
   "source": [
    "strs = data['Sequence']\n",
    "sequences = []\n",
    "for line in strs:\n",
    "    sequences.append([int(i) for i in line.split(',')])\n",
    "\n",
    "total = len(sequences)\n",
    "print('Total sequences count: {0}'.format(total))"
   ]
  },
  {
   "cell_type": "markdown",
   "metadata": {},
   "source": [
    "# Исследование датасета"
   ]
  },
  {
   "cell_type": "code",
   "execution_count": 29,
   "metadata": {},
   "outputs": [],
   "source": [
    "def has_property_percent(f):\n",
    "    n = 0\n",
    "    for sequence in sequences:\n",
    "        if (f(sequence)):\n",
    "            n += 1\n",
    "    return (n * 100. / total, n)\n",
    "\n",
    "def print_percentage(f):\n",
    "    percent, num = has_property_percent(f)\n",
    "    print('{0}% ({1})'.format(percent, num))\n",
    "    \n",
    "def print_sequences(f):\n",
    "    for sequence in sequences:\n",
    "        if (f(sequence)):\n",
    "            print(sequence, '\\n')"
   ]
  },
  {
   "cell_type": "code",
   "execution_count": 30,
   "metadata": {},
   "outputs": [],
   "source": [
    "def create_dict_percent(condition):\n",
    "    my_dict = {}\n",
    "    for i in range(0, 100):\n",
    "        my_dict[i] = 0\n",
    "    \n",
    "    for sequence in sequences:\n",
    "        sequence = np.array(sequence)\n",
    "        mask = condition(sequence)\n",
    "        percent_of_appr = len(sequence[mask]) * 100. / len(sequence)\n",
    "        key = int(percent_of_appr)\n",
    "        my_dict[key] += 1\n",
    "    return my_dict\n",
    "\n",
    "def plot_dict(d):\n",
    "    x = np.arange(100)\n",
    "    plt.bar(x, list(d.values()), width = [1] * len(x))\n",
    "    labels = []\n",
    "    for i in range(0, len(x)):\n",
    "        if i % 10 == 0:\n",
    "            labels.append(str(i) + '%')\n",
    "        else:\n",
    "            labels.append('')\n",
    "    plt.xticks(x, labels)\n",
    "    plt.ylabel('number of sequences')\n",
    "    plt.show()   \n",
    "    \n",
    "def explore_by_dict(condition):\n",
    "    plot_dict(create_dict_percent(condition))"
   ]
  },
  {
   "cell_type": "code",
   "execution_count": 31,
   "metadata": {},
   "outputs": [
    {
     "name": "stdout",
     "output_type": "stream",
     "text": [
      "0.01932452018094778% (22)\n"
     ]
    }
   ],
   "source": [
    "# 1. static\n",
    "def is_static(sequence):\n",
    "    return len(np.unique(sequence)) == 1\n",
    "\n",
    "print_percentage(is_static)"
   ]
  },
  {
   "cell_type": "code",
   "execution_count": 32,
   "metadata": {},
   "outputs": [
    {
     "name": "stdout",
     "output_type": "stream",
     "text": [
      "52.321138389916115% (59565)\n"
     ]
    }
   ],
   "source": [
    "# 2. возрастающая (строго)\n",
    "def is_strictly_increasing(sequence):\n",
    "    return np.all(np.diff(sequence) > 0)\n",
    "\n",
    "print_percentage(is_strictly_increasing)"
   ]
  },
  {
   "cell_type": "code",
   "execution_count": 33,
   "metadata": {},
   "outputs": [
    {
     "name": "stdout",
     "output_type": "stream",
     "text": [
      "63.42044007202776% (72201)\n"
     ]
    }
   ],
   "source": [
    "# 3. возрастающая (нестрого)\n",
    "def is_non_strictly_increasing(sequence):\n",
    "    return np.all(np.diff(sequence) >= 0)\n",
    "\n",
    "print_percentage(is_non_strictly_increasing)"
   ]
  },
  {
   "cell_type": "code",
   "execution_count": 34,
   "metadata": {},
   "outputs": [
    {
     "name": "stdout",
     "output_type": "stream",
     "text": [
      "0.20466423646185603% (233)\n"
     ]
    }
   ],
   "source": [
    "# 4. убывающая (строго)\n",
    "def is_strictly_decreasing(sequence):\n",
    "    return np.all(np.diff(sequence) < 0)\n",
    "\n",
    "print_percentage(is_strictly_decreasing)"
   ]
  },
  {
   "cell_type": "code",
   "execution_count": 35,
   "metadata": {},
   "outputs": [
    {
     "name": "stdout",
     "output_type": "stream",
     "text": [
      "0.3838552417760991% (437)\n"
     ]
    }
   ],
   "source": [
    "# 5. убывающая (нестрого)\n",
    "def is_non_strictly_decreasing(sequence):\n",
    "    return np.all(np.diff(sequence) <= 0)\n",
    "\n",
    "print_percentage(is_non_strictly_decreasing)"
   ]
  },
  {
   "cell_type": "code",
   "execution_count": 36,
   "metadata": {},
   "outputs": [
    {
     "name": "stdout",
     "output_type": "stream",
     "text": [
      "52.52053230269226% (59792)\n"
     ]
    }
   ],
   "source": [
    "# 6. монотонная (строго)\n",
    "def is_strictly_monotonic(sequence):\n",
    "    diff = np.diff(sequence)\n",
    "    return np.all(diff > 0) or np.all(diff < 0)\n",
    "\n",
    "print_percentage(is_strictly_monotonic)"
   ]
  },
  {
   "cell_type": "code",
   "execution_count": 37,
   "metadata": {},
   "outputs": [
    {
     "name": "stdout",
     "output_type": "stream",
     "text": [
      "63.78497079362291% (72616)\n"
     ]
    }
   ],
   "source": [
    "# 7. монотонная (нестрого)\n",
    "def is_non_strictly_monotonic(sequence):\n",
    "    diff = np.diff(sequence)\n",
    "    return np.all(diff >= 0) or np.all(diff <= 0)\n",
    "\n",
    "print_percentage(is_non_strictly_monotonic)"
   ]
  },
  {
   "cell_type": "code",
   "execution_count": 38,
   "metadata": {},
   "outputs": [
    {
     "name": "stdout",
     "output_type": "stream",
     "text": [
      "20.659668847995082% (23520)\n"
     ]
    }
   ],
   "source": [
    "# 8. колеблющаяся (процент пар элементов, на которых последовательность возрастает, и пар, на которых убывает, не меньше порогового)\n",
    "def is_oscillating(sequence, threshold = 0.333):\n",
    "    n = len(sequence)\n",
    "    diff = np.diff(sequence)\n",
    "    return (len(diff[diff > 0]) * 1. / n) >= threshold and (len(diff[diff < 0]) * 1. / n) >= threshold\n",
    "\n",
    "print_percentage(is_oscillating)"
   ]
  },
  {
   "cell_type": "code",
   "execution_count": 39,
   "metadata": {},
   "outputs": [
    {
     "data": {
      "image/png": "[encoded data removed]",
      "text/plain": [
       "<Figure size 432x288 with 1 Axes>"
      ]
     },
     "metadata": {},
     "output_type": "display_data"
    }
   ],
   "source": [
    "# 9. классификация по количеству уникальных элементов\n",
    "dict_unique_num = {}\n",
    "for sequence in sequences:\n",
    "    unique_num = len(np.unique(sequence))\n",
    "    prev_num = dict_unique_num.get(unique_num)\n",
    "    if (prev_num is None):\n",
    "        dict_unique_num[unique_num] = 1\n",
    "    else :\n",
    "        dict_unique_num[unique_num] += 1\n",
    "for key in sorted(dict_unique_num):\n",
    "    dict_unique_num[key] = dict_unique_num[key] * 100. / total\n",
    "    \n",
    "plt.bar(range(len(dict_unique_num)), list(dict_unique_num.values()), align = 'center', width = 4)\n",
    "plt.xlabel('number of unique elements in sequence')\n",
    "plt.ylabel('number of sequences, %')\n",
    "plt.show()"
   ]
  },
  {
   "cell_type": "code",
   "execution_count": 40,
   "metadata": {},
   "outputs": [
    {
     "name": "stdout",
     "output_type": "stream",
     "text": [
      "18.172954455619482% (20689)\n"
     ]
    }
   ],
   "source": [
    "# 10. Мало повторов элементов?\n",
    "def number_of_unique_elements_fits_condition(sequence, condition):\n",
    "    return condition(len(np.unique(sequence)))\n",
    "\n",
    "def lots_of_repetitions(sequence, threshold = 0.5):\n",
    "    condition = lambda x : x * 1. / len(sequence) <= threshold\n",
    "    return number_of_unique_elements_fits_condition(sequence, condition)\n",
    "\n",
    "print_percentage(lots_of_repetitions)"
   ]
  },
  {
   "cell_type": "code",
   "execution_count": 41,
   "metadata": {},
   "outputs": [
    {
     "name": "stdout",
     "output_type": "stream",
     "text": [
      "59.68553735341912% (67949)\n"
     ]
    }
   ],
   "source": [
    "# 11. Нет повторов элементов? \n",
    "def no_repetitions(sequence):\n",
    "    condition = lambda x : x== len(sequence)\n",
    "    return number_of_unique_elements_fits_condition(sequence, condition)\n",
    "\n",
    "print_percentage(no_repetitions)"
   ]
  },
  {
   "cell_type": "code",
   "execution_count": 42,
   "metadata": {},
   "outputs": [
    {
     "name": "stdout",
     "output_type": "stream",
     "text": [
      "0.31534103386182966% (359)\n"
     ]
    }
   ],
   "source": [
    "# 12. арифметическая прогрессия\n",
    "def is_arithmetic_progression(sequence):\n",
    "    return len(np.unique(np.diff(sequence))) == 1\n",
    "\n",
    "print_percentage(is_arithmetic_progression)"
   ]
  },
  {
   "cell_type": "code",
   "execution_count": 43,
   "metadata": {},
   "outputs": [
    {
     "name": "stdout",
     "output_type": "stream",
     "text": [
      "0.1405419649523475% (160)\n"
     ]
    }
   ],
   "source": [
    "# 13. геометрическая прогрессия\n",
    "def is_geometric_progression(sequence):\n",
    "    if (0 in sequence or len(sequence) < 2):\n",
    "        return False\n",
    "    q = sequence[1] * 1. / sequence[0]\n",
    "    for i in range(2, len(sequence)):\n",
    "        if sequence[i] * 1. / sequence[i - 1] != q:\n",
    "            return False\n",
    "    return True\n",
    "\n",
    "print_percentage(is_geometric_progression)"
   ]
  },
  {
   "cell_type": "code",
   "execution_count": 44,
   "metadata": {},
   "outputs": [
    {
     "data": {
      "image/png": "[encoded data removed]",
      "text/plain": [
       "<Figure size 432x288 with 1 Axes>"
      ]
     },
     "metadata": {},
     "output_type": "display_data"
    }
   ],
   "source": [
    "# 14. классификация по количеству элементов\n",
    "dict_num = {}\n",
    "for sequence in sequences:\n",
    "    num = len(sequence)\n",
    "    prev_num = dict_num.get(num)\n",
    "    if (prev_num is None):\n",
    "        dict_num[num] = 1\n",
    "    else :\n",
    "        dict_num[num] += 1\n",
    "for key in sorted(dict_num):\n",
    "    dict_num[key] = dict_num[key] * 100. / total\n",
    "    \n",
    "plt.bar(range(len(dict_num)), list(dict_num.values()), align = 'center', width = 4)\n",
    "plt.xlabel('length of sequence')\n",
    "plt.ylabel('number of sequences, %')\n",
    "plt.show()"
   ]
  },
  {
   "cell_type": "code",
   "execution_count": 45,
   "metadata": {},
   "outputs": [
    {
     "name": "stdout",
     "output_type": "stream",
     "text": [
      "Mode < 0:  2.2267117572137556 %\n",
      "Mode > 0:  97.55456980982915 %\n",
      "Mode = 0:  0.21871843295709079 %\n"
     ]
    },
    {
     "data": {
      "image/png": "[encoded data removed]",
      "text/plain": [
       "<Figure size 432x288 with 1 Axes>"
      ]
     },
     "metadata": {},
     "output_type": "display_data"
    }
   ],
   "source": [
    "# 15. классификация по среднему значению\n",
    "avs = []\n",
    "for sequence in sequences:\n",
    "    avs.append(np.mean(sequence))\n",
    "avs = np.array(avs)   \n",
    "\n",
    "print('Mode < 0: ', len(avs[avs < 0]) * 100. / total, '%')\n",
    "print('Mode > 0: ', len(avs[avs > 0]) * 100. / total, '%')\n",
    "print('Mode = 0: ', len(avs[avs == 0]) * 100. / total, '%')\n",
    "\n",
    "av_in_range = []\n",
    "av_in_range.append(len(avs[avs < -1000000000]))\n",
    "mask = (avs >= -1000000000) & (avs < -1000)\n",
    "av_in_range.append(len(avs[mask]))\n",
    "mask = (avs >= -1000) & (avs <= 1000)\n",
    "av_in_range.append(len(avs[mask]))\n",
    "mask = (avs > 1000) & (avs <= 1000000000)\n",
    "av_in_range.append(len(avs[mask]))\n",
    "av_in_range.append(len(avs[avs > 1000000000]))\n",
    "\n",
    "x = np.arange(5)\n",
    "plt.bar(x, height = list(av_in_range), width = 0.3)\n",
    "plt.xticks(x, ['[-inf; -10^9)', '[-10^9; -1000)', '[-1000; 1000]', '(1000; 10^9]', '(10^9; +inf]'])\n",
    "plt.ylabel('number of sequences with mode in range')\n",
    "plt.show()"
   ]
  },
  {
   "cell_type": "code",
   "execution_count": 46,
   "metadata": {},
   "outputs": [
    {
     "data": {
      "image/png": "[encoded data removed]",
      "text/plain": [
       "<Figure size 432x288 with 1 Axes>"
      ]
     },
     "metadata": {},
     "output_type": "display_data"
    }
   ],
   "source": [
    "# 16. классификация по среднеквадратичному отклонению\n",
    "stds = []\n",
    "\n",
    "for sequence in sequences:\n",
    "    stds.append(np.std(sequence))\n",
    "stds = np.array(stds)\n",
    "\n",
    "stds_in_range = []\n",
    "stds_in_range.append(len(stds[stds < 5]))\n",
    "mask = (stds >= 5) & (stds < 15)\n",
    "stds_in_range.append(len(stds[mask]))\n",
    "mask = (stds >= 15) & (stds < 50)\n",
    "stds_in_range.append(len(stds[mask]))\n",
    "mask = (stds >= 50) & (stds < 200)\n",
    "stds_in_range.append(len(stds[mask]))\n",
    "mask = (stds >= 200) & (stds < 1000)\n",
    "stds_in_range.append(len(stds[mask]))\n",
    "stds_in_range.append(len(stds[stds >= 1000]))\n",
    "\n",
    "x = np.arange(6)\n",
    "plt.bar(x, height = list(stds_in_range), width = 0.3)\n",
    "plt.xticks(x, ['[0; 5)', '[5; 15)', '[15; 50)', '[50; 200)', '[200; 1000)', '[1000; +inf)'])\n",
    "plt.ylabel('number of sequences with std in range')\n",
    "plt.show()"
   ]
  },
  {
   "cell_type": "code",
   "execution_count": 47,
   "metadata": {},
   "outputs": [
    {
     "name": "stdout",
     "output_type": "stream",
     "text": [
      "8.855900566559797% (10082)\n"
     ]
    }
   ],
   "source": [
    "# 17. Есть ли у элементов НОД > 1?\n",
    "from math import gcd\n",
    "def is_gcd_greater_than_1(sequence):\n",
    "    if (len(sequence) < 2):\n",
    "        return False\n",
    "    cur_gcd = gcd(sequence[0], sequence[1])\n",
    "    for i in range(2, len(sequence)):\n",
    "        cur_gcd = gcd(cur_gcd, sequence[i])\n",
    "        if cur_gcd == 1:\n",
    "            return False\n",
    "    return cur_gcd > 1\n",
    "\n",
    "print_percentage(is_gcd_greater_than_1)"
   ]
  },
  {
   "cell_type": "code",
   "execution_count": 48,
   "metadata": {},
   "outputs": [
    {
     "name": "stdout",
     "output_type": "stream",
     "text": [
      "72.20079933242566% (82197)\n"
     ]
    }
   ],
   "source": [
    "# 18. Все элементы > 0\n",
    "def are_all_positive(sequence):\n",
    "    sequence = np.array(sequence)\n",
    "    return np.all(sequence > 0)\n",
    "\n",
    "print_percentage(are_all_positive)"
   ]
  },
  {
   "cell_type": "code",
   "execution_count": 49,
   "metadata": {},
   "outputs": [
    {
     "name": "stdout",
     "output_type": "stream",
     "text": [
      "0.021081294742852124% (24)\n"
     ]
    }
   ],
   "source": [
    "# 19. Все элементы < 0\n",
    "def are_all_negative(sequence):\n",
    "    sequence = np.array(sequence)\n",
    "    return np.all(sequence < 0)\n",
    "\n",
    "print_percentage(are_all_negative)"
   ]
  },
  {
   "cell_type": "code",
   "execution_count": 50,
   "metadata": {},
   "outputs": [
    {
     "name": "stdout",
     "output_type": "stream",
     "text": [
      "94.36514559269182% (107430)\n"
     ]
    }
   ],
   "source": [
    "# 20. Все элементы >= 0\n",
    "def are_all_non_negative(sequence):\n",
    "    sequence = np.array(sequence)\n",
    "    return np.all(sequence >= 0)\n",
    "\n",
    "print_percentage(are_all_non_negative)"
   ]
  },
  {
   "cell_type": "code",
   "execution_count": 51,
   "metadata": {},
   "outputs": [
    {
     "name": "stdout",
     "output_type": "stream",
     "text": [
      "0.050068075014273794% (57)\n"
     ]
    }
   ],
   "source": [
    "# 21. Все элементы <= 0\n",
    "def are_all_non_positive(sequence):\n",
    "    sequence = np.array(sequence)\n",
    "    return np.all(sequence <= 0)\n",
    "\n",
    "print_percentage(are_all_non_positive)"
   ]
  },
  {
   "cell_type": "code",
   "execution_count": 52,
   "metadata": {},
   "outputs": [
    {
     "data": {
      "image/png": "[encoded data removed]",
      "text/plain": [
       "<Figure size 432x288 with 1 Axes>"
      ]
     },
     "metadata": {},
     "output_type": "display_data"
    }
   ],
   "source": [
    "# 22. Процент нулей\n",
    "explore_by_dict(lambda seq: seq == 0)"
   ]
  },
  {
   "cell_type": "code",
   "execution_count": 53,
   "metadata": {},
   "outputs": [
    {
     "data": {
      "image/png": "[encoded data removed]",
      "text/plain": [
       "<Figure size 432x288 with 1 Axes>"
      ]
     },
     "metadata": {},
     "output_type": "display_data"
    }
   ],
   "source": [
    "# 23. Процент единиц\n",
    "explore_by_dict(lambda seq: seq == 1)"
   ]
  },
  {
   "cell_type": "code",
   "execution_count": 54,
   "metadata": {},
   "outputs": [
    {
     "data": {
      "image/png": "[encoded data removed]",
      "text/plain": [
       "<Figure size 432x288 with 1 Axes>"
      ]
     },
     "metadata": {},
     "output_type": "display_data"
    }
   ],
   "source": [
    "# 24. Процент минус единиц\n",
    "explore_by_dict(lambda seq: seq == -1)"
   ]
  },
  {
   "cell_type": "code",
   "execution_count": 55,
   "metadata": {},
   "outputs": [
    {
     "name": "stdout",
     "output_type": "stream",
     "text": [
      "8.950766392902631% (10190)\n"
     ]
    }
   ],
   "source": [
    "# 25. Содержит все элементы между min и max\n",
    "def contains_all_elements(sequence):\n",
    "    return len(np.unique(sequence)) == max(sequence) - min(sequence) + 1\n",
    "\n",
    "print_percentage(contains_all_elements)"
   ]
  },
  {
   "cell_type": "code",
   "execution_count": 56,
   "metadata": {},
   "outputs": [
    {
     "name": "stdout",
     "output_type": "stream",
     "text": [
      "7.562914488998199% (8610)\n"
     ]
    }
   ],
   "source": [
    "# 26. Содержит только однозначные числа\n",
    "def contains_only_digits(sequence):\n",
    "    unique_elements = np.unique(sequence)\n",
    "    if len(unique_elements) > 10:\n",
    "        return False\n",
    "    for x in unique_elements:\n",
    "        if x < 0 or x > 9:\n",
    "            return False\n",
    "    return True\n",
    "\n",
    "print_percentage(contains_only_digits)"
   ]
  },
  {
   "cell_type": "code",
   "execution_count": 40,
   "metadata": {},
   "outputs": [
    {
     "name": "stdout",
     "output_type": "stream",
     "text": [
      "25.39154113048443% (28907)\n",
      "0.26263779700469936% of sequences could not be analyzed\n"
     ]
    }
   ],
   "source": [
    "# 27. Элементы последовательности нормально распределены\n",
    "from scipy.stats import normaltest\n",
    "\n",
    "alpha = 0.001\n",
    "errors = 0\n",
    "\n",
    "def is_normal(sequence):\n",
    "    if len(sequence) < 8:\n",
    "        return False\n",
    "    try: \n",
    "        stat, p = normaltest(sequence)\n",
    "        return p > alpha\n",
    "    except:\n",
    "        global errors\n",
    "        errors += 1\n",
    "        return False\n",
    "    \n",
    "print_percentage(is_normal)\n",
    "print('{0}% of sequences could not be analyzed'.format(errors * 100. / total))"
   ]
  },
  {
   "cell_type": "markdown",
   "metadata": {},
   "source": [
    "# Алгоритмы, работающие с конкретным типом последовательности "
   ]
  },
  {
   "cell_type": "markdown",
   "metadata": {},
   "source": [
    "1. Все нули"
   ]
  },
  {
   "cell_type": "code",
   "execution_count": 9,
   "metadata": {},
   "outputs": [],
   "source": [
    "test_data = pd.read_csv('test.csv')\n",
    "ids = np.array(data['Id'])"
   ]
  },
  {
   "cell_type": "code",
   "execution_count": null,
   "metadata": {},
   "outputs": [],
   "source": [
    "strs = test_data['Sequence']\n",
    "test_sequences = []\n",
    "for line in strs:\n",
    "    test_sequences.append([int(i) for i in line.split(',')])"
   ]
  },
  {
   "cell_type": "code",
   "execution_count": 43,
   "metadata": {},
   "outputs": [],
   "source": [
    "with open('submission1.csv', 'w') as f:\n",
    "    f.write('Id,Last\\n')\n",
    "    for x in ids:\n",
    "        f.write('%d,%d\\n' % (x, 0))"
   ]
  },
  {
   "cell_type": "markdown",
   "metadata": {},
   "source": [
    "2. Арифметические и геометрические прогрессии"
   ]
  },
  {
   "cell_type": "code",
   "execution_count": 11,
   "metadata": {},
   "outputs": [],
   "source": [
    "def handle_arithmetic_progression(sequence):\n",
    "    if len(sequence) <= 1:\n",
    "        return None\n",
    "    if is_arithmetic_progression(sequence):\n",
    "        last = len(sequence) - 1\n",
    "        d = sequence[last] - sequence[last - 1]\n",
    "        return sequence[last] + d    \n",
    "    else:\n",
    "        return None\n",
    "\n",
    "def handle_geometric_progression(sequence):\n",
    "    if len(sequence) <= 1:\n",
    "        return None\n",
    "    if is_geometric_progression(sequence):\n",
    "        last = len(sequence) - 1\n",
    "        r = round(sequence[last] * sequence[last] // sequence[last - 1])\n",
    "        return r\n",
    "    else:\n",
    "        return None"
   ]
  },
  {
   "cell_type": "code",
   "execution_count": 46,
   "metadata": {},
   "outputs": [],
   "source": [
    "predicted = [0] * len(ids)\n",
    "for i, sequence in enumerate(test_sequences):\n",
    "    pr = handle_arithmetic_progression(sequence)\n",
    "    if pr is not None:\n",
    "        predicted[i] = pr\n",
    "    else:\n",
    "        pr = handle_geometric_progression(sequence)\n",
    "        if pr is not None:\n",
    "            predicted[i] = pr"
   ]
  },
  {
   "cell_type": "code",
   "execution_count": 47,
   "metadata": {},
   "outputs": [],
   "source": [
    "with open('submission2.csv', 'w') as f:\n",
    "    f.write('Id,Last\\n')\n",
    "    for i, x in enumerate(predicted):\n",
    "        f.write('%d,%d\\n' % (ids[i], x))"
   ]
  },
  {
   "cell_type": "markdown",
   "metadata": {},
   "source": [
    "3. Рекуррентные соотношения второго - четвертого порядков"
   ]
  },
  {
   "cell_type": "code",
   "execution_count": 12,
   "metadata": {},
   "outputs": [],
   "source": [
    "from numpy import linalg as la\n",
    "\n",
    "def handle_linear_recurrence(sequence, order):\n",
    "    if len(sequence) <= 2 * order:\n",
    "        return None\n",
    "    a = []\n",
    "    for i in range(0, order):\n",
    "        a.append(sequence[i:order + i])\n",
    "    b = sequence[order:2*order]\n",
    "    try:\n",
    "        c = la.solve(a, b)\n",
    "    except:\n",
    "        return None\n",
    "    for i in range(order, len(sequence) - order):\n",
    "        if np.dot(c, sequence[i:order + i]) != sequence[order + i]:\n",
    "            return None\n",
    "    return np.dot(c, sequence[-order:])"
   ]
  },
  {
   "cell_type": "code",
   "execution_count": 49,
   "metadata": {},
   "outputs": [],
   "source": [
    "predicted = [0] * len(ids)\n",
    "for i, sequence in enumerate(test_sequences):\n",
    "    pr = handle_arithmetic_progression(sequence)\n",
    "    if pr is not None:\n",
    "        predicted[i] = pr\n",
    "    else:\n",
    "        pr = handle_geometric_progression(sequence)\n",
    "        if pr is not None:\n",
    "            predicted[i] = pr\n",
    "        else:\n",
    "            pr = handle_linear_recurrence(sequence, 2)\n",
    "            if pr is not None:\n",
    "                predicted[i] = pr\n",
    "            else:\n",
    "                pr = handle_linear_recurrence(sequence, 3)\n",
    "                if pr is not None:\n",
    "                    predicted[i] = pr\n",
    "                else:\n",
    "                    pr = handle_linear_recurrence(sequence, 4)\n",
    "                    if pr is not None:\n",
    "                        predicted[i] = pr"
   ]
  },
  {
   "cell_type": "code",
   "execution_count": 50,
   "metadata": {},
   "outputs": [],
   "source": [
    "with open('submission3.csv', 'w') as f:\n",
    "    f.write('Id,Last\\n')\n",
    "    for i, x in enumerate(predicted):\n",
    "        f.write('%d,%d\\n' % (ids[i], x))"
   ]
  },
  {
   "cell_type": "markdown",
   "metadata": {},
   "source": [
    "4. Рекуррентные соотношения всех возможных порядков"
   ]
  },
  {
   "cell_type": "code",
   "execution_count": 51,
   "metadata": {},
   "outputs": [],
   "source": [
    "predicted = [0] * len(ids)\n",
    "for i, sequence in enumerate(test_sequences):\n",
    "    pr = handle_arithmetic_progression(sequence)\n",
    "    if pr is not None:\n",
    "        predicted[i] = pr\n",
    "    else:\n",
    "        pr = handle_geometric_progression(sequence)\n",
    "        if pr is not None:\n",
    "            predicted[i] = pr\n",
    "        else:\n",
    "            for q in range(2, len(sequence) // 2):\n",
    "                pr = handle_linear_recurrence(sequence, q)\n",
    "                if pr is not None:\n",
    "                    predicted[i] = pr\n",
    "                    break"
   ]
  },
  {
   "cell_type": "code",
   "execution_count": 52,
   "metadata": {},
   "outputs": [],
   "source": [
    "with open('submission4.csv', 'w') as f:\n",
    "    f.write('Id,Last\\n')\n",
    "    for i, x in enumerate(predicted):\n",
    "        f.write('%d,%d\\n' % (ids[i], x))"
   ]
  },
  {
   "cell_type": "markdown",
   "metadata": {},
   "source": [
    "5. Интерполяция по Ньютону"
   ]
  },
  {
   "cell_type": "code",
   "execution_count": 13,
   "metadata": {},
   "outputs": [],
   "source": [
    "def newton_interpolation(sequence, order):\n",
    "    if (len(sequence) <= order + 1):\n",
    "        return None\n",
    "    h = 1\n",
    "    \n",
    "    #count coeffs\n",
    "    div_diff_old = sequence[:order + 1].copy()\n",
    "    div_diff_new = []\n",
    "    c = [sequence[0]]\n",
    "    for i in range(0, order):\n",
    "        div_diff_new = []\n",
    "        for j in range(0, order - i):\n",
    "            div_diff_new.append(div_diff_old[j + 1] - div_diff_old[j])\n",
    "        div_diff_old = div_diff_new.copy()\n",
    "        c.append(div_diff_new[0] / np.math.factorial(i + 1))\n",
    "    if (c[len(c) - 1] == 0):\n",
    "        return None\n",
    "        \n",
    "    #check other points and predict next if everything is ok\n",
    "    for i in range(order, len(sequence) + 1):\n",
    "        next_point = 0\n",
    "        q = (i + 1 - 1) / h\n",
    "        for j in range(0, len(c)):\n",
    "            mn = 1\n",
    "            for k in range(0, j):\n",
    "                mn *= q - k\n",
    "            next_point += c[j] * mn\n",
    "        if i == len(sequence):\n",
    "            return next_point\n",
    "        if next_point != sequence[i]:\n",
    "            return None"
   ]
  },
  {
   "cell_type": "code",
   "execution_count": null,
   "metadata": {},
   "outputs": [],
   "source": [
    "predicted = [0] * len(ids)\n",
    "for i, sequence in enumerate(test_sequences):\n",
    "    pr = handle_arithmetic_progression(sequence)\n",
    "    if pr is not None:\n",
    "        predicted[i] = pr\n",
    "    else:\n",
    "        pr = handle_geometric_progression(sequence)\n",
    "        if pr is not None:\n",
    "            predicted[i] = pr\n",
    "        else:\n",
    "            found_model = False\n",
    "            for q in range(2, len(sequence) // 2):\n",
    "                pr = handle_linear_recurrence(sequence, q)\n",
    "                if pr is not None:\n",
    "                    predicted[i] = pr\n",
    "                    found_model = True\n",
    "                    break\n",
    "            if found_model == True:\n",
    "                continue\n",
    "            found_model = False\n",
    "            for order in range(1, 10):\n",
    "                pr = newton_interpolation(sequence, order)\n",
    "                if pr is not None:\n",
    "                    predicted[i] = pr\n",
    "                    found_model = True\n",
    "                    break"
   ]
  },
  {
   "cell_type": "code",
   "execution_count": null,
   "metadata": {},
   "outputs": [],
   "source": [
    "with open('submission5.csv', 'w') as f:\n",
    "    f.write('Id,Last\\n')\n",
    "    for i, x in enumerate(predicted):\n",
    "        f.write('%d,%d\\n' % (ids[i], x))"
   ]
  },
  {
   "cell_type": "markdown",
   "metadata": {},
   "source": [
    "6. Десятичное представление числа вида 1/m"
   ]
  },
  {
   "cell_type": "code",
   "execution_count": 14,
   "metadata": {},
   "outputs": [],
   "source": [
    "def divide_accurately(numerator, denominator, accuracy):\n",
    "    numerator *= 10 ** (accuracy + 1)\n",
    "    fract = numerator // denominator\n",
    "    digits_after_point = []\n",
    "    while fract > 0:\n",
    "        digits_after_point.append(fract % 10)\n",
    "        fract = fract // 10\n",
    "    for i in range(len(digits_after_point), accuracy + 1):\n",
    "        digits_after_point.append(0)\n",
    "    digits_after_point = np.fliplr([np.array(digits_after_point)])[0]\n",
    "    return digits_after_point\n",
    "        \n",
    "\n",
    "def get_possible_int(sequence):\n",
    "    denominator = 0\n",
    "    mn = 1\n",
    "    eps = 0.000001\n",
    "    for x in sequence:\n",
    "        mn *= 0.1\n",
    "        denominator += mn * x\n",
    "    if np.abs((1 / denominator) - round(1 / denominator)) < eps:\n",
    "        return round(1 / denominator)\n",
    "    return None\n",
    "\n",
    "def handle_decimal_expansion(sequence):\n",
    "    if (len(sequence) <= 2):\n",
    "        return None\n",
    "    if (contains_only_digits(sequence) == False):\n",
    "        return None\n",
    "    possible_int = get_possible_int(sequence)\n",
    "    if possible_int is None:\n",
    "        return None\n",
    "    possible_float = divide_accurately(1, possible_int, len(sequence) + 2)\n",
    "    for i, x in enumerate(sequence):\n",
    "        if x != possible_float[i]:\n",
    "            return None\n",
    "    return possible_float[len(sequence)]"
   ]
  },
  {
   "cell_type": "code",
   "execution_count": null,
   "metadata": {},
   "outputs": [],
   "source": [
    "predicted = [0] * len(ids)\n",
    "for i, sequence in enumerate(test_sequences):\n",
    "    pr = handle_arithmetic_progression(sequence)\n",
    "    if pr is not None:\n",
    "        predicted[i] = pr\n",
    "    else:\n",
    "        pr = handle_geometric_progression(sequence)\n",
    "        if pr is not None:\n",
    "            predicted[i] = pr\n",
    "        else:\n",
    "            found_model = False\n",
    "            for q in range(2, len(sequence) // 2):\n",
    "                pr = handle_linear_recurrence(sequence, q)\n",
    "                if pr is not None:\n",
    "                    predicted[i] = pr\n",
    "                    found_model = True\n",
    "                    break\n",
    "            if found_model == True:\n",
    "                continue\n",
    "            found_model = False\n",
    "            for order in range(1, 10):\n",
    "                pr = newton_interpolation(sequence, order)\n",
    "                if pr is not None:\n",
    "                    predicted[i] = pr\n",
    "                    found_model = True\n",
    "                    break\n",
    "            if found_model == True:\n",
    "                continue\n",
    "            found_model = False\n",
    "            pr = handle_decimal_expansion(sequence)\n",
    "            if pr is not None:\n",
    "                predicted[i] = pr"
   ]
  },
  {
   "cell_type": "code",
   "execution_count": null,
   "metadata": {},
   "outputs": [],
   "source": [
    "with open('submission6.csv', 'w') as f:\n",
    "    f.write('Id,Last\\n')\n",
    "    for i, x in enumerate(predicted):\n",
    "        f.write('%d,%d\\n' % (ids[i], x))"
   ]
  },
  {
   "cell_type": "markdown",
   "metadata": {},
   "source": [
    "7. Частичные суммы"
   ]
  },
  {
   "cell_type": "code",
   "execution_count": 15,
   "metadata": {},
   "outputs": [],
   "source": [
    "def handle_partial_sums(sequence):\n",
    "    if len(sequence) == 0:\n",
    "        return None\n",
    "    initial_sequence = np.hstack((np.array(sequence[0]), np.diff(sequence)))\n",
    "    next_element = apply_determinate_algorithms(initial_sequence)\n",
    "    if next_element is None:\n",
    "        return None\n",
    "    return sequence[-1] + next_element"
   ]
  },
  {
   "cell_type": "code",
   "execution_count": 16,
   "metadata": {},
   "outputs": [],
   "source": [
    "def apply_determinate_algorithms(sequence):\n",
    "    pr = handle_arithmetic_progression(sequence)\n",
    "    if pr is not None:\n",
    "        return pr\n",
    "    else:\n",
    "        pr = handle_geometric_progression(sequence)\n",
    "        if pr is not None:\n",
    "            return pr\n",
    "        else:\n",
    "            found_model = False\n",
    "            for q in range(2, len(sequence) // 2):\n",
    "                pr = handle_linear_recurrence(sequence, q)\n",
    "                if pr is not None:\n",
    "                    return pr\n",
    "            for order in range(1, 10):\n",
    "                pr = newton_interpolation(sequence, order)\n",
    "                if pr is not None:\n",
    "                    return pr\n",
    "            pr = handle_decimal_expansion(sequence)\n",
    "            if pr is not None:\n",
    "                return pr\n",
    "    return None"
   ]
  },
  {
   "cell_type": "code",
   "execution_count": null,
   "metadata": {},
   "outputs": [],
   "source": [
    "predicted = [None] * len(ids)\n",
    "for i, sequence in enumerate(test_sequences):\n",
    "    predicted[i] = apply_determinate_algorithms(sequence)\n",
    "    if predicted[i] is None:\n",
    "        predicted[i] = handle_partial_sums(sequence)"
   ]
  },
  {
   "cell_type": "code",
   "execution_count": null,
   "metadata": {},
   "outputs": [],
   "source": [
    "with open('submission7.csv', 'w') as f:\n",
    "    f.write('Id,Last\\n')\n",
    "    for i, x in enumerate(predicted):\n",
    "        f.write('%d,%d\\n' % (ids[i], x))"
   ]
  },
  {
   "cell_type": "markdown",
   "metadata": {},
   "source": [
    "# Марковы цепи"
   ]
  },
  {
   "cell_type": "code",
   "execution_count": 15,
   "metadata": {},
   "outputs": [],
   "source": [
    "def markov(depth):\n",
    "    for cur_depth in range(0, depth + 1):\n",
    "        distributions = {}\n",
    "        most_possibles = {}\n",
    "        for sequence in np.hstack((sequences, test_sequences)):\n",
    "            for i in range(0, len(sequence) - cur_depth):\n",
    "                cur_tuple_prefix = tuple(sequence[i:(i + cur_depth)])\n",
    "                next_item = sequence[i + cur_depth]\n",
    "                if cur_tuple_prefix in distributions:\n",
    "                    distribution = distributions[cur_tuple_prefix]\n",
    "                    if next_item in distribution:\n",
    "                        distribution[next_item] += 1\n",
    "                    else:\n",
    "                        distribution[next_item] = 1                        \n",
    "                else:\n",
    "                    distributions[cur_tuple_prefix] = {next_item: 1}\n",
    "        for (prefix, distribution) in distributions.items():\n",
    "            most_possibles[prefix] = max(distribution.items(), key=lambda entry : entry[1])[0]\n",
    "        np.save('most_possibles{0}'.format(cur_depth), most_possibles)"
   ]
  },
  {
   "cell_type": "code",
   "execution_count": 18,
   "metadata": {},
   "outputs": [],
   "source": [
    "def handle_markov(sequence, depth, most_possibles):\n",
    "    length = len(sequence)\n",
    "    if length >= depth:\n",
    "        prefix = tuple(sequence[(length - depth):])\n",
    "        if prefix in most_possibles:\n",
    "            return most_possibles[prefix]\n",
    "    return None"
   ]
  },
  {
   "cell_type": "code",
   "execution_count": 57,
   "metadata": {},
   "outputs": [],
   "source": [
    "depth = 30\n",
    "markov(depth)"
   ]
  },
  {
   "cell_type": "code",
   "execution_count": 58,
   "metadata": {},
   "outputs": [],
   "source": [
    "predicted = [None] * len(ids)\n",
    "for i, sequence in enumerate(test_sequences):\n",
    "    predicted[i] = apply_determinate_algorithms(sequence)\n",
    "    if predicted[i] is None:\n",
    "        predicted[i] = handle_partial_sums(sequence)\n",
    "for cur_depth in range(depth, -1, -1):\n",
    "    most_possibles = np.load('most_possibles{0}.npy'.format(cur_depth)).item()\n",
    "    for i, sequence in enumerate(test_sequences):\n",
    "        if predicted[i] is None:\n",
    "            predicted[i] = handle_markov(sequence, cur_depth, most_possibles)\n",
    "for i, x in enumerate(predicted):\n",
    "    if x is None:\n",
    "        predicted[i] = 0"
   ]
  },
  {
   "cell_type": "code",
   "execution_count": 81,
   "metadata": {},
   "outputs": [],
   "source": [
    "with open('submission8.csv', 'w') as f:\n",
    "    f.write('Id,Last\\n')\n",
    "    for i, x in enumerate(predicted):\n",
    "        f.write('%d,%d\\n' % (ids[i], x))"
   ]
  },
  {
   "cell_type": "markdown",
   "metadata": {},
   "source": [
    "# Нейронные сети"
   ]
  },
  {
   "cell_type": "code",
   "execution_count": 202,
   "metadata": {},
   "outputs": [],
   "source": [
    "import keras"
   ]
  },
  {
   "cell_type": "code",
   "execution_count": 203,
   "metadata": {},
   "outputs": [],
   "source": [
    "from keras.models import Sequential\n",
    "from keras.layers import Dense, Activation, Dropout"
   ]
  },
  {
   "cell_type": "code",
   "execution_count": 287,
   "metadata": {},
   "outputs": [],
   "source": [
    "test_data = pd.read_csv('test.csv')\n",
    "ids = np.array(test_data['Id'])\n",
    "strs = test_data['Sequence']\n",
    "test_sequences = []\n",
    "for line in strs:\n",
    "    test_sequences.append([int(i) for i in line.split(',')])"
   ]
  },
  {
   "cell_type": "code",
   "execution_count": 205,
   "metadata": {},
   "outputs": [],
   "source": [
    "dim = 10"
   ]
  },
  {
   "cell_type": "code",
   "execution_count": 273,
   "metadata": {},
   "outputs": [],
   "source": [
    "model = Sequential()\n",
    "model.add(Dense(5, activation='relu', input_dim=dim))\n",
    "model.add(Dropout(0.5))\n",
    "model.add(Dense(1, activation='sigmoid'))"
   ]
  },
  {
   "cell_type": "code",
   "execution_count": 314,
   "metadata": {},
   "outputs": [],
   "source": [
    "def baseline_model():\n",
    "    model = Sequential()\n",
    "#     model.add(Dense(5, activation='relu', input_dim=dim))\n",
    "#     model.add(Dropout(0.5))\n",
    "    model.add(Dense(1))\n",
    "    model.compile(optimizer='sgd',\n",
    "              loss='mean_squared_logarithmic_error',\n",
    "              metrics=['accuracy'],\n",
    "             )\n",
    "    return model"
   ]
  },
  {
   "cell_type": "code",
   "execution_count": 274,
   "metadata": {},
   "outputs": [],
   "source": [
    "model.compile(optimizer='sgd',\n",
    "              loss='mean_squared_logarithmic_error',\n",
    "              metrics=['accuracy'],\n",
    "             )"
   ]
  },
  {
   "cell_type": "code",
   "execution_count": 117,
   "metadata": {},
   "outputs": [],
   "source": [
    "x_train = []\n",
    "y_train = []\n",
    "for sequence in sequences:\n",
    "    for i in range(0, len(sequence) - dim - 1):\n",
    "        x_train.append(sequence[i:i+10])\n",
    "        y_train.append(sequence[i+10])"
   ]
  },
  {
   "cell_type": "code",
   "execution_count": 118,
   "metadata": {},
   "outputs": [],
   "source": [
    "x_train = np.array(x_train)\n",
    "y_train = np.array(y_train)\n",
    "# from sklearn.preprocessing import MinMaxScaler\n",
    "# sc = MinMaxScaler()\n",
    "# x_train = sc.fit_transform(x_train)\n",
    "# y_train = sc.fit_transform(y_train.reshape(-1, 1))"
   ]
  },
  {
   "cell_type": "code",
   "execution_count": 280,
   "metadata": {},
   "outputs": [],
   "source": [
    "indices = np.random.choice(np.arange(len(x_train_small)), size = len(x_train_small) // 10)\n",
    "x_train_very_small = x_train_small[indices]\n",
    "y_train_very_small = y_train_small[indices]"
   ]
  },
  {
   "cell_type": "code",
   "execution_count": 281,
   "metadata": {},
   "outputs": [
    {
     "name": "stdout",
     "output_type": "stream",
     "text": [
      "Epoch 1/5\n",
      "334688/334688 [==============================] - 40s 120us/step - loss: 35.1309 - acc: 0.0779\n",
      "Epoch 2/5\n",
      "334688/334688 [==============================] - 37s 109us/step - loss: 35.0623 - acc: 0.0780\n",
      "Epoch 3/5\n",
      "334688/334688 [==============================] - 37s 110us/step - loss: 35.0328 - acc: 0.0773\n",
      "Epoch 4/5\n",
      "334688/334688 [==============================] - 37s 110us/step - loss: 35.0243 - acc: 0.0772\n",
      "Epoch 5/5\n",
      "334688/334688 [==============================] - 38s 115us/step - loss: 35.0238 - acc: 0.0772\n"
     ]
    },
    {
     "data": {
      "text/plain": [
       "<keras.callbacks.History at 0xb6825d4e0>"
      ]
     },
     "execution_count": 281,
     "metadata": {},
     "output_type": "execute_result"
    }
   ],
   "source": [
    "# model.fit(x_train, y_train, epochs=1, batch_size=2, verbose=1)\n",
    "model.fit(x_train_very_small, y_train_very_small, epochs=5, batch_size=32, verbose=1)"
   ]
  },
  {
   "cell_type": "code",
   "execution_count": 74,
   "metadata": {},
   "outputs": [
    {
     "name": "stdout",
     "output_type": "stream",
     "text": [
      "Tensor(\"loss_30/dense_18_loss/Sum:0\", shape=(), dtype=float32)\n"
     ]
    }
   ],
   "source": [
    "import keras.backend as K\n",
    "\n",
    "def custom_loss(y_true, y_pred):\n",
    "    diff = y_true - y_pred\n",
    "    r = K.sum(K.sin(diff) / diff)\n",
    "    print(r)\n",
    "    return r\n",
    "\n",
    "model.compile(\n",
    "    optimizer='sgd',\n",
    "    loss=custom_loss,\n",
    ")"
   ]
  },
  {
   "cell_type": "code",
   "execution_count": 285,
   "metadata": {},
   "outputs": [],
   "source": [
    "y_pred = [0] * len(test_sequences)\n",
    "for (i, sequence) in enumerate(test_sequences):\n",
    "    if len(sequence) > 10:\n",
    "        y_pred[i] = model.predict(np.array([sequence[-10:]]))"
   ]
  },
  {
   "cell_type": "code",
   "execution_count": 103,
   "metadata": {},
   "outputs": [],
   "source": [
    "import math"
   ]
  },
  {
   "cell_type": "code",
   "execution_count": 310,
   "metadata": {},
   "outputs": [
    {
     "name": "stdout",
     "output_type": "stream",
     "text": [
      "nans:  287\n"
     ]
    }
   ],
   "source": [
    "nans = 0\n",
    "with open('submission26.csv', 'w') as f:\n",
    "    f.write('Id,Last\\n')\n",
    "    for i, x in enumerate(y_pred):\n",
    "        if math.isnan(x) or math.isinf(x):\n",
    "            x = 0\n",
    "            nans += 1\n",
    "        f.write('%d,%d\\n' % (ids[i], x))\n",
    "print('nans: ', nans)"
   ]
  },
  {
   "cell_type": "code",
   "execution_count": null,
   "metadata": {},
   "outputs": [],
   "source": []
  },
  {
   "cell_type": "code",
   "execution_count": null,
   "metadata": {},
   "outputs": [],
   "source": []
  },
  {
   "cell_type": "code",
   "execution_count": null,
   "metadata": {},
   "outputs": [],
   "source": []
  },
  {
   "cell_type": "code",
   "execution_count": null,
   "metadata": {},
   "outputs": [],
   "source": []
  },
  {
   "cell_type": "code",
   "execution_count": 136,
   "metadata": {},
   "outputs": [],
   "source": [
    "from keras.wrappers.scikit_learn import KerasRegressor\n",
    "from sklearn.model_selection import cross_val_score\n",
    "from sklearn.model_selection import KFold"
   ]
  },
  {
   "cell_type": "code",
   "execution_count": 218,
   "metadata": {},
   "outputs": [],
   "source": [
    "def custom_loss(y_true, y_pred):\n",
    "    diff = y_true - y_pred\n",
    "#     return K.sum(K.zeros_like(diff))\n",
    "    return K.sum(1 - K.sin(diff) / diff)"
   ]
  },
  {
   "cell_type": "code",
   "execution_count": 292,
   "metadata": {},
   "outputs": [],
   "source": [
    "# define base model\n",
    "def baseline_model():\n",
    "    # create model\n",
    "    model = Sequential()\n",
    "    model.add(Dense(10, input_dim=10, kernel_initializer='normal', activation='relu'))\n",
    "    model.add(Dense(1, kernel_initializer='normal'))\n",
    "    # Compile model\n",
    "    model.compile(loss='mean_squared_logarithmic_error', optimizer='adam')\n",
    "    return model"
   ]
  },
  {
   "cell_type": "code",
   "execution_count": 315,
   "metadata": {},
   "outputs": [],
   "source": [
    "estimator = KerasRegressor(build_fn=baseline_model, epochs=5, batch_size=32, verbose=1)"
   ]
  },
  {
   "cell_type": "code",
   "execution_count": 316,
   "metadata": {},
   "outputs": [
    {
     "name": "stdout",
     "output_type": "stream",
     "text": [
      "Epoch 1/5\n",
      "334688/334688 [==============================] - 32s 97us/step - loss: 6.7830 - acc: 0.0186\n",
      "Epoch 2/5\n",
      "334688/334688 [==============================] - 35s 105us/step - loss: 19.7678 - acc: 0.0069\n",
      "Epoch 3/5\n",
      "334688/334688 [==============================] - 33s 100us/step - loss: 26.2861 - acc: 3.3165e-04\n",
      "Epoch 4/5\n",
      "119808/334688 [=========>....................] - ETA: 23s - loss: 23.5461 - acc: 1.7528e-04"
     ]
    },
    {
     "ename": "KeyboardInterrupt",
     "evalue": "",
     "output_type": "error",
     "traceback": [
      "\u001b[0;31m---------------------------------------------------------------------------\u001b[0m",
      "\u001b[0;31mKeyboardInterrupt\u001b[0m                         Traceback (most recent call last)",
      "\u001b[0;32m<ipython-input-316-8534f9a8f97b>\u001b[0m in \u001b[0;36m<module>\u001b[0;34m()\u001b[0m\n\u001b[0;32m----> 1\u001b[0;31m \u001b[0mestimator\u001b[0m\u001b[0;34m.\u001b[0m\u001b[0mfit\u001b[0m\u001b[0;34m(\u001b[0m\u001b[0mx_train_very_small\u001b[0m\u001b[0;34m,\u001b[0m \u001b[0my_train_very_small\u001b[0m\u001b[0;34m)\u001b[0m\u001b[0;34m\u001b[0m\u001b[0m\n\u001b[0m",
      "\u001b[0;32m~/anaconda3/lib/python3.6/site-packages/keras/wrappers/scikit_learn.py\u001b[0m in \u001b[0;36mfit\u001b[0;34m(self, x, y, **kwargs)\u001b[0m\n\u001b[1;32m    150\u001b[0m         \u001b[0mfit_args\u001b[0m\u001b[0;34m.\u001b[0m\u001b[0mupdate\u001b[0m\u001b[0;34m(\u001b[0m\u001b[0mkwargs\u001b[0m\u001b[0;34m)\u001b[0m\u001b[0;34m\u001b[0m\u001b[0m\n\u001b[1;32m    151\u001b[0m \u001b[0;34m\u001b[0m\u001b[0m\n\u001b[0;32m--> 152\u001b[0;31m         \u001b[0mhistory\u001b[0m \u001b[0;34m=\u001b[0m \u001b[0mself\u001b[0m\u001b[0;34m.\u001b[0m\u001b[0mmodel\u001b[0m\u001b[0;34m.\u001b[0m\u001b[0mfit\u001b[0m\u001b[0;34m(\u001b[0m\u001b[0mx\u001b[0m\u001b[0;34m,\u001b[0m \u001b[0my\u001b[0m\u001b[0;34m,\u001b[0m \u001b[0;34m**\u001b[0m\u001b[0mfit_args\u001b[0m\u001b[0;34m)\u001b[0m\u001b[0;34m\u001b[0m\u001b[0m\n\u001b[0m\u001b[1;32m    153\u001b[0m \u001b[0;34m\u001b[0m\u001b[0m\n\u001b[1;32m    154\u001b[0m         \u001b[0;32mreturn\u001b[0m \u001b[0mhistory\u001b[0m\u001b[0;34m\u001b[0m\u001b[0m\n",
      "\u001b[0;32m~/anaconda3/lib/python3.6/site-packages/keras/engine/training.py\u001b[0m in \u001b[0;36mfit\u001b[0;34m(self, x, y, batch_size, epochs, verbose, callbacks, validation_split, validation_data, shuffle, class_weight, sample_weight, initial_epoch, steps_per_epoch, validation_steps, **kwargs)\u001b[0m\n\u001b[1;32m   1037\u001b[0m                                         \u001b[0minitial_epoch\u001b[0m\u001b[0;34m=\u001b[0m\u001b[0minitial_epoch\u001b[0m\u001b[0;34m,\u001b[0m\u001b[0;34m\u001b[0m\u001b[0m\n\u001b[1;32m   1038\u001b[0m                                         \u001b[0msteps_per_epoch\u001b[0m\u001b[0;34m=\u001b[0m\u001b[0msteps_per_epoch\u001b[0m\u001b[0;34m,\u001b[0m\u001b[0;34m\u001b[0m\u001b[0m\n\u001b[0;32m-> 1039\u001b[0;31m                                         validation_steps=validation_steps)\n\u001b[0m\u001b[1;32m   1040\u001b[0m \u001b[0;34m\u001b[0m\u001b[0m\n\u001b[1;32m   1041\u001b[0m     def evaluate(self, x=None, y=None,\n",
      "\u001b[0;32m~/anaconda3/lib/python3.6/site-packages/keras/engine/training_arrays.py\u001b[0m in \u001b[0;36mfit_loop\u001b[0;34m(model, f, ins, out_labels, batch_size, epochs, verbose, callbacks, val_f, val_ins, shuffle, callback_metrics, initial_epoch, steps_per_epoch, validation_steps)\u001b[0m\n\u001b[1;32m    197\u001b[0m                     \u001b[0mins_batch\u001b[0m\u001b[0;34m[\u001b[0m\u001b[0mi\u001b[0m\u001b[0;34m]\u001b[0m \u001b[0;34m=\u001b[0m \u001b[0mins_batch\u001b[0m\u001b[0;34m[\u001b[0m\u001b[0mi\u001b[0m\u001b[0;34m]\u001b[0m\u001b[0;34m.\u001b[0m\u001b[0mtoarray\u001b[0m\u001b[0;34m(\u001b[0m\u001b[0;34m)\u001b[0m\u001b[0;34m\u001b[0m\u001b[0m\n\u001b[1;32m    198\u001b[0m \u001b[0;34m\u001b[0m\u001b[0m\n\u001b[0;32m--> 199\u001b[0;31m                 \u001b[0mouts\u001b[0m \u001b[0;34m=\u001b[0m \u001b[0mf\u001b[0m\u001b[0;34m(\u001b[0m\u001b[0mins_batch\u001b[0m\u001b[0;34m)\u001b[0m\u001b[0;34m\u001b[0m\u001b[0m\n\u001b[0m\u001b[1;32m    200\u001b[0m                 \u001b[0mouts\u001b[0m \u001b[0;34m=\u001b[0m \u001b[0mto_list\u001b[0m\u001b[0;34m(\u001b[0m\u001b[0mouts\u001b[0m\u001b[0;34m)\u001b[0m\u001b[0;34m\u001b[0m\u001b[0m\n\u001b[1;32m    201\u001b[0m                 \u001b[0;32mfor\u001b[0m \u001b[0ml\u001b[0m\u001b[0;34m,\u001b[0m \u001b[0mo\u001b[0m \u001b[0;32min\u001b[0m \u001b[0mzip\u001b[0m\u001b[0;34m(\u001b[0m\u001b[0mout_labels\u001b[0m\u001b[0;34m,\u001b[0m \u001b[0mouts\u001b[0m\u001b[0;34m)\u001b[0m\u001b[0;34m:\u001b[0m\u001b[0;34m\u001b[0m\u001b[0m\n",
      "\u001b[0;32m~/anaconda3/lib/python3.6/site-packages/keras/backend/tensorflow_backend.py\u001b[0m in \u001b[0;36m__call__\u001b[0;34m(self, inputs)\u001b[0m\n\u001b[1;32m   2713\u001b[0m                 \u001b[0;32mreturn\u001b[0m \u001b[0mself\u001b[0m\u001b[0;34m.\u001b[0m\u001b[0m_legacy_call\u001b[0m\u001b[0;34m(\u001b[0m\u001b[0minputs\u001b[0m\u001b[0;34m)\u001b[0m\u001b[0;34m\u001b[0m\u001b[0m\n\u001b[1;32m   2714\u001b[0m \u001b[0;34m\u001b[0m\u001b[0m\n\u001b[0;32m-> 2715\u001b[0;31m             \u001b[0;32mreturn\u001b[0m \u001b[0mself\u001b[0m\u001b[0;34m.\u001b[0m\u001b[0m_call\u001b[0m\u001b[0;34m(\u001b[0m\u001b[0minputs\u001b[0m\u001b[0;34m)\u001b[0m\u001b[0;34m\u001b[0m\u001b[0m\n\u001b[0m\u001b[1;32m   2716\u001b[0m         \u001b[0;32melse\u001b[0m\u001b[0;34m:\u001b[0m\u001b[0;34m\u001b[0m\u001b[0m\n\u001b[1;32m   2717\u001b[0m             \u001b[0;32mif\u001b[0m \u001b[0mpy_any\u001b[0m\u001b[0;34m(\u001b[0m\u001b[0mis_tensor\u001b[0m\u001b[0;34m(\u001b[0m\u001b[0mx\u001b[0m\u001b[0;34m)\u001b[0m \u001b[0;32mfor\u001b[0m \u001b[0mx\u001b[0m \u001b[0;32min\u001b[0m \u001b[0minputs\u001b[0m\u001b[0;34m)\u001b[0m\u001b[0;34m:\u001b[0m\u001b[0;34m\u001b[0m\u001b[0m\n",
      "\u001b[0;32m~/anaconda3/lib/python3.6/site-packages/keras/backend/tensorflow_backend.py\u001b[0m in \u001b[0;36m_call\u001b[0;34m(self, inputs)\u001b[0m\n\u001b[1;32m   2673\u001b[0m             \u001b[0mfetched\u001b[0m \u001b[0;34m=\u001b[0m \u001b[0mself\u001b[0m\u001b[0;34m.\u001b[0m\u001b[0m_callable_fn\u001b[0m\u001b[0;34m(\u001b[0m\u001b[0;34m*\u001b[0m\u001b[0marray_vals\u001b[0m\u001b[0;34m,\u001b[0m \u001b[0mrun_metadata\u001b[0m\u001b[0;34m=\u001b[0m\u001b[0mself\u001b[0m\u001b[0;34m.\u001b[0m\u001b[0mrun_metadata\u001b[0m\u001b[0;34m)\u001b[0m\u001b[0;34m\u001b[0m\u001b[0m\n\u001b[1;32m   2674\u001b[0m         \u001b[0;32melse\u001b[0m\u001b[0;34m:\u001b[0m\u001b[0;34m\u001b[0m\u001b[0m\n\u001b[0;32m-> 2675\u001b[0;31m             \u001b[0mfetched\u001b[0m \u001b[0;34m=\u001b[0m \u001b[0mself\u001b[0m\u001b[0;34m.\u001b[0m\u001b[0m_callable_fn\u001b[0m\u001b[0;34m(\u001b[0m\u001b[0;34m*\u001b[0m\u001b[0marray_vals\u001b[0m\u001b[0;34m)\u001b[0m\u001b[0;34m\u001b[0m\u001b[0m\n\u001b[0m\u001b[1;32m   2676\u001b[0m         \u001b[0;32mreturn\u001b[0m \u001b[0mfetched\u001b[0m\u001b[0;34m[\u001b[0m\u001b[0;34m:\u001b[0m\u001b[0mlen\u001b[0m\u001b[0;34m(\u001b[0m\u001b[0mself\u001b[0m\u001b[0;34m.\u001b[0m\u001b[0moutputs\u001b[0m\u001b[0;34m)\u001b[0m\u001b[0;34m]\u001b[0m\u001b[0;34m\u001b[0m\u001b[0m\n\u001b[1;32m   2677\u001b[0m \u001b[0;34m\u001b[0m\u001b[0m\n",
      "\u001b[0;32m~/anaconda3/lib/python3.6/site-packages/tensorflow/python/client/session.py\u001b[0m in \u001b[0;36m__call__\u001b[0;34m(self, *args, **kwargs)\u001b[0m\n\u001b[1;32m   1397\u001b[0m           ret = tf_session.TF_SessionRunCallable(\n\u001b[1;32m   1398\u001b[0m               \u001b[0mself\u001b[0m\u001b[0;34m.\u001b[0m\u001b[0m_session\u001b[0m\u001b[0;34m.\u001b[0m\u001b[0m_session\u001b[0m\u001b[0;34m,\u001b[0m \u001b[0mself\u001b[0m\u001b[0;34m.\u001b[0m\u001b[0m_handle\u001b[0m\u001b[0;34m,\u001b[0m \u001b[0margs\u001b[0m\u001b[0;34m,\u001b[0m \u001b[0mstatus\u001b[0m\u001b[0;34m,\u001b[0m\u001b[0;34m\u001b[0m\u001b[0m\n\u001b[0;32m-> 1399\u001b[0;31m               run_metadata_ptr)\n\u001b[0m\u001b[1;32m   1400\u001b[0m         \u001b[0;32mif\u001b[0m \u001b[0mrun_metadata\u001b[0m\u001b[0;34m:\u001b[0m\u001b[0;34m\u001b[0m\u001b[0m\n\u001b[1;32m   1401\u001b[0m           \u001b[0mproto_data\u001b[0m \u001b[0;34m=\u001b[0m \u001b[0mtf_session\u001b[0m\u001b[0;34m.\u001b[0m\u001b[0mTF_GetBuffer\u001b[0m\u001b[0;34m(\u001b[0m\u001b[0mrun_metadata_ptr\u001b[0m\u001b[0;34m)\u001b[0m\u001b[0;34m\u001b[0m\u001b[0m\n",
      "\u001b[0;31mKeyboardInterrupt\u001b[0m: "
     ]
    }
   ],
   "source": [
    "estimator.fit(x_train_very_small, y_train_very_small)"
   ]
  },
  {
   "cell_type": "code",
   "execution_count": 309,
   "metadata": {},
   "outputs": [],
   "source": [
    "estimator.set_params(verbose=0)\n",
    "y_pred = [0] * len(test_sequences)\n",
    "for (i, sequence) in enumerate(test_sequences):\n",
    "    if len(sequence) > 10:\n",
    "        y_pred[i] = estimator.predict(np.array([sequence[-10:]]))"
   ]
  },
  {
   "cell_type": "code",
   "execution_count": 272,
   "metadata": {},
   "outputs": [
    {
     "name": "stdout",
     "output_type": "stream",
     "text": [
      "(3346887, 10)\n",
      "(3346887,)\n"
     ]
    }
   ],
   "source": [
    "mask = np.all(a=x_train < 1000000000, axis=1)\n",
    "x_train_small = x_train[mask]\n",
    "y_train_small = y_train[mask]\n",
    "print(x_train_small.shape)\n",
    "print(y_train_small.shape)"
   ]
  },
  {
   "cell_type": "code",
   "execution_count": null,
   "metadata": {},
   "outputs": [],
   "source": []
  },
  {
   "cell_type": "code",
   "execution_count": null,
   "metadata": {},
   "outputs": [],
   "source": []
  },
  {
   "cell_type": "code",
   "execution_count": null,
   "metadata": {},
   "outputs": [],
   "source": []
  },
  {
   "cell_type": "code",
   "execution_count": 1,
   "metadata": {},
   "outputs": [
    {
     "name": "stderr",
     "output_type": "stream",
     "text": [
      "Using TensorFlow backend.\n"
     ]
    }
   ],
   "source": [
    "import keras\n",
    "import pandas as pd\n",
    "import numpy as np\n",
    "from keras.models import Sequential\n",
    "from keras.layers import SimpleRNN, Dense, Flatten\n",
    "from time import time\n",
    "import math"
   ]
  },
  {
   "cell_type": "code",
   "execution_count": 2,
   "metadata": {},
   "outputs": [],
   "source": [
    "data = pd.read_csv('train.csv')\n",
    "strs = data['Sequence']\n",
    "sequences = []\n",
    "for line in strs:\n",
    "    sequences.append([int(i) for i in line.split(',')])\n",
    "test_data = pd.read_csv('test.csv')\n",
    "ids = np.array(test_data['Id'])\n",
    "strs = test_data['Sequence']\n",
    "test_sequences = []\n",
    "for line in strs:\n",
    "    test_sequences.append([int(i) for i in line.split(',')])\n",
    "sequences = np.array(sequences)\n",
    "test_sequences = np.array(test_sequences)\n",
    "data_size = 19000\n",
    "y_pred = [0] * data_size"
   ]
  },
  {
   "cell_type": "code",
   "execution_count": 3,
   "metadata": {},
   "outputs": [],
   "source": [
    "global_most_possibles = {}\n",
    "def markov(depth):\n",
    "    for cur_depth in range(0, depth + 1):\n",
    "        distributions = {}\n",
    "        most_possibles = {}\n",
    "        for sequence in np.hstack((sequences, test_sequences)):\n",
    "            for i in range(0, len(sequence) - cur_depth):\n",
    "                cur_tuple_prefix = tuple(sequence[i:(i + cur_depth)])\n",
    "                next_item = sequence[i + cur_depth]\n",
    "                if cur_tuple_prefix in distributions:\n",
    "                    distribution = distributions[cur_tuple_prefix]\n",
    "                    if next_item in distribution:\n",
    "                        distribution[next_item] += 1\n",
    "                    else:\n",
    "                        distribution[next_item] = 1                        \n",
    "                else:\n",
    "                    distributions[cur_tuple_prefix] = {next_item: 1}\n",
    "        for (prefix, distribution) in distributions.items():\n",
    "            most_possibles[prefix] = max(distribution.items(), key=lambda entry : entry[1])[0]\n",
    "        global_most_possibles[cur_depth] = most_possibles\n",
    "        \n",
    "def handle_markov(sequence, depth):\n",
    "    most_possibles = global_most_possibles[depth]\n",
    "    length = len(sequence)\n",
    "    if length >= depth:\n",
    "        prefix = tuple(sequence[(length - depth):])\n",
    "        if prefix in most_possibles:\n",
    "            return most_possibles[prefix]\n",
    "    return None\n",
    "\n",
    "depth = 2\n",
    "markov(depth)"
   ]
  },
  {
   "cell_type": "code",
   "execution_count": 4,
   "metadata": {},
   "outputs": [
    {
     "name": "stdout",
     "output_type": "stream",
     "text": [
      "WARNING:tensorflow:From /Users/zayankov/.ml/lib/python3.7/site-packages/tensorflow/python/framework/op_def_library.py:263: colocate_with (from tensorflow.python.framework.ops) is deprecated and will be removed in a future version.\n",
      "Instructions for updating:\n",
      "Colocations handled automatically by placer.\n",
      "WARNING:tensorflow:From /Users/zayankov/.ml/lib/python3.7/site-packages/tensorflow/python/ops/math_ops.py:3066: to_int32 (from tensorflow.python.ops.math_ops) is deprecated and will be removed in a future version.\n",
      "Instructions for updating:\n",
      "Use tf.cast instead.\n"
     ]
    },
    {
     "ename": "KeyboardInterrupt",
     "evalue": "",
     "output_type": "error",
     "traceback": [
      "\u001b[0;31m---------------------------------------------------------------------------\u001b[0m",
      "\u001b[0;31mKeyboardInterrupt\u001b[0m                         Traceback (most recent call last)",
      "\u001b[0;32m<ipython-input-4-27abcb9fa760>\u001b[0m in \u001b[0;36m<module>\u001b[0;34m\u001b[0m\n\u001b[1;32m     20\u001b[0m         \u001b[0mmodel\u001b[0m\u001b[0;34m.\u001b[0m\u001b[0madd\u001b[0m\u001b[0;34m(\u001b[0m\u001b[0mDense\u001b[0m\u001b[0;34m(\u001b[0m\u001b[0;36m1\u001b[0m\u001b[0;34m)\u001b[0m\u001b[0;34m)\u001b[0m\u001b[0;34m\u001b[0m\u001b[0;34m\u001b[0m\u001b[0m\n\u001b[1;32m     21\u001b[0m         \u001b[0mmodel\u001b[0m\u001b[0;34m.\u001b[0m\u001b[0mcompile\u001b[0m\u001b[0;34m(\u001b[0m\u001b[0moptimizer\u001b[0m\u001b[0;34m=\u001b[0m\u001b[0;34m'sgd'\u001b[0m\u001b[0;34m,\u001b[0m \u001b[0mloss\u001b[0m\u001b[0;34m=\u001b[0m\u001b[0;34m'mean_squared_logarithmic_error'\u001b[0m\u001b[0;34m,\u001b[0m \u001b[0mmetrics\u001b[0m\u001b[0;34m=\u001b[0m\u001b[0;34m[\u001b[0m\u001b[0;34m'accuracy'\u001b[0m\u001b[0;34m]\u001b[0m\u001b[0;34m)\u001b[0m\u001b[0;34m\u001b[0m\u001b[0;34m\u001b[0m\u001b[0m\n\u001b[0;32m---> 22\u001b[0;31m         \u001b[0mmodel\u001b[0m\u001b[0;34m.\u001b[0m\u001b[0mfit\u001b[0m\u001b[0;34m(\u001b[0m\u001b[0mx_train\u001b[0m\u001b[0;34m,\u001b[0m \u001b[0my_train\u001b[0m\u001b[0;34m,\u001b[0m \u001b[0mepochs\u001b[0m\u001b[0;34m=\u001b[0m\u001b[0;36m200\u001b[0m\u001b[0;34m,\u001b[0m \u001b[0mverbose\u001b[0m\u001b[0;34m=\u001b[0m\u001b[0;36m0\u001b[0m\u001b[0;34m)\u001b[0m\u001b[0;34m\u001b[0m\u001b[0;34m\u001b[0m\u001b[0m\n\u001b[0m\u001b[1;32m     23\u001b[0m         \u001b[0my_pred\u001b[0m\u001b[0;34m[\u001b[0m\u001b[0mj\u001b[0m\u001b[0;34m]\u001b[0m \u001b[0;34m=\u001b[0m \u001b[0mint\u001b[0m\u001b[0;34m(\u001b[0m\u001b[0mmodel\u001b[0m\u001b[0;34m.\u001b[0m\u001b[0mpredict\u001b[0m\u001b[0;34m(\u001b[0m\u001b[0mnp\u001b[0m\u001b[0;34m.\u001b[0m\u001b[0marray\u001b[0m\u001b[0;34m(\u001b[0m\u001b[0msequence\u001b[0m\u001b[0;34m[\u001b[0m\u001b[0;34m-\u001b[0m\u001b[0mn_train\u001b[0m\u001b[0;34m:\u001b[0m\u001b[0;34m]\u001b[0m\u001b[0;34m)\u001b[0m\u001b[0;34m.\u001b[0m\u001b[0mreshape\u001b[0m\u001b[0;34m(\u001b[0m\u001b[0;34m-\u001b[0m\u001b[0;36m1\u001b[0m\u001b[0;34m,\u001b[0m \u001b[0;36m1\u001b[0m\u001b[0;34m,\u001b[0m \u001b[0mn_train\u001b[0m\u001b[0;34m)\u001b[0m\u001b[0;34m)\u001b[0m\u001b[0;34m)\u001b[0m\u001b[0;34m\u001b[0m\u001b[0;34m\u001b[0m\u001b[0m\n\u001b[1;32m     24\u001b[0m     \u001b[0;32mexcept\u001b[0m \u001b[0mException\u001b[0m \u001b[0;32mas\u001b[0m \u001b[0me\u001b[0m\u001b[0;34m:\u001b[0m\u001b[0;34m\u001b[0m\u001b[0;34m\u001b[0m\u001b[0m\n",
      "\u001b[0;32m~/.ml/lib/python3.7/site-packages/keras/engine/training.py\u001b[0m in \u001b[0;36mfit\u001b[0;34m(self, x, y, batch_size, epochs, verbose, callbacks, validation_split, validation_data, shuffle, class_weight, sample_weight, initial_epoch, steps_per_epoch, validation_steps, **kwargs)\u001b[0m\n\u001b[1;32m   1037\u001b[0m                                         \u001b[0minitial_epoch\u001b[0m\u001b[0;34m=\u001b[0m\u001b[0minitial_epoch\u001b[0m\u001b[0;34m,\u001b[0m\u001b[0;34m\u001b[0m\u001b[0;34m\u001b[0m\u001b[0m\n\u001b[1;32m   1038\u001b[0m                                         \u001b[0msteps_per_epoch\u001b[0m\u001b[0;34m=\u001b[0m\u001b[0msteps_per_epoch\u001b[0m\u001b[0;34m,\u001b[0m\u001b[0;34m\u001b[0m\u001b[0;34m\u001b[0m\u001b[0m\n\u001b[0;32m-> 1039\u001b[0;31m                                         validation_steps=validation_steps)\n\u001b[0m\u001b[1;32m   1040\u001b[0m \u001b[0;34m\u001b[0m\u001b[0m\n\u001b[1;32m   1041\u001b[0m     def evaluate(self, x=None, y=None,\n",
      "\u001b[0;32m~/.ml/lib/python3.7/site-packages/keras/engine/training_arrays.py\u001b[0m in \u001b[0;36mfit_loop\u001b[0;34m(model, f, ins, out_labels, batch_size, epochs, verbose, callbacks, val_f, val_ins, shuffle, callback_metrics, initial_epoch, steps_per_epoch, validation_steps)\u001b[0m\n\u001b[1;32m    197\u001b[0m                     \u001b[0mins_batch\u001b[0m\u001b[0;34m[\u001b[0m\u001b[0mi\u001b[0m\u001b[0;34m]\u001b[0m \u001b[0;34m=\u001b[0m \u001b[0mins_batch\u001b[0m\u001b[0;34m[\u001b[0m\u001b[0mi\u001b[0m\u001b[0;34m]\u001b[0m\u001b[0;34m.\u001b[0m\u001b[0mtoarray\u001b[0m\u001b[0;34m(\u001b[0m\u001b[0;34m)\u001b[0m\u001b[0;34m\u001b[0m\u001b[0;34m\u001b[0m\u001b[0m\n\u001b[1;32m    198\u001b[0m \u001b[0;34m\u001b[0m\u001b[0m\n\u001b[0;32m--> 199\u001b[0;31m                 \u001b[0mouts\u001b[0m \u001b[0;34m=\u001b[0m \u001b[0mf\u001b[0m\u001b[0;34m(\u001b[0m\u001b[0mins_batch\u001b[0m\u001b[0;34m)\u001b[0m\u001b[0;34m\u001b[0m\u001b[0;34m\u001b[0m\u001b[0m\n\u001b[0m\u001b[1;32m    200\u001b[0m                 \u001b[0mouts\u001b[0m \u001b[0;34m=\u001b[0m \u001b[0mto_list\u001b[0m\u001b[0;34m(\u001b[0m\u001b[0mouts\u001b[0m\u001b[0;34m)\u001b[0m\u001b[0;34m\u001b[0m\u001b[0;34m\u001b[0m\u001b[0m\n\u001b[1;32m    201\u001b[0m                 \u001b[0;32mfor\u001b[0m \u001b[0ml\u001b[0m\u001b[0;34m,\u001b[0m \u001b[0mo\u001b[0m \u001b[0;32min\u001b[0m \u001b[0mzip\u001b[0m\u001b[0;34m(\u001b[0m\u001b[0mout_labels\u001b[0m\u001b[0;34m,\u001b[0m \u001b[0mouts\u001b[0m\u001b[0;34m)\u001b[0m\u001b[0;34m:\u001b[0m\u001b[0;34m\u001b[0m\u001b[0;34m\u001b[0m\u001b[0m\n",
      "\u001b[0;32m~/.ml/lib/python3.7/site-packages/keras/backend/tensorflow_backend.py\u001b[0m in \u001b[0;36m__call__\u001b[0;34m(self, inputs)\u001b[0m\n\u001b[1;32m   2695\u001b[0m \u001b[0;34m\u001b[0m\u001b[0m\n\u001b[1;32m   2696\u001b[0m     \u001b[0;32mdef\u001b[0m \u001b[0m__call__\u001b[0m\u001b[0;34m(\u001b[0m\u001b[0mself\u001b[0m\u001b[0;34m,\u001b[0m \u001b[0minputs\u001b[0m\u001b[0;34m)\u001b[0m\u001b[0;34m:\u001b[0m\u001b[0;34m\u001b[0m\u001b[0;34m\u001b[0m\u001b[0m\n\u001b[0;32m-> 2697\u001b[0;31m         \u001b[0;32mif\u001b[0m \u001b[0mhasattr\u001b[0m\u001b[0;34m(\u001b[0m\u001b[0mget_session\u001b[0m\u001b[0;34m(\u001b[0m\u001b[0;34m)\u001b[0m\u001b[0;34m,\u001b[0m \u001b[0;34m'_make_callable_from_options'\u001b[0m\u001b[0;34m)\u001b[0m\u001b[0;34m:\u001b[0m\u001b[0;34m\u001b[0m\u001b[0;34m\u001b[0m\u001b[0m\n\u001b[0m\u001b[1;32m   2698\u001b[0m             \u001b[0;32mif\u001b[0m \u001b[0mpy_any\u001b[0m\u001b[0;34m(\u001b[0m\u001b[0mis_sparse\u001b[0m\u001b[0;34m(\u001b[0m\u001b[0mx\u001b[0m\u001b[0;34m)\u001b[0m \u001b[0;32mfor\u001b[0m \u001b[0mx\u001b[0m \u001b[0;32min\u001b[0m \u001b[0mself\u001b[0m\u001b[0;34m.\u001b[0m\u001b[0minputs\u001b[0m\u001b[0;34m)\u001b[0m\u001b[0;34m:\u001b[0m\u001b[0;34m\u001b[0m\u001b[0;34m\u001b[0m\u001b[0m\n\u001b[1;32m   2699\u001b[0m                 \u001b[0;32mif\u001b[0m \u001b[0mpy_any\u001b[0m\u001b[0;34m(\u001b[0m\u001b[0mis_tensor\u001b[0m\u001b[0;34m(\u001b[0m\u001b[0mx\u001b[0m\u001b[0;34m)\u001b[0m \u001b[0;32mfor\u001b[0m \u001b[0mx\u001b[0m \u001b[0;32min\u001b[0m \u001b[0minputs\u001b[0m\u001b[0;34m)\u001b[0m\u001b[0;34m:\u001b[0m\u001b[0;34m\u001b[0m\u001b[0;34m\u001b[0m\u001b[0m\n",
      "\u001b[0;32m~/.ml/lib/python3.7/site-packages/keras/backend/tensorflow_backend.py\u001b[0m in \u001b[0;36mget_session\u001b[0;34m()\u001b[0m\n\u001b[1;32m    204\u001b[0m                     \u001b[0mv\u001b[0m\u001b[0;34m.\u001b[0m\u001b[0m_keras_initialized\u001b[0m \u001b[0;34m=\u001b[0m \u001b[0;32mTrue\u001b[0m\u001b[0;34m\u001b[0m\u001b[0;34m\u001b[0m\u001b[0m\n\u001b[1;32m    205\u001b[0m                 \u001b[0;32mif\u001b[0m \u001b[0muninitialized_vars\u001b[0m\u001b[0;34m:\u001b[0m\u001b[0;34m\u001b[0m\u001b[0;34m\u001b[0m\u001b[0m\n\u001b[0;32m--> 206\u001b[0;31m                     \u001b[0msession\u001b[0m\u001b[0;34m.\u001b[0m\u001b[0mrun\u001b[0m\u001b[0;34m(\u001b[0m\u001b[0mtf\u001b[0m\u001b[0;34m.\u001b[0m\u001b[0mvariables_initializer\u001b[0m\u001b[0;34m(\u001b[0m\u001b[0muninitialized_vars\u001b[0m\u001b[0;34m)\u001b[0m\u001b[0;34m)\u001b[0m\u001b[0;34m\u001b[0m\u001b[0;34m\u001b[0m\u001b[0m\n\u001b[0m\u001b[1;32m    207\u001b[0m     \u001b[0;31m# hack for list_devices() function.\u001b[0m\u001b[0;34m\u001b[0m\u001b[0;34m\u001b[0m\u001b[0;34m\u001b[0m\u001b[0m\n\u001b[1;32m    208\u001b[0m     \u001b[0;31m# list_devices() function is not available under tensorflow r1.3.\u001b[0m\u001b[0;34m\u001b[0m\u001b[0;34m\u001b[0m\u001b[0;34m\u001b[0m\u001b[0m\n",
      "\u001b[0;32m~/.ml/lib/python3.7/site-packages/tensorflow/python/client/session.py\u001b[0m in \u001b[0;36mrun\u001b[0;34m(self, fetches, feed_dict, options, run_metadata)\u001b[0m\n\u001b[1;32m    927\u001b[0m     \u001b[0;32mtry\u001b[0m\u001b[0;34m:\u001b[0m\u001b[0;34m\u001b[0m\u001b[0;34m\u001b[0m\u001b[0m\n\u001b[1;32m    928\u001b[0m       result = self._run(None, fetches, feed_dict, options_ptr,\n\u001b[0;32m--> 929\u001b[0;31m                          run_metadata_ptr)\n\u001b[0m\u001b[1;32m    930\u001b[0m       \u001b[0;32mif\u001b[0m \u001b[0mrun_metadata\u001b[0m\u001b[0;34m:\u001b[0m\u001b[0;34m\u001b[0m\u001b[0;34m\u001b[0m\u001b[0m\n\u001b[1;32m    931\u001b[0m         \u001b[0mproto_data\u001b[0m \u001b[0;34m=\u001b[0m \u001b[0mtf_session\u001b[0m\u001b[0;34m.\u001b[0m\u001b[0mTF_GetBuffer\u001b[0m\u001b[0;34m(\u001b[0m\u001b[0mrun_metadata_ptr\u001b[0m\u001b[0;34m)\u001b[0m\u001b[0;34m\u001b[0m\u001b[0;34m\u001b[0m\u001b[0m\n",
      "\u001b[0;32m~/.ml/lib/python3.7/site-packages/tensorflow/python/client/session.py\u001b[0m in \u001b[0;36m_run\u001b[0;34m(self, handle, fetches, feed_dict, options, run_metadata)\u001b[0m\n\u001b[1;32m   1150\u001b[0m     \u001b[0;32mif\u001b[0m \u001b[0mfinal_fetches\u001b[0m \u001b[0;32mor\u001b[0m \u001b[0mfinal_targets\u001b[0m \u001b[0;32mor\u001b[0m \u001b[0;34m(\u001b[0m\u001b[0mhandle\u001b[0m \u001b[0;32mand\u001b[0m \u001b[0mfeed_dict_tensor\u001b[0m\u001b[0;34m)\u001b[0m\u001b[0;34m:\u001b[0m\u001b[0;34m\u001b[0m\u001b[0;34m\u001b[0m\u001b[0m\n\u001b[1;32m   1151\u001b[0m       results = self._do_run(handle, final_targets, final_fetches,\n\u001b[0;32m-> 1152\u001b[0;31m                              feed_dict_tensor, options, run_metadata)\n\u001b[0m\u001b[1;32m   1153\u001b[0m     \u001b[0;32melse\u001b[0m\u001b[0;34m:\u001b[0m\u001b[0;34m\u001b[0m\u001b[0;34m\u001b[0m\u001b[0m\n\u001b[1;32m   1154\u001b[0m       \u001b[0mresults\u001b[0m \u001b[0;34m=\u001b[0m \u001b[0;34m[\u001b[0m\u001b[0;34m]\u001b[0m\u001b[0;34m\u001b[0m\u001b[0;34m\u001b[0m\u001b[0m\n",
      "\u001b[0;32m~/.ml/lib/python3.7/site-packages/tensorflow/python/client/session.py\u001b[0m in \u001b[0;36m_do_run\u001b[0;34m(self, handle, target_list, fetch_list, feed_dict, options, run_metadata)\u001b[0m\n\u001b[1;32m   1326\u001b[0m     \u001b[0;32mif\u001b[0m \u001b[0mhandle\u001b[0m \u001b[0;32mis\u001b[0m \u001b[0;32mNone\u001b[0m\u001b[0;34m:\u001b[0m\u001b[0;34m\u001b[0m\u001b[0;34m\u001b[0m\u001b[0m\n\u001b[1;32m   1327\u001b[0m       return self._do_call(_run_fn, feeds, fetches, targets, options,\n\u001b[0;32m-> 1328\u001b[0;31m                            run_metadata)\n\u001b[0m\u001b[1;32m   1329\u001b[0m     \u001b[0;32melse\u001b[0m\u001b[0;34m:\u001b[0m\u001b[0;34m\u001b[0m\u001b[0;34m\u001b[0m\u001b[0m\n\u001b[1;32m   1330\u001b[0m       \u001b[0;32mreturn\u001b[0m \u001b[0mself\u001b[0m\u001b[0;34m.\u001b[0m\u001b[0m_do_call\u001b[0m\u001b[0;34m(\u001b[0m\u001b[0m_prun_fn\u001b[0m\u001b[0;34m,\u001b[0m \u001b[0mhandle\u001b[0m\u001b[0;34m,\u001b[0m \u001b[0mfeeds\u001b[0m\u001b[0;34m,\u001b[0m \u001b[0mfetches\u001b[0m\u001b[0;34m)\u001b[0m\u001b[0;34m\u001b[0m\u001b[0;34m\u001b[0m\u001b[0m\n",
      "\u001b[0;32m~/.ml/lib/python3.7/site-packages/tensorflow/python/client/session.py\u001b[0m in \u001b[0;36m_do_call\u001b[0;34m(self, fn, *args)\u001b[0m\n\u001b[1;32m   1332\u001b[0m   \u001b[0;32mdef\u001b[0m \u001b[0m_do_call\u001b[0m\u001b[0;34m(\u001b[0m\u001b[0mself\u001b[0m\u001b[0;34m,\u001b[0m \u001b[0mfn\u001b[0m\u001b[0;34m,\u001b[0m \u001b[0;34m*\u001b[0m\u001b[0margs\u001b[0m\u001b[0;34m)\u001b[0m\u001b[0;34m:\u001b[0m\u001b[0;34m\u001b[0m\u001b[0;34m\u001b[0m\u001b[0m\n\u001b[1;32m   1333\u001b[0m     \u001b[0;32mtry\u001b[0m\u001b[0;34m:\u001b[0m\u001b[0;34m\u001b[0m\u001b[0;34m\u001b[0m\u001b[0m\n\u001b[0;32m-> 1334\u001b[0;31m       \u001b[0;32mreturn\u001b[0m \u001b[0mfn\u001b[0m\u001b[0;34m(\u001b[0m\u001b[0;34m*\u001b[0m\u001b[0margs\u001b[0m\u001b[0;34m)\u001b[0m\u001b[0;34m\u001b[0m\u001b[0;34m\u001b[0m\u001b[0m\n\u001b[0m\u001b[1;32m   1335\u001b[0m     \u001b[0;32mexcept\u001b[0m \u001b[0merrors\u001b[0m\u001b[0;34m.\u001b[0m\u001b[0mOpError\u001b[0m \u001b[0;32mas\u001b[0m \u001b[0me\u001b[0m\u001b[0;34m:\u001b[0m\u001b[0;34m\u001b[0m\u001b[0;34m\u001b[0m\u001b[0m\n\u001b[1;32m   1336\u001b[0m       \u001b[0mmessage\u001b[0m \u001b[0;34m=\u001b[0m \u001b[0mcompat\u001b[0m\u001b[0;34m.\u001b[0m\u001b[0mas_text\u001b[0m\u001b[0;34m(\u001b[0m\u001b[0me\u001b[0m\u001b[0;34m.\u001b[0m\u001b[0mmessage\u001b[0m\u001b[0;34m)\u001b[0m\u001b[0;34m\u001b[0m\u001b[0;34m\u001b[0m\u001b[0m\n",
      "\u001b[0;32m~/.ml/lib/python3.7/site-packages/tensorflow/python/client/session.py\u001b[0m in \u001b[0;36m_run_fn\u001b[0;34m(feed_dict, fetch_list, target_list, options, run_metadata)\u001b[0m\n\u001b[1;32m   1317\u001b[0m       \u001b[0mself\u001b[0m\u001b[0;34m.\u001b[0m\u001b[0m_extend_graph\u001b[0m\u001b[0;34m(\u001b[0m\u001b[0;34m)\u001b[0m\u001b[0;34m\u001b[0m\u001b[0;34m\u001b[0m\u001b[0m\n\u001b[1;32m   1318\u001b[0m       return self._call_tf_sessionrun(\n\u001b[0;32m-> 1319\u001b[0;31m           options, feed_dict, fetch_list, target_list, run_metadata)\n\u001b[0m\u001b[1;32m   1320\u001b[0m \u001b[0;34m\u001b[0m\u001b[0m\n\u001b[1;32m   1321\u001b[0m     \u001b[0;32mdef\u001b[0m \u001b[0m_prun_fn\u001b[0m\u001b[0;34m(\u001b[0m\u001b[0mhandle\u001b[0m\u001b[0;34m,\u001b[0m \u001b[0mfeed_dict\u001b[0m\u001b[0;34m,\u001b[0m \u001b[0mfetch_list\u001b[0m\u001b[0;34m)\u001b[0m\u001b[0;34m:\u001b[0m\u001b[0;34m\u001b[0m\u001b[0;34m\u001b[0m\u001b[0m\n",
      "\u001b[0;32m~/.ml/lib/python3.7/site-packages/tensorflow/python/client/session.py\u001b[0m in \u001b[0;36m_call_tf_sessionrun\u001b[0;34m(self, options, feed_dict, fetch_list, target_list, run_metadata)\u001b[0m\n\u001b[1;32m   1405\u001b[0m     return tf_session.TF_SessionRun_wrapper(\n\u001b[1;32m   1406\u001b[0m         \u001b[0mself\u001b[0m\u001b[0;34m.\u001b[0m\u001b[0m_session\u001b[0m\u001b[0;34m,\u001b[0m \u001b[0moptions\u001b[0m\u001b[0;34m,\u001b[0m \u001b[0mfeed_dict\u001b[0m\u001b[0;34m,\u001b[0m \u001b[0mfetch_list\u001b[0m\u001b[0;34m,\u001b[0m \u001b[0mtarget_list\u001b[0m\u001b[0;34m,\u001b[0m\u001b[0;34m\u001b[0m\u001b[0;34m\u001b[0m\u001b[0m\n\u001b[0;32m-> 1407\u001b[0;31m         run_metadata)\n\u001b[0m\u001b[1;32m   1408\u001b[0m \u001b[0;34m\u001b[0m\u001b[0m\n\u001b[1;32m   1409\u001b[0m   \u001b[0;32mdef\u001b[0m \u001b[0m_call_tf_sessionprun\u001b[0m\u001b[0;34m(\u001b[0m\u001b[0mself\u001b[0m\u001b[0;34m,\u001b[0m \u001b[0mhandle\u001b[0m\u001b[0;34m,\u001b[0m \u001b[0mfeed_dict\u001b[0m\u001b[0;34m,\u001b[0m \u001b[0mfetch_list\u001b[0m\u001b[0;34m)\u001b[0m\u001b[0;34m:\u001b[0m\u001b[0;34m\u001b[0m\u001b[0;34m\u001b[0m\u001b[0m\n",
      "\u001b[0;31mKeyboardInterrupt\u001b[0m: "
     ]
    }
   ],
   "source": [
    "exceptions = 0\n",
    "for (j, sequence) in enumerate(test_sequences[38000:57000]):\n",
    "    try:\n",
    "        if len(sequence) < 3:\n",
    "            y_pred[j] = handle_markov(sequence, len(sequence), )\n",
    "            continue\n",
    "        n_train = math.ceil(len(sequence) / 2)\n",
    "        if len(sequence) >= 20:\n",
    "            n_train = 10\n",
    "        x_train = []\n",
    "        y_train = []\n",
    "        for i in range(len(sequence) - n_train - 1):\n",
    "            x_train.append(sequence[i:i+n_train])\n",
    "            y_train.append(sequence[i+n_train])\n",
    "        x_train = np.array(x_train).reshape(-1, 1, n_train)\n",
    "        y_train = np.array(y_train)\n",
    "        model = Sequential()\n",
    "        model.add(SimpleRNN(n_train, activation='relu', kernel_initializer='normal', return_sequences=True))\n",
    "        model.add(Flatten())\n",
    "        model.add(Dense(1))\n",
    "        model.compile(optimizer='sgd', loss='mean_squared_logarithmic_error', metrics=['accuracy'])\n",
    "        model.fit(x_train, y_train, epochs=200, verbose=0)\n",
    "        y_pred[j] = int(model.predict(np.array(sequence[-n_train:]).reshape(-1, 1, n_train)))\n",
    "    except Exception as e:\n",
    "        exceptions += 1\n",
    "\n",
    "nans = 0\n",
    "with open('submission_part3.csv', 'w') as f:\n",
    "    f.write('Id,Last\\n')\n",
    "    for i, x in enumerate(y_pred):\n",
    "        if math.isnan(x) or math.isinf(x):\n",
    "            x = 0\n",
    "            nans += 1\n",
    "        f.write('%d,%d\\n' % (ids[i], x))\n",
    "print('nans: ', nans)\n",
    "print('exceptions: ', exceptions)"
   ]
  },
  {
   "cell_type": "code",
   "execution_count": null,
   "metadata": {},
   "outputs": [],
   "source": []
  }
 ],
 "metadata": {
  "kernelspec": {
   "display_name": "Python 3",
   "language": "python",
   "name": "python3"
  },
  "language_info": {
   "codemirror_mode": {
    "name": "ipython",
    "version": 3
   },
   "file_extension": ".py",
   "mimetype": "text/x-python",
   "name": "python",
   "nbconvert_exporter": "python",
   "pygments_lexer": "ipython3",
   "version": "3.7.2"
  }
 },
 "nbformat": 4,
 "nbformat_minor": 2
}
